{
 "cells": [
  {
   "cell_type": "markdown",
   "id": "3cfb7479",
   "metadata": {},
   "source": [
    "\n",
    "                                                                                                   Ganeshan M\n",
    "                                                                                             AM.EN.U4CSE19320\n"
   ]
  },
  {
   "cell_type": "markdown",
   "id": "eef9c623",
   "metadata": {},
   "source": [
    "# Phase 2"
   ]
  },
  {
   "cell_type": "markdown",
   "id": "d44c8a8b",
   "metadata": {},
   "source": [
    "## Problem Definition"
   ]
  },
  {
   "cell_type": "markdown",
   "id": "d41d1485",
   "metadata": {},
   "source": [
    "<i>Banks play a crucial role in market economies. They decide who can get finance and on what terms and can make or break investment decisions. For markets and society to function, individuals and companies need access to credit. \n",
    "\n",
    "Credit scoring algorithms, which make a guess at the probability of default, are the method banks use to determine whether or not a loan should be granted. This competition requires participants to improve on the state of the art in credit scoring, by predicting the probability that somebody will experience financial distress in the next two years.\n",
    "\n",
    "The goal  is to build a model that borrowers can use to help make the best financial decisions.\n",
    "\n",
    "Improve on the state of the art in credit scoring by predicting the probability that somebody will experience financial distress in the next two years.</i>"
   ]
  },
  {
   "cell_type": "markdown",
   "id": "d5cc0493",
   "metadata": {},
   "source": [
    "## [GitHub](https://github.com/mganeshan29/Credit-Prediction-model)"
   ]
  },
  {
   "cell_type": "markdown",
   "id": "04c651c0",
   "metadata": {},
   "source": [
    "## Dataset"
   ]
  },
  {
   "cell_type": "markdown",
   "id": "c07ff3ac",
   "metadata": {},
   "source": [
    "#### Give Me Some Credit"
   ]
  },
  {
   "cell_type": "markdown",
   "id": "cdffe45a",
   "metadata": {},
   "source": [
    "<i>In this Model, credit scoring data sets from Kaggle competition\n",
    "called ‘Give me some credit’ is used to build classifiers\n",
    "\n",
    "Training dataset [cs-training.csv file](https://www.kaggle.com/brycecf/give-me-some-credit-dataset?select=cs-training.csv) which will be used for model training and test data [cs-test.csv file](https://www.kaggle.com/brycecf/give-me-some-credit-dataset?select=cs-test.csv) .</i>"
   ]
  },
  {
   "cell_type": "markdown",
   "id": "f0acee73",
   "metadata": {},
   "source": [
    "## Prepare Data"
   ]
  },
  {
   "cell_type": "markdown",
   "id": "c8c6f4d7",
   "metadata": {},
   "source": [
    "<i>In this part, the data and variables is done. Target ratio, variables\n",
    "values distributions are also be investigated. Null value analysis is done and null values in\n",
    "variables, filled with statistical approach to prevent them to influence modelling in a bad\n",
    "way.</i>\n",
    "\n",
    "\n",
    "<i>After the describing inputs, missing values are also investigated, and for 2 inputs\n",
    "(‘MonthlyIncome’ , ‘NumberOfDependents’) some missing values are observed. Handling\n",
    "with missing values is very important to create accurate models.</i>\n",
    "\n",
    "\n",
    "#### Data Dictionary :\n",
    "| Variable Name              | Description                                                                                                                                              | Type       |\n",
    "| :- |-------------: | :-:\n",
    "| SeriousDlqin2yrs                     | Person experienced 90 days past due delinquency or worse                                                                                                 | Y/N        |\n",
    "| RevolvingUtilizationOfUnsecuredLines | Total balance on credit cards and personal lines of credit except real estate and no installment debt like car loans divided by the sum of credit limits | percentage |\n",
    "| age                                  | Age of borrower in years                                                                                                                                 | integer    |\n",
    "| NumberOfTime30-59DaysPastDueNotWorse | Number of times borrower has been 30-59 days past due but no worse in the last 2 years.                                                                  | integer    |\n",
    "| DebtRatio                            | Monthly debt payments, alimony,living costs divided by monthy gross income                                                                               | percentage |\n",
    "| MonthlyIncome                        | Monthly income                                                                                                                                           | real       |\n",
    "| NumberOfOpenCreditLinesAndLoans      | Number of Open loans (installment like car loan or mortgage) and Lines of credit (e.g. credit cards)                                                     | integer    |\n",
    "| NumberOfTimes90DaysLate              | Number of times borrower has been 90 days or more past due.                                                                                              | integer    |\n",
    "| NumberRealEstateLoansOrLines         | Number of mortgage and real estate loans including home equity lines of credit                                                                           | integer    |\n",
    "| NumberOfTime60-89DaysPastDueNotWorse | Number of times borrower has been 60-89 days past due but no worse in the last 2 years.                                                                  | integer    |\n",
    "| NumberOfDependents                   | Number of dependents in family excluding themselves (spouse, children etc.)                                                                              | integer    |\n",
    "\n"
   ]
  },
  {
   "cell_type": "markdown",
   "id": "d01a8905",
   "metadata": {},
   "source": [
    "## Python packages"
   ]
  },
  {
   "cell_type": "markdown",
   "id": "40f98b22",
   "metadata": {},
   "source": [
    "\n",
    "### NumPy\n",
    "\n",
    "<i>NumPy is a well known general-purpose array-processing package. An extensive collection of high complexity mathematical functions make NumPy powerful to process large multi-dimensional arrays and matrices. NumPy is very useful for handling linear algebra, Fourier transforms, and random numbers.\n",
    "### Scikit-learn\n",
    "The Python library, Scikit-Learn, is built on top of the matplotlib, NumPy, and SciPy libraries. This Python ML library has several tools for data analysis and data mining tasks.\n",
    "\n",
    "### Pandas\n",
    "Pandas is a popular Python library for data analysis. It is not directly related to Machine Learning. As we know that the dataset must be prepared before training. In this case, Pandas comes handy as it was developed specifically for data extraction and preparation.\n",
    "### Matplotlib\n",
    "Matplotlib is a very popular Python library for data visualization. Like Pandas, it is not directly related to Machine Learning. It particularly comes in handy when a programmer wants to visualize the patterns in the data. It is a 2D plotting library used for creating 2D graphs and plots.\n",
    "### seaborn\n",
    "\n",
    "Seaborn is a library for making statistical graphs in Python. It is built on top of matplotlib and also integrated with pandas data structures.\n",
    "### Scikit-plot\n",
    "Scikit-plot is the result of an unartistic data scientist’s dreadful realization that visualization is one of the most crucial components in the data science process, not just a mere afterthought.\n",
    "</i>"
   ]
  },
  {
   "cell_type": "markdown",
   "id": "1b3f9e2f",
   "metadata": {},
   "source": [
    "## Importing Libraries"
   ]
  },
  {
   "cell_type": "code",
   "execution_count": 266,
   "id": "c91ea667",
   "metadata": {},
   "outputs": [],
   "source": [
    "import itertools\n",
    "import numpy as np\n",
    "import pandas as pd\n",
    "import matplotlib.pyplot as plt\n",
    "\n",
    "import scikitplot as skplt\n",
    "from sklearn import metrics\n",
    "import plotly.graph_objs as go\n",
    "from plotly.offline import iplot\n",
    "from sklearn.metrics import f1_score\n",
    "from sklearn.metrics import precision_score\n",
    "from sklearn.metrics import confusion_matrix\n",
    "\n",
    "from sklearn import model_selection  \n",
    "from sklearn.neighbors import KNeighborsClassifier\n",
    "from sklearn.naive_bayes import GaussianNB\n",
    "from sklearn.tree import DecisionTreeRegressor\n",
    "from sklearn.datasets import make_classification\n",
    "from sklearn.linear_model import LogisticRegression\n",
    "from sklearn.model_selection import train_test_split\n",
    "from sklearn.metrics import accuracy_score,confusion_matrix, roc_curve, auc, recall_score,roc_auc_score\n",
    "\n",
    "from sklearn.metrics import recall_score\n",
    "%matplotlib inline\n",
    "import warnings\n",
    "warnings.filterwarnings('ignore')"
   ]
  },
  {
   "cell_type": "markdown",
   "id": "c21f4be3",
   "metadata": {},
   "source": [
    "## Data analysis"
   ]
  },
  {
   "cell_type": "code",
   "execution_count": 267,
   "id": "bf9b3d84",
   "metadata": {},
   "outputs": [],
   "source": [
    "train_data = pd.read_csv(\"cs-training.csv\")\n",
    "test_data = pd.read_csv(\"cs-test.csv\")"
   ]
  },
  {
   "cell_type": "markdown",
   "id": "021cf734",
   "metadata": {},
   "source": [
    "### Review data"
   ]
  },
  {
   "cell_type": "code",
   "execution_count": 268,
   "id": "ac0a33c9",
   "metadata": {},
   "outputs": [
    {
     "name": "stdout",
     "output_type": "stream",
     "text": [
      "<bound method NDFrame.describe of         Unnamed: 0  SeriousDlqin2yrs  RevolvingUtilizationOfUnsecuredLines  \\\n",
      "0                1                 1                              0.766127   \n",
      "1                2                 0                              0.957151   \n",
      "2                3                 0                              0.658180   \n",
      "3                4                 0                              0.233810   \n",
      "4                5                 0                              0.907239   \n",
      "...            ...               ...                                   ...   \n",
      "149995      149996                 0                              0.040674   \n",
      "149996      149997                 0                              0.299745   \n",
      "149997      149998                 0                              0.246044   \n",
      "149998      149999                 0                              0.000000   \n",
      "149999      150000                 0                              0.850283   \n",
      "\n",
      "        age  NumberOfTime30-59DaysPastDueNotWorse    DebtRatio  MonthlyIncome  \\\n",
      "0        45                                     2     0.802982         9120.0   \n",
      "1        40                                     0     0.121876         2600.0   \n",
      "2        38                                     1     0.085113         3042.0   \n",
      "3        30                                     0     0.036050         3300.0   \n",
      "4        49                                     1     0.024926        63588.0   \n",
      "...     ...                                   ...          ...            ...   \n",
      "149995   74                                     0     0.225131         2100.0   \n",
      "149996   44                                     0     0.716562         5584.0   \n",
      "149997   58                                     0  3870.000000            NaN   \n",
      "149998   30                                     0     0.000000         5716.0   \n",
      "149999   64                                     0     0.249908         8158.0   \n",
      "\n",
      "        NumberOfOpenCreditLinesAndLoans  NumberOfTimes90DaysLate  \\\n",
      "0                                    13                        0   \n",
      "1                                     4                        0   \n",
      "2                                     2                        1   \n",
      "3                                     5                        0   \n",
      "4                                     7                        0   \n",
      "...                                 ...                      ...   \n",
      "149995                                4                        0   \n",
      "149996                                4                        0   \n",
      "149997                               18                        0   \n",
      "149998                                4                        0   \n",
      "149999                                8                        0   \n",
      "\n",
      "        NumberRealEstateLoansOrLines  NumberOfTime60-89DaysPastDueNotWorse  \\\n",
      "0                                  6                                     0   \n",
      "1                                  0                                     0   \n",
      "2                                  0                                     0   \n",
      "3                                  0                                     0   \n",
      "4                                  1                                     0   \n",
      "...                              ...                                   ...   \n",
      "149995                             1                                     0   \n",
      "149996                             1                                     0   \n",
      "149997                             1                                     0   \n",
      "149998                             0                                     0   \n",
      "149999                             2                                     0   \n",
      "\n",
      "        NumberOfDependents  \n",
      "0                      2.0  \n",
      "1                      1.0  \n",
      "2                      0.0  \n",
      "3                      0.0  \n",
      "4                      0.0  \n",
      "...                    ...  \n",
      "149995                 0.0  \n",
      "149996                 2.0  \n",
      "149997                 0.0  \n",
      "149998                 0.0  \n",
      "149999                 0.0  \n",
      "\n",
      "[150000 rows x 12 columns]>\n",
      "<bound method NDFrame.head of         Unnamed: 0  SeriousDlqin2yrs  RevolvingUtilizationOfUnsecuredLines  \\\n",
      "0                1                 1                              0.766127   \n",
      "1                2                 0                              0.957151   \n",
      "2                3                 0                              0.658180   \n",
      "3                4                 0                              0.233810   \n",
      "4                5                 0                              0.907239   \n",
      "...            ...               ...                                   ...   \n",
      "149995      149996                 0                              0.040674   \n",
      "149996      149997                 0                              0.299745   \n",
      "149997      149998                 0                              0.246044   \n",
      "149998      149999                 0                              0.000000   \n",
      "149999      150000                 0                              0.850283   \n",
      "\n",
      "        age  NumberOfTime30-59DaysPastDueNotWorse    DebtRatio  MonthlyIncome  \\\n",
      "0        45                                     2     0.802982         9120.0   \n",
      "1        40                                     0     0.121876         2600.0   \n",
      "2        38                                     1     0.085113         3042.0   \n",
      "3        30                                     0     0.036050         3300.0   \n",
      "4        49                                     1     0.024926        63588.0   \n",
      "...     ...                                   ...          ...            ...   \n",
      "149995   74                                     0     0.225131         2100.0   \n",
      "149996   44                                     0     0.716562         5584.0   \n",
      "149997   58                                     0  3870.000000            NaN   \n",
      "149998   30                                     0     0.000000         5716.0   \n",
      "149999   64                                     0     0.249908         8158.0   \n",
      "\n",
      "        NumberOfOpenCreditLinesAndLoans  NumberOfTimes90DaysLate  \\\n",
      "0                                    13                        0   \n",
      "1                                     4                        0   \n",
      "2                                     2                        1   \n",
      "3                                     5                        0   \n",
      "4                                     7                        0   \n",
      "...                                 ...                      ...   \n",
      "149995                                4                        0   \n",
      "149996                                4                        0   \n",
      "149997                               18                        0   \n",
      "149998                                4                        0   \n",
      "149999                                8                        0   \n",
      "\n",
      "        NumberRealEstateLoansOrLines  NumberOfTime60-89DaysPastDueNotWorse  \\\n",
      "0                                  6                                     0   \n",
      "1                                  0                                     0   \n",
      "2                                  0                                     0   \n",
      "3                                  0                                     0   \n",
      "4                                  1                                     0   \n",
      "...                              ...                                   ...   \n",
      "149995                             1                                     0   \n",
      "149996                             1                                     0   \n",
      "149997                             1                                     0   \n",
      "149998                             0                                     0   \n",
      "149999                             2                                     0   \n",
      "\n",
      "        NumberOfDependents  \n",
      "0                      2.0  \n",
      "1                      1.0  \n",
      "2                      0.0  \n",
      "3                      0.0  \n",
      "4                      0.0  \n",
      "...                    ...  \n",
      "149995                 0.0  \n",
      "149996                 2.0  \n",
      "149997                 0.0  \n",
      "149998                 0.0  \n",
      "149999                 0.0  \n",
      "\n",
      "[150000 rows x 12 columns]>\n"
     ]
    }
   ],
   "source": [
    "print(train_data.describe)\n",
    "print(train_data.head)"
   ]
  },
  {
   "cell_type": "code",
   "execution_count": 269,
   "id": "f6da35be",
   "metadata": {},
   "outputs": [
    {
     "data": {
      "text/plain": [
       "(150000, 12)"
      ]
     },
     "execution_count": 269,
     "metadata": {},
     "output_type": "execute_result"
    }
   ],
   "source": [
    "train_data.shape\n"
   ]
  },
  {
   "cell_type": "code",
   "execution_count": 270,
   "id": "50acf0de",
   "metadata": {},
   "outputs": [],
   "source": [
    "y = train_data.iloc[:,0].values #Taking first col (credit worthiness value)\n",
    "X = train_data.iloc[:, 1:11].values #Taking the rest of the cols"
   ]
  },
  {
   "cell_type": "markdown",
   "id": "fb3f8783",
   "metadata": {},
   "source": [
    "### Print columns headers of the dataset"
   ]
  },
  {
   "cell_type": "code",
   "execution_count": 271,
   "id": "c85352a3",
   "metadata": {},
   "outputs": [
    {
     "data": {
      "text/plain": [
       "Index(['Unnamed: 0', 'SeriousDlqin2yrs',\n",
       "       'RevolvingUtilizationOfUnsecuredLines', 'age',\n",
       "       'NumberOfTime30-59DaysPastDueNotWorse', 'DebtRatio', 'MonthlyIncome',\n",
       "       'NumberOfOpenCreditLinesAndLoans', 'NumberOfTimes90DaysLate',\n",
       "       'NumberRealEstateLoansOrLines', 'NumberOfTime60-89DaysPastDueNotWorse',\n",
       "       'NumberOfDependents'],\n",
       "      dtype='object')"
      ]
     },
     "execution_count": 271,
     "metadata": {},
     "output_type": "execute_result"
    }
   ],
   "source": [
    "train_data.columns"
   ]
  },
  {
   "cell_type": "markdown",
   "id": "66da44ba",
   "metadata": {},
   "source": [
    "### Drop lines with Missing data"
   ]
  },
  {
   "cell_type": "code",
   "execution_count": 272,
   "id": "a2de073c",
   "metadata": {},
   "outputs": [],
   "source": [
    "train_data.dropna(axis=1)\n",
    "cols_with_missing = [col for col in train_data.columns\n",
    "                         if train_data[col].isnull().any()]\n",
    "reduced_train_data = train_data.drop(cols_with_missing, axis=1)\n",
    "reduced_test_data = test_data.drop(cols_with_missing,axis=1)"
   ]
  },
  {
   "cell_type": "code",
   "execution_count": 273,
   "id": "cafa0e03",
   "metadata": {},
   "outputs": [
    {
     "data": {
      "text/plain": [
       "Index(['Unnamed: 0', 'SeriousDlqin2yrs',\n",
       "       'RevolvingUtilizationOfUnsecuredLines', 'age',\n",
       "       'NumberOfTime30-59DaysPastDueNotWorse', 'DebtRatio',\n",
       "       'NumberOfOpenCreditLinesAndLoans', 'NumberOfTimes90DaysLate',\n",
       "       'NumberRealEstateLoansOrLines', 'NumberOfTime60-89DaysPastDueNotWorse'],\n",
       "      dtype='object')"
      ]
     },
     "execution_count": 273,
     "metadata": {},
     "output_type": "execute_result"
    }
   ],
   "source": [
    "reduced_train_data.columns"
   ]
  },
  {
   "cell_type": "markdown",
   "id": "c299887e",
   "metadata": {},
   "source": [
    "## Applying Machine Learning Algorithms for Classification Problem"
   ]
  },
  {
   "cell_type": "markdown",
   "id": "5a4297c2",
   "metadata": {},
   "source": [
    "## logistic-regression"
   ]
  },
  {
   "cell_type": "markdown",
   "id": "167af5cd",
   "metadata": {},
   "source": [
    "<i> Logistic regression is one of the most popular Machine Learning algorithms, which comes under the Supervised Learning technique. It is used for predicting the categorical dependent variable using a given set of independent variables.</i>"
   ]
  },
  {
   "cell_type": "markdown",
   "id": "bc8760d6",
   "metadata": {},
   "source": [
    "### specify the target variable"
   ]
  },
  {
   "cell_type": "code",
   "execution_count": 274,
   "id": "672a3c0c",
   "metadata": {},
   "outputs": [],
   "source": [
    "train_y = reduced_train_data.SeriousDlqin2yrs\n",
    "test_y = reduced_test_data.SeriousDlqin2yrs"
   ]
  },
  {
   "cell_type": "markdown",
   "id": "0c15df64",
   "metadata": {},
   "source": [
    "### create list of features"
   ]
  },
  {
   "cell_type": "code",
   "execution_count": 275,
   "id": "e2df0e3d",
   "metadata": {},
   "outputs": [],
   "source": [
    "feature_names = ['RevolvingUtilizationOfUnsecuredLines', 'age',\n",
    "       'NumberOfTime30-59DaysPastDueNotWorse', 'DebtRatio',\n",
    "       'NumberOfOpenCreditLinesAndLoans', 'NumberOfTimes90DaysLate',\n",
    "       'NumberRealEstateLoansOrLines', 'NumberOfTime60-89DaysPastDueNotWorse']\n",
    "#create data corresponding to the features\n",
    "train_X = reduced_train_data[feature_names]\n",
    "test_X = reduced_test_data[feature_names]"
   ]
  },
  {
   "cell_type": "markdown",
   "id": "3c208eef",
   "metadata": {},
   "source": [
    "### Spiliting Dataset into Train and Test set."
   ]
  },
  {
   "cell_type": "code",
   "execution_count": 276,
   "id": "624c75ec",
   "metadata": {},
   "outputs": [],
   "source": [
    "x_train, x_test, y_train, y_test = train_test_split(train_X, train_y, test_size = 0.3, random_state = 0)"
   ]
  },
  {
   "cell_type": "markdown",
   "id": "6080842a",
   "metadata": {},
   "source": [
    "### Logistic regression User Defined"
   ]
  },
  {
   "cell_type": "code",
   "execution_count": 277,
   "id": "056363d5",
   "metadata": {},
   "outputs": [],
   "source": [
    "\n",
    "class logistic_regression:\n",
    "    def __init__(self,x,y): \n",
    "        self.intercept = np.ones((x.shape[0], 1))\n",
    "        self.x = np.concatenate((self.intercept, x), axis=1)\n",
    "        self.weight = np.zeros(self.x.shape[1])\n",
    "        self.y = y\n",
    " \n",
    "    def sigmoid(self, x, weight):\n",
    "        z = np.dot(x, weight)\n",
    "        return 1 / (1 + np.exp(-z))\n",
    " \n",
    "    def loss(self, h, y):\n",
    "        return (-y * np.log(h) - (1 - y) * np.log(1 - h)).mean()\n",
    " \n",
    "    def gradient_descent(self, X, h, y):\n",
    "        return np.dot(X.T, (h - y)) / y.shape[0]\n",
    " \n",
    "    def fit(self, lr , iterations):\n",
    "        for i in range(iterations):\n",
    "            sigma = self.sigmoid(self.x, self.weight)\n",
    "            loss = self.loss(sigma,self.y)\n",
    "            dW = self.gradient_descent(self.x , sigma, self.y)\n",
    "            #Updating the weights\n",
    "            self.weight -= lr * dW\n",
    "        return print('Working successfully')\n",
    "    def predict(self, x_new , treshold):\n",
    "        x_new = np.concatenate((self.intercept, x_new), axis=1)\n",
    "        result = self.sigmoid(x_new, self.weight)\n",
    "        result = result >= treshold\n",
    "        y_pred = np.zeros(result.shape[0])\n",
    "        for i in range(len(y_pred)):\n",
    "            if result[i].any() == True:\n",
    "                y_pred[i] = 1\n",
    "            else:\n",
    "                continue\n",
    " \n",
    "        return y_pred"
   ]
  },
  {
   "cell_type": "code",
   "execution_count": 278,
   "id": "1543eb74",
   "metadata": {
    "scrolled": true
   },
   "outputs": [
    {
     "name": "stdout",
     "output_type": "stream",
     "text": [
      "Working successfully\n"
     ]
    }
   ],
   "source": [
    "regressor = logistic_regression(X,y)\n",
    "regressor.fit(0.1 , 5000)\n",
    "pred_lr = regressor.predict(X,0.5)"
   ]
  },
  {
   "cell_type": "code",
   "execution_count": 279,
   "id": "29725e06",
   "metadata": {},
   "outputs": [],
   "source": [
    "logmodel = LogisticRegression(random_state=42)\n",
    "logmodel.fit(x_train,y_train)\n",
    "y_pred_l = logmodel.predict(x_test)\n",
    "pred_lr = y_pred_l.astype(int)"
   ]
  },
  {
   "cell_type": "code",
   "execution_count": 280,
   "id": "33be808e",
   "metadata": {},
   "outputs": [
    {
     "data": {
      "text/html": [
       "<div>\n",
       "<style scoped>\n",
       "    .dataframe tbody tr th:only-of-type {\n",
       "        vertical-align: middle;\n",
       "    }\n",
       "\n",
       "    .dataframe tbody tr th {\n",
       "        vertical-align: top;\n",
       "    }\n",
       "\n",
       "    .dataframe thead th {\n",
       "        text-align: right;\n",
       "    }\n",
       "</style>\n",
       "<table border=\"1\" class=\"dataframe\">\n",
       "  <thead>\n",
       "    <tr style=\"text-align: right;\">\n",
       "      <th></th>\n",
       "      <th>Model</th>\n",
       "      <th>Accuracy</th>\n",
       "      <th>Precision</th>\n",
       "      <th>ROC_AUC</th>\n",
       "    </tr>\n",
       "  </thead>\n",
       "  <tbody>\n",
       "    <tr>\n",
       "      <th>0</th>\n",
       "      <td>Logistic Regression</td>\n",
       "      <td>0.932778</td>\n",
       "      <td>0.532468</td>\n",
       "      <td>0.512651</td>\n",
       "    </tr>\n",
       "  </tbody>\n",
       "</table>\n",
       "</div>"
      ],
      "text/plain": [
       "                 Model  Accuracy  Precision   ROC_AUC\n",
       "0  Logistic Regression  0.932778   0.532468  0.512651"
      ]
     },
     "execution_count": 280,
     "metadata": {},
     "output_type": "execute_result"
    }
   ],
   "source": [
    "roc=roc_auc_score(y_test, pred_lr)\n",
    "acc = accuracy_score(y_test, pred_lr)\n",
    "prec = precision_score(y_test, pred_lr)\n",
    "results = pd.DataFrame([['Logistic Regression', acc,prec,roc]],\n",
    "columns = ['Model', 'Accuracy', 'Precision','ROC_AUC'])\n",
    "results"
   ]
  },
  {
   "cell_type": "markdown",
   "id": "9e27e30f",
   "metadata": {},
   "source": [
    "## Built in Logistic Regression "
   ]
  },
  {
   "cell_type": "code",
   "execution_count": 281,
   "id": "1dc886ea",
   "metadata": {},
   "outputs": [
    {
     "data": {
      "text/plain": [
       "LogisticRegression(random_state=1)"
      ]
     },
     "execution_count": 281,
     "metadata": {},
     "output_type": "execute_result"
    }
   ],
   "source": [
    "logreg = LogisticRegression(random_state=1)\n",
    "\n",
    "#fit the model\n",
    "logreg.fit(x_train,y_train)\n"
   ]
  },
  {
   "cell_type": "markdown",
   "id": "addfe249",
   "metadata": {},
   "source": [
    "### Make predictions"
   ]
  },
  {
   "cell_type": "code",
   "execution_count": 282,
   "id": "8092c6d2",
   "metadata": {},
   "outputs": [],
   "source": [
    "predictions_train = logreg.predict(x_train)\n",
    "y_pred = logreg.predict(x_test)\n",
    "t_pred = logreg.predict(x_test)"
   ]
  },
  {
   "cell_type": "code",
   "execution_count": 283,
   "id": "dab64706",
   "metadata": {},
   "outputs": [
    {
     "name": "stdout",
     "output_type": "stream",
     "text": [
      "[0 0 0 ... 0 0 0]\n",
      "[0 0 0 ... 0 0 0]\n",
      "(45000,)\n",
      "int64\n",
      "(45000,)\n",
      "int64\n"
     ]
    }
   ],
   "source": [
    "# I had to do this because confusion matrix was throwing errors\n",
    "print(predictions_train)\n",
    "print(y_pred)\n",
    "print(y_pred.shape)\n",
    "print(y_pred.dtype)\n",
    "print(y_test.shape)\n",
    "print(y_test.dtype)"
   ]
  },
  {
   "cell_type": "code",
   "execution_count": 284,
   "id": "115b734f",
   "metadata": {},
   "outputs": [],
   "source": [
    "y_predi = y_pred.astype(int) #converting float to int"
   ]
  },
  {
   "cell_type": "markdown",
   "id": "3cd60966",
   "metadata": {},
   "source": [
    "### create confuson matrics in text view"
   ]
  },
  {
   "cell_type": "code",
   "execution_count": 285,
   "id": "78a878ff",
   "metadata": {},
   "outputs": [
    {
     "data": {
      "text/plain": [
       "(41893, 72, 2953, 82)"
      ]
     },
     "execution_count": 285,
     "metadata": {},
     "output_type": "execute_result"
    }
   ],
   "source": [
    "tn, fp, fn, tp = confusion_matrix( y_test,y_predi).ravel()\n",
    "(tn, fp, fn, tp)"
   ]
  },
  {
   "cell_type": "markdown",
   "id": "d3d4979f",
   "metadata": {},
   "source": [
    "### consusion matrix "
   ]
  },
  {
   "cell_type": "code",
   "execution_count": 286,
   "id": "5e25e5a5",
   "metadata": {},
   "outputs": [
    {
     "data": {
      "text/plain": [
       "<AxesSubplot:title={'center':'Confusion Matrix'}, xlabel='Predicted label', ylabel='True label'>"
      ]
     },
     "execution_count": 286,
     "metadata": {},
     "output_type": "execute_result"
    },
    {
     "data": {
      "image/png": "[encoded data removed]",
      "text/plain": [
       "<Figure size 432x432 with 2 Axes>"
      ]
     },
     "metadata": {
      "needs_background": "light"
     },
     "output_type": "display_data"
    }
   ],
   "source": [
    "skplt.metrics.plot_confusion_matrix(y_test,y_predi,figsize=(6,6))"
   ]
  },
  {
   "cell_type": "markdown",
   "id": "8dd93b00",
   "metadata": {},
   "source": [
    "### calculating  ROC"
   ]
  },
  {
   "cell_type": "code",
   "execution_count": 287,
   "id": "26b53ab5",
   "metadata": {},
   "outputs": [
    {
     "name": "stdout",
     "output_type": "stream",
     "text": [
      "[0.         0.00171572 1.        ]\n",
      "(3,)\n",
      "[0.         0.02701812 1.        ]\n",
      "(3,)\n",
      "[2 1 0]\n"
     ]
    }
   ],
   "source": [
    "fpr, tpr, thresholds = metrics.roc_curve(y_test, y_predi)\n",
    "print(fpr)\n",
    "print(fpr.shape)\n",
    "print(tpr)\n",
    "print(tpr.shape)\n",
    "print(thresholds)"
   ]
  },
  {
   "cell_type": "markdown",
   "id": "29249295",
   "metadata": {},
   "source": [
    "### calculating  AUC"
   ]
  },
  {
   "cell_type": "code",
   "execution_count": 288,
   "id": "efa87718",
   "metadata": {},
   "outputs": [
    {
     "name": "stdout",
     "output_type": "stream",
     "text": [
      "0.5126512032169273\n"
     ]
    }
   ],
   "source": [
    "from sklearn import metrics\n",
    "# AUC\n",
    "roc_auc = metrics.auc(fpr, tpr)\n",
    "print(roc_auc)"
   ]
  },
  {
   "cell_type": "markdown",
   "id": "c7f0f8fa",
   "metadata": {},
   "source": [
    "### Plotting ROC"
   ]
  },
  {
   "cell_type": "code",
   "execution_count": 289,
   "id": "52c66eb5",
   "metadata": {},
   "outputs": [
    {
     "data": {
      "image/png": "[encoded data removed]",
      "text/plain": [
       "<Figure size 432x288 with 1 Axes>"
      ]
     },
     "metadata": {
      "needs_background": "light"
     },
     "output_type": "display_data"
    }
   ],
   "source": [
    "plt.title('Receiver Operating Characteristic')\n",
    "plt.plot(fpr, tpr, 'b', label = 'AUC = %0.2f' % roc_auc)\n",
    "plt.legend(loc = 'lower right')\n",
    "plt.plot([0, 1], [0, 1],'r--')\n",
    "plt.xlim([0, 1])\n",
    "plt.ylim([0, 1])\n",
    "plt.ylabel('True Positive Rate')\n",
    "plt.xlabel('False Positive Rate')\n",
    "plt.show()"
   ]
  },
  {
   "cell_type": "markdown",
   "id": "a34d27ef",
   "metadata": {},
   "source": [
    "### Calculate F1 score"
   ]
  },
  {
   "cell_type": "code",
   "execution_count": 290,
   "id": "45932f8f",
   "metadata": {},
   "outputs": [
    {
     "data": {
      "text/plain": [
       "0.051426779554719346"
      ]
     },
     "execution_count": 290,
     "metadata": {},
     "output_type": "execute_result"
    }
   ],
   "source": [
    "#calculate F1 score\n",
    "from sklearn.metrics import f1_score\n",
    "f1_score(y_test, y_predi) "
   ]
  },
  {
   "cell_type": "markdown",
   "id": "b008dc11",
   "metadata": {},
   "source": [
    "### Accuracy score"
   ]
  },
  {
   "cell_type": "code",
   "execution_count": 291,
   "id": "65dbbeb8",
   "metadata": {},
   "outputs": [
    {
     "data": {
      "text/plain": [
       "0.9327777777777778"
      ]
     },
     "execution_count": 291,
     "metadata": {},
     "output_type": "execute_result"
    }
   ],
   "source": [
    "accuracy_score(y_test, y_predi) \n"
   ]
  },
  {
   "cell_type": "code",
   "execution_count": 292,
   "id": "accce5c9",
   "metadata": {},
   "outputs": [],
   "source": [
    "form = []\n",
    "form.append(['Logistic Regression',accuracy_score(y_test, y_predi)])"
   ]
  },
  {
   "cell_type": "markdown",
   "id": "1993f05c",
   "metadata": {},
   "source": [
    "### Precision"
   ]
  },
  {
   "cell_type": "code",
   "execution_count": 293,
   "id": "de32cbff",
   "metadata": {},
   "outputs": [
    {
     "data": {
      "text/plain": [
       "0.5324675324675324"
      ]
     },
     "execution_count": 293,
     "metadata": {},
     "output_type": "execute_result"
    }
   ],
   "source": [
    "precision_score(y_test, y_predi)"
   ]
  },
  {
   "cell_type": "markdown",
   "id": "2ec72ad5",
   "metadata": {},
   "source": [
    "### Recall"
   ]
  },
  {
   "cell_type": "code",
   "execution_count": 294,
   "id": "41782ce6",
   "metadata": {},
   "outputs": [
    {
     "data": {
      "text/plain": [
       "0.02701812191103789"
      ]
     },
     "execution_count": 294,
     "metadata": {},
     "output_type": "execute_result"
    }
   ],
   "source": [
    "\n",
    "recall_score(y_test, y_predi)"
   ]
  },
  {
   "cell_type": "markdown",
   "id": "ee42975e",
   "metadata": {},
   "source": [
    "### Cost-sensitive accuracy"
   ]
  },
  {
   "cell_type": "code",
   "execution_count": 295,
   "id": "1640094d",
   "metadata": {},
   "outputs": [
    {
     "name": "stdout",
     "output_type": "stream",
     "text": [
      "0.9982876305087164\n"
     ]
    }
   ],
   "source": [
    "fp_cost = 1\n",
    "fn_cost = 0\n",
    "cost_sensitive_accuracy = (tp + tn) / (tp + tn + fp*fp_cost + fn*fn_cost)\n",
    "print(cost_sensitive_accuracy)"
   ]
  },
  {
   "cell_type": "code",
   "execution_count": 296,
   "id": "4e3a0f81",
   "metadata": {},
   "outputs": [
    {
     "data": {
      "text/html": [
       "<div>\n",
       "<style scoped>\n",
       "    .dataframe tbody tr th:only-of-type {\n",
       "        vertical-align: middle;\n",
       "    }\n",
       "\n",
       "    .dataframe tbody tr th {\n",
       "        vertical-align: top;\n",
       "    }\n",
       "\n",
       "    .dataframe thead th {\n",
       "        text-align: right;\n",
       "    }\n",
       "</style>\n",
       "<table border=\"1\" class=\"dataframe\">\n",
       "  <thead>\n",
       "    <tr style=\"text-align: right;\">\n",
       "      <th></th>\n",
       "      <th>Model</th>\n",
       "      <th>Accuracy</th>\n",
       "      <th>Precision</th>\n",
       "      <th>Recall</th>\n",
       "      <th>F1 Score</th>\n",
       "      <th>ROC_AUC</th>\n",
       "    </tr>\n",
       "  </thead>\n",
       "  <tbody>\n",
       "    <tr>\n",
       "      <th>0</th>\n",
       "      <td>Logistic Regression</td>\n",
       "      <td>0.932778</td>\n",
       "      <td>0.532468</td>\n",
       "      <td>0.027018</td>\n",
       "      <td>0.051427</td>\n",
       "      <td>0.512651</td>\n",
       "    </tr>\n",
       "  </tbody>\n",
       "</table>\n",
       "</div>"
      ],
      "text/plain": [
       "                 Model  Accuracy  Precision    Recall  F1 Score   ROC_AUC\n",
       "0  Logistic Regression  0.932778   0.532468  0.027018  0.051427  0.512651"
      ]
     },
     "execution_count": 296,
     "metadata": {},
     "output_type": "execute_result"
    }
   ],
   "source": [
    "results = pd.DataFrame([['Logistic Regression', accuracy_score(y_test, y_predi) ,precision_score(y_test, y_predi),recall_score(y_test, y_predi), f1_score(y_test, y_predi) ,roc_auc]],\n",
    "columns = ['Model', 'Accuracy', 'Precision', 'Recall', 'F1 Score','ROC_AUC'])\n",
    "results"
   ]
  },
  {
   "cell_type": "markdown",
   "id": "ed3c1304",
   "metadata": {},
   "source": [
    "## Decision Tree\n",
    "\n",
    "<i>Decision Tree is a Supervised learning technique that can be used for both classification and Regression problems, but mostly it is preferred for solving Classification problems.</i>"
   ]
  },
  {
   "cell_type": "code",
   "execution_count": 297,
   "id": "cb48b5b6",
   "metadata": {},
   "outputs": [
    {
     "data": {
      "text/plain": [
       "DecisionTreeClassifier(random_state=1)"
      ]
     },
     "execution_count": 297,
     "metadata": {},
     "output_type": "execute_result"
    }
   ],
   "source": [
    "from sklearn.tree import DecisionTreeClassifier\n",
    "\n",
    "#specify the model, set any numeric valye as parameter to ensure reproducibility \n",
    "dTree = DecisionTreeClassifier(random_state=1)\n",
    "\n",
    "#fit the model\n",
    "dTree.fit(x_train,y_train)"
   ]
  },
  {
   "cell_type": "markdown",
   "id": "cf4453ab",
   "metadata": {},
   "source": [
    "### Make predictions"
   ]
  },
  {
   "cell_type": "code",
   "execution_count": 298,
   "id": "1a8aa82d",
   "metadata": {},
   "outputs": [],
   "source": [
    "predictions_train = dTree.predict(x_train)\n",
    "y_pred = dTree.predict(x_test)"
   ]
  },
  {
   "cell_type": "code",
   "execution_count": 299,
   "id": "d6352ec3",
   "metadata": {},
   "outputs": [
    {
     "name": "stdout",
     "output_type": "stream",
     "text": [
      "[0 0 0 ... 1 0 1]\n",
      "[0 0 0 ... 0 0 0]\n",
      "(45000,)\n",
      "int64\n",
      "(45000,)\n",
      "int64\n"
     ]
    }
   ],
   "source": [
    "#this section investigates resulting data\n",
    "print(predictions_train)\n",
    "print(y_pred)\n",
    "print(y_pred.shape)\n",
    "print(y_pred.dtype)\n",
    "print(y_test.shape)\n",
    "print(y_test.dtype)"
   ]
  },
  {
   "cell_type": "code",
   "execution_count": 300,
   "id": "a9421fff",
   "metadata": {},
   "outputs": [],
   "source": [
    "#conver float to int\n",
    "y_predi = y_pred.astype(int)"
   ]
  },
  {
   "cell_type": "markdown",
   "id": "b88eff88",
   "metadata": {},
   "source": [
    "### Creating confusion matrics in text view"
   ]
  },
  {
   "cell_type": "code",
   "execution_count": 301,
   "id": "57ce82a1",
   "metadata": {},
   "outputs": [
    {
     "data": {
      "text/plain": [
       "(39595, 2370, 2222, 813)"
      ]
     },
     "execution_count": 301,
     "metadata": {},
     "output_type": "execute_result"
    }
   ],
   "source": [
    "tn, fp, fn, tp = confusion_matrix( y_test,y_predi).ravel()\n",
    "(tn, fp, fn, tp)"
   ]
  },
  {
   "cell_type": "markdown",
   "id": "75cd3f67",
   "metadata": {},
   "source": [
    "### Plotting Confusion Matrix"
   ]
  },
  {
   "cell_type": "code",
   "execution_count": 302,
   "id": "4e04e6a3",
   "metadata": {},
   "outputs": [
    {
     "data": {
      "text/plain": [
       "<AxesSubplot:title={'center':'Confusion Matrix'}, xlabel='Predicted label', ylabel='True label'>"
      ]
     },
     "execution_count": 302,
     "metadata": {},
     "output_type": "execute_result"
    },
    {
     "data": {
      "image/png": "[encoded data removed]",
      "text/plain": [
       "<Figure size 432x432 with 2 Axes>"
      ]
     },
     "metadata": {
      "needs_background": "light"
     },
     "output_type": "display_data"
    }
   ],
   "source": [
    "skplt.metrics.plot_confusion_matrix(y_test,y_predi,figsize=(6,6))"
   ]
  },
  {
   "cell_type": "markdown",
   "id": "c0856938",
   "metadata": {},
   "source": [
    "### ROC"
   ]
  },
  {
   "cell_type": "code",
   "execution_count": 303,
   "id": "7fd2938d",
   "metadata": {},
   "outputs": [
    {
     "name": "stdout",
     "output_type": "stream",
     "text": [
      "[0.         0.05647563 1.        ]\n",
      "(3,)\n",
      "[0.         0.26787479 1.        ]\n",
      "(3,)\n",
      "[2 1 0]\n"
     ]
    }
   ],
   "source": [
    "fpr, tpr, thresholds = metrics.roc_curve(y_test, y_predi)\n",
    "print(fpr)\n",
    "print(fpr.shape)\n",
    "print(tpr)\n",
    "print(tpr.shape)\n",
    "print(thresholds)"
   ]
  },
  {
   "cell_type": "markdown",
   "id": "3340d75b",
   "metadata": {},
   "source": [
    "### AUC"
   ]
  },
  {
   "cell_type": "code",
   "execution_count": 304,
   "id": "a8db161a",
   "metadata": {},
   "outputs": [
    {
     "data": {
      "text/plain": [
       "0.6056995798059535"
      ]
     },
     "execution_count": 304,
     "metadata": {},
     "output_type": "execute_result"
    }
   ],
   "source": [
    "roc_auc = metrics.auc(fpr, tpr)\n",
    "roc_auc"
   ]
  },
  {
   "cell_type": "markdown",
   "id": "614ab961",
   "metadata": {},
   "source": [
    "### Plotting ROC"
   ]
  },
  {
   "cell_type": "code",
   "execution_count": 305,
   "id": "1d2cc92b",
   "metadata": {},
   "outputs": [
    {
     "data": {
      "image/png": "[encoded data removed]",
      "text/plain": [
       "<Figure size 432x288 with 1 Axes>"
      ]
     },
     "metadata": {
      "needs_background": "light"
     },
     "output_type": "display_data"
    }
   ],
   "source": [
    "plt.title('Receiver Operating Characteristic')\n",
    "plt.plot(fpr, tpr, 'b', label = 'AUC = %0.2f' % roc_auc)\n",
    "plt.legend(loc = 'lower right')\n",
    "plt.plot([0, 1], [0, 1],'r--')\n",
    "plt.xlim([0, 1])\n",
    "plt.ylim([0, 1])\n",
    "plt.ylabel('True Positive Rate')\n",
    "plt.xlabel('False Positive Rate')\n",
    "plt.show()"
   ]
  },
  {
   "cell_type": "markdown",
   "id": "d1d72da9",
   "metadata": {},
   "source": [
    "### F1 score"
   ]
  },
  {
   "cell_type": "code",
   "execution_count": 306,
   "id": "407fda33",
   "metadata": {},
   "outputs": [
    {
     "data": {
      "text/plain": [
       "0.26149887423608875"
      ]
     },
     "execution_count": 306,
     "metadata": {},
     "output_type": "execute_result"
    }
   ],
   "source": [
    "f1_score=f1_score(y_test, y_predi)\n",
    "f1_score"
   ]
  },
  {
   "cell_type": "markdown",
   "id": "699294c2",
   "metadata": {},
   "source": [
    "### Accuracy score"
   ]
  },
  {
   "cell_type": "code",
   "execution_count": 307,
   "id": "cc5cb384",
   "metadata": {},
   "outputs": [
    {
     "data": {
      "text/plain": [
       "0.8979555555555555"
      ]
     },
     "execution_count": 307,
     "metadata": {},
     "output_type": "execute_result"
    }
   ],
   "source": [
    "a_score=accuracy_score(y_test, y_predi) \n",
    "a_score"
   ]
  },
  {
   "cell_type": "markdown",
   "id": "02fb3c08",
   "metadata": {},
   "source": [
    "### Precision"
   ]
  },
  {
   "cell_type": "code",
   "execution_count": 308,
   "id": "133f012d",
   "metadata": {},
   "outputs": [
    {
     "data": {
      "text/plain": [
       "0.2554194156456173"
      ]
     },
     "execution_count": 308,
     "metadata": {},
     "output_type": "execute_result"
    }
   ],
   "source": [
    "p_score=precision_score(y_test, y_predi)\n",
    "p_score"
   ]
  },
  {
   "cell_type": "markdown",
   "id": "15ee9e0e",
   "metadata": {},
   "source": [
    "### Recall"
   ]
  },
  {
   "cell_type": "code",
   "execution_count": 309,
   "id": "3c57bdf9",
   "metadata": {},
   "outputs": [
    {
     "data": {
      "text/plain": [
       "0.26787479406919273"
      ]
     },
     "execution_count": 309,
     "metadata": {},
     "output_type": "execute_result"
    }
   ],
   "source": [
    "recall_score=recall_score(y_test, y_predi)\n",
    "recall_score"
   ]
  },
  {
   "cell_type": "markdown",
   "id": "414ed923",
   "metadata": {},
   "source": [
    "### cost-sensitive accuracy"
   ]
  },
  {
   "cell_type": "code",
   "execution_count": 310,
   "id": "767270dc",
   "metadata": {},
   "outputs": [
    {
     "name": "stdout",
     "output_type": "stream",
     "text": [
      "0.9445976904016083\n"
     ]
    }
   ],
   "source": [
    "fp_cost = 1\n",
    "fn_cost = 0\n",
    "cost_sensitive_accuracy = (tp + tn) / (tp + tn + fp*fp_cost + fn*fn_cost)\n",
    "print(cost_sensitive_accuracy)"
   ]
  },
  {
   "cell_type": "code",
   "execution_count": 311,
   "id": "3362fa4b",
   "metadata": {},
   "outputs": [
    {
     "data": {
      "text/html": [
       "<div>\n",
       "<style scoped>\n",
       "    .dataframe tbody tr th:only-of-type {\n",
       "        vertical-align: middle;\n",
       "    }\n",
       "\n",
       "    .dataframe tbody tr th {\n",
       "        vertical-align: top;\n",
       "    }\n",
       "\n",
       "    .dataframe thead th {\n",
       "        text-align: right;\n",
       "    }\n",
       "</style>\n",
       "<table border=\"1\" class=\"dataframe\">\n",
       "  <thead>\n",
       "    <tr style=\"text-align: right;\">\n",
       "      <th></th>\n",
       "      <th>Model</th>\n",
       "      <th>Accuracy</th>\n",
       "      <th>Precision</th>\n",
       "      <th>Recall</th>\n",
       "      <th>F1 Score</th>\n",
       "      <th>ROC_AUC</th>\n",
       "    </tr>\n",
       "  </thead>\n",
       "  <tbody>\n",
       "    <tr>\n",
       "      <th>0</th>\n",
       "      <td>Decision Tree</td>\n",
       "      <td>0.897956</td>\n",
       "      <td>0.255419</td>\n",
       "      <td>0.267875</td>\n",
       "      <td>0.261499</td>\n",
       "      <td>0.6057</td>\n",
       "    </tr>\n",
       "  </tbody>\n",
       "</table>\n",
       "</div>"
      ],
      "text/plain": [
       "           Model  Accuracy  Precision    Recall  F1 Score  ROC_AUC\n",
       "0  Decision Tree  0.897956   0.255419  0.267875  0.261499   0.6057"
      ]
     },
     "execution_count": 311,
     "metadata": {},
     "output_type": "execute_result"
    }
   ],
   "source": [
    "dt = pd.DataFrame([['Decision Tree', a_score ,p_score,recall_score, f1_score ,roc_auc]],\n",
    "columns = ['Model', 'Accuracy', 'Precision', 'Recall', 'F1 Score','ROC_AUC'])\n",
    "dt"
   ]
  },
  {
   "cell_type": "code",
   "execution_count": 312,
   "id": "61d1297b",
   "metadata": {},
   "outputs": [],
   "source": [
    "results = results.append(dt, ignore_index = True)\n"
   ]
  },
  {
   "cell_type": "code",
   "execution_count": 313,
   "id": "1aaf7f32",
   "metadata": {},
   "outputs": [
    {
     "data": {
      "text/html": [
       "<div>\n",
       "<style scoped>\n",
       "    .dataframe tbody tr th:only-of-type {\n",
       "        vertical-align: middle;\n",
       "    }\n",
       "\n",
       "    .dataframe tbody tr th {\n",
       "        vertical-align: top;\n",
       "    }\n",
       "\n",
       "    .dataframe thead th {\n",
       "        text-align: right;\n",
       "    }\n",
       "</style>\n",
       "<table border=\"1\" class=\"dataframe\">\n",
       "  <thead>\n",
       "    <tr style=\"text-align: right;\">\n",
       "      <th></th>\n",
       "      <th>Model</th>\n",
       "      <th>Accuracy</th>\n",
       "      <th>Precision</th>\n",
       "      <th>Recall</th>\n",
       "      <th>F1 Score</th>\n",
       "      <th>ROC_AUC</th>\n",
       "    </tr>\n",
       "  </thead>\n",
       "  <tbody>\n",
       "    <tr>\n",
       "      <th>0</th>\n",
       "      <td>Logistic Regression</td>\n",
       "      <td>0.932778</td>\n",
       "      <td>0.532468</td>\n",
       "      <td>0.027018</td>\n",
       "      <td>0.051427</td>\n",
       "      <td>0.512651</td>\n",
       "    </tr>\n",
       "    <tr>\n",
       "      <th>1</th>\n",
       "      <td>Decision Tree</td>\n",
       "      <td>0.897956</td>\n",
       "      <td>0.255419</td>\n",
       "      <td>0.267875</td>\n",
       "      <td>0.261499</td>\n",
       "      <td>0.605700</td>\n",
       "    </tr>\n",
       "  </tbody>\n",
       "</table>\n",
       "</div>"
      ],
      "text/plain": [
       "                 Model  Accuracy  Precision    Recall  F1 Score   ROC_AUC\n",
       "0  Logistic Regression  0.932778   0.532468  0.027018  0.051427  0.512651\n",
       "1        Decision Tree  0.897956   0.255419  0.267875  0.261499  0.605700"
      ]
     },
     "execution_count": 313,
     "metadata": {},
     "output_type": "execute_result"
    }
   ],
   "source": [
    "results"
   ]
  },
  {
   "cell_type": "markdown",
   "id": "fe81f901",
   "metadata": {},
   "source": [
    "## K-Nearest Neighbor(KNN) Algorithm"
   ]
  },
  {
   "cell_type": "markdown",
   "id": "d6a26c90",
   "metadata": {},
   "source": [
    "<i>\n",
    "K-Nearest Neighbour is one of the simplest Machine Learning algorithms based on Supervised Learning technique.<br>\n",
    "K-NN algorithm assumes the similarity between the new case/data and available cases and put the new case into the category that is most similar to the available categories.\n",
    "</i>"
   ]
  },
  {
   "cell_type": "code",
   "execution_count": 314,
   "id": "bd70b46b",
   "metadata": {},
   "outputs": [
    {
     "name": "stdout",
     "output_type": "stream",
     "text": [
      "AUC Score : 0.8886195756715168\n"
     ]
    }
   ],
   "source": [
    "model_KNN = KNeighborsClassifier()\n",
    "\n",
    "neighbors = [1,2,3,4,5,6,7,8,9,10,11,12,13,14,15,16,17,18,19,20]\n",
    "model_KNN.fit(x_train, y_train)\n",
    "knn = KNeighborsClassifier(n_neighbors = 20)\n",
    "knn.fit(x_train, y_train)\n",
    "knn_scores_proba = knn.predict_proba(x_train)\n",
    "knn_scores = knn_scores_proba[:,1]\n",
    "print(\"AUC Score :\", roc_auc_score(y_train,knn_scores))"
   ]
  },
  {
   "cell_type": "code",
   "execution_count": 315,
   "id": "e1ad775c",
   "metadata": {},
   "outputs": [],
   "source": [
    "model_KNN.fit(x_train,y_train)\n",
    "y_pred_knn = logmodel.predict(x_test)\n",
    "pred_knn = y_pred_knn.astype(int)"
   ]
  },
  {
   "cell_type": "code",
   "execution_count": 316,
   "id": "ca43e1c2",
   "metadata": {},
   "outputs": [
    {
     "name": "stdout",
     "output_type": "stream",
     "text": [
      "100 0.7738365716625469\n",
      "200 0.7751776319444048\n",
      "300 0.7679608507207013\n",
      "400 0.7659084657313275\n",
      "500 0.760544731027327\n",
      "600 0.7546051182920732\n",
      "700 0.750963969150569\n",
      "800 0.7484402963087424\n",
      "900 0.7465734585834943\n",
      "1000 0.7445061871006885\n",
      "\n",
      "200 0.7751776319444048\n"
     ]
    }
   ],
   "source": [
    "scorelist = []\n",
    "n_neighbors, maxauc = -1, 0\n",
    "for k in range(100, 1000+1, 100):\n",
    "    knn = KNeighborsClassifier(n_neighbors=k)\n",
    "    knn.fit(x_train, y_train)\n",
    "    y_pred = knn.predict_proba(x_test)[:,1]\n",
    "    score = roc_auc_score(y_test, y_pred)\n",
    "    print(k, score)\n",
    "    if score > maxauc:\n",
    "        n_neighbors, maxauc = k, score\n",
    "    scorelist.append(score)\n",
    "print()\n",
    "print(n_neighbors, maxauc)"
   ]
  },
  {
   "cell_type": "code",
   "execution_count": 317,
   "id": "57a3ea44",
   "metadata": {},
   "outputs": [
    {
     "name": "stdout",
     "output_type": "stream",
     "text": [
      "320 0.7670568377860976\n",
      "330 0.7665339104466713\n",
      "340 0.7661070700833106\n",
      "350 0.766047414188218\n",
      "360 0.7663753449518907\n",
      "370 0.7666842632451809\n",
      "380 0.7665274996756338\n",
      "390 0.7664235965053643\n",
      "400 0.7659084657313275\n",
      "\n",
      "320 0.7670568377860976\n"
     ]
    }
   ],
   "source": [
    "scorelist = []\n",
    "n_neighbors, maxauc = -1, 0\n",
    "for k in range(320, 400+1, 10):\n",
    "    knn = KNeighborsClassifier(n_neighbors=k)\n",
    "    knn.fit(x_train,y_train)\n",
    "    y_pred = knn.predict_proba(x_test)[:,1]\n",
    "    score = roc_auc_score(y_test, y_pred)\n",
    "    print(k, score)\n",
    "    if score > maxauc:\n",
    "        n_neighbors, maxauc = k, score\n",
    "    scorelist.append(score)\n",
    "print()\n",
    "print(n_neighbors, maxauc)"
   ]
  },
  {
   "cell_type": "code",
   "execution_count": 318,
   "id": "9aaeacdb",
   "metadata": {},
   "outputs": [
    {
     "data": {
      "text/plain": [
       "Text(0, 0.5, 'score(AUC)')"
      ]
     },
     "execution_count": 318,
     "metadata": {},
     "output_type": "execute_result"
    },
    {
     "data": {
      "image/png": "[encoded data removed]",
      "text/plain": [
       "<Figure size 432x288 with 1 Axes>"
      ]
     },
     "metadata": {
      "needs_background": "light"
     },
     "output_type": "display_data"
    }
   ],
   "source": [
    "plt.plot(scorelist)\n",
    "plt.title('score - n_neighbors')\n",
    "plt.xlabel('n_neighbors')\n",
    "plt.ylabel('score(AUC)')"
   ]
  },
  {
   "cell_type": "markdown",
   "id": "a1703ae3",
   "metadata": {},
   "source": [
    "### Plotting ROC"
   ]
  },
  {
   "cell_type": "code",
   "execution_count": 319,
   "id": "d4344bd3",
   "metadata": {},
   "outputs": [
    {
     "data": {
      "image/png": "[encoded data removed]",
      "text/plain": [
       "<Figure size 432x288 with 1 Axes>"
      ]
     },
     "metadata": {
      "needs_background": "light"
     },
     "output_type": "display_data"
    }
   ],
   "source": [
    "def plot_roc_curve(fpr, tpr, label=None):\n",
    "    plt.plot(fpr, tpr, linewidth=2, label=label)\n",
    "    plt.plot([0,1],[0,1], \"k--\") \n",
    "    plt.axis([0,1,0,1])\n",
    "    plt.xlabel(\"False Positive Rate\")\n",
    "    plt.ylabel(\"True Positive rate\")\n",
    "fpr_gbc, tpr_gbc, thresh_gbc = roc_curve(y_train, knn_scores)\n",
    "plot_roc_curve(fpr_gbc, tpr_gbc)"
   ]
  },
  {
   "cell_type": "code",
   "execution_count": 320,
   "id": "c843214f",
   "metadata": {},
   "outputs": [
    {
     "data": {
      "text/plain": [
       "<AxesSubplot:title={'center':'Confusion Matrix'}, xlabel='Predicted label', ylabel='True label'>"
      ]
     },
     "execution_count": 320,
     "metadata": {},
     "output_type": "execute_result"
    },
    {
     "data": {
      "image/png": "[encoded data removed]",
      "text/plain": [
       "<Figure size 432x432 with 2 Axes>"
      ]
     },
     "metadata": {
      "needs_background": "light"
     },
     "output_type": "display_data"
    }
   ],
   "source": [
    "skplt.metrics.plot_confusion_matrix(y_test,y_predi,figsize=(6,6))"
   ]
  },
  {
   "cell_type": "markdown",
   "id": "5079f270",
   "metadata": {},
   "source": [
    "### ROC"
   ]
  },
  {
   "cell_type": "code",
   "execution_count": 321,
   "id": "c92612c1",
   "metadata": {},
   "outputs": [
    {
     "data": {
      "text/plain": [
       "0.7659084657313275"
      ]
     },
     "execution_count": 321,
     "metadata": {},
     "output_type": "execute_result"
    }
   ],
   "source": [
    "roc=roc_auc_score(y_test, y_pred)\n",
    "roc"
   ]
  },
  {
   "cell_type": "markdown",
   "id": "de877c63",
   "metadata": {},
   "source": [
    "### AUC"
   ]
  },
  {
   "cell_type": "code",
   "execution_count": 322,
   "id": "370ef43f",
   "metadata": {},
   "outputs": [
    {
     "data": {
      "text/plain": [
       "0.6056995798059535"
      ]
     },
     "execution_count": 322,
     "metadata": {},
     "output_type": "execute_result"
    }
   ],
   "source": [
    "auc = metrics.auc(fpr, tpr)\n",
    "auc"
   ]
  },
  {
   "cell_type": "markdown",
   "id": "30835ade",
   "metadata": {},
   "source": [
    "### Accuracy"
   ]
  },
  {
   "cell_type": "code",
   "execution_count": 323,
   "id": "4a9f298a",
   "metadata": {
    "scrolled": true
   },
   "outputs": [
    {
     "data": {
      "text/plain": [
       "0.9331333333333334"
      ]
     },
     "execution_count": 323,
     "metadata": {},
     "output_type": "execute_result"
    }
   ],
   "source": [
    "acc=accuracy_score(y_test, y_pred.round(), normalize=True)\n",
    "acc"
   ]
  },
  {
   "cell_type": "markdown",
   "id": "13e202ed",
   "metadata": {},
   "source": [
    "### Precision"
   ]
  },
  {
   "cell_type": "code",
   "execution_count": 324,
   "id": "0e0dd029",
   "metadata": {},
   "outputs": [
    {
     "data": {
      "text/plain": [
       "0.6444444444444445"
      ]
     },
     "execution_count": 324,
     "metadata": {},
     "output_type": "execute_result"
    }
   ],
   "source": [
    "prec = precision_score(y_test, y_pred.round())\n",
    "prec"
   ]
  },
  {
   "cell_type": "code",
   "execution_count": 325,
   "id": "9fb2e7be",
   "metadata": {},
   "outputs": [
    {
     "data": {
      "text/plain": [
       "0.26149887423608875"
      ]
     },
     "execution_count": 325,
     "metadata": {},
     "output_type": "execute_result"
    }
   ],
   "source": [
    "# f1_scorea=f1_score(pred_knn, pred_knn)\n",
    "f1_score"
   ]
  },
  {
   "cell_type": "code",
   "execution_count": 326,
   "id": "fadcec35",
   "metadata": {},
   "outputs": [
    {
     "data": {
      "text/plain": [
       "0.26787479406919273"
      ]
     },
     "execution_count": 326,
     "metadata": {},
     "output_type": "execute_result"
    }
   ],
   "source": [
    "recall_score"
   ]
  },
  {
   "cell_type": "code",
   "execution_count": 327,
   "id": "2d5bec25",
   "metadata": {},
   "outputs": [
    {
     "data": {
      "text/html": [
       "<div>\n",
       "<style scoped>\n",
       "    .dataframe tbody tr th:only-of-type {\n",
       "        vertical-align: middle;\n",
       "    }\n",
       "\n",
       "    .dataframe tbody tr th {\n",
       "        vertical-align: top;\n",
       "    }\n",
       "\n",
       "    .dataframe thead th {\n",
       "        text-align: right;\n",
       "    }\n",
       "</style>\n",
       "<table border=\"1\" class=\"dataframe\">\n",
       "  <thead>\n",
       "    <tr style=\"text-align: right;\">\n",
       "      <th></th>\n",
       "      <th>Model</th>\n",
       "      <th>Accuracy</th>\n",
       "      <th>Precision</th>\n",
       "      <th>Recall</th>\n",
       "      <th>F1 Score</th>\n",
       "      <th>ROC_AUC</th>\n",
       "    </tr>\n",
       "  </thead>\n",
       "  <tbody>\n",
       "    <tr>\n",
       "      <th>0</th>\n",
       "      <td>K-Nearest Neighbour</td>\n",
       "      <td>0.933133</td>\n",
       "      <td>0.644444</td>\n",
       "      <td>0.267875</td>\n",
       "      <td>0.261499</td>\n",
       "      <td>0.765908</td>\n",
       "    </tr>\n",
       "  </tbody>\n",
       "</table>\n",
       "</div>"
      ],
      "text/plain": [
       "                  Model  Accuracy  Precision    Recall  F1 Score   ROC_AUC\n",
       "0  K-Nearest Neighbour   0.933133   0.644444  0.267875  0.261499  0.765908"
      ]
     },
     "execution_count": 327,
     "metadata": {},
     "output_type": "execute_result"
    }
   ],
   "source": [
    "k_results = pd.DataFrame([['K-Nearest Neighbour ', acc ,prec,recall_score,f1_score ,roc]],\n",
    "columns = ['Model', 'Accuracy', 'Precision', 'Recall', 'F1 Score','ROC_AUC'])\n",
    "k_results"
   ]
  },
  {
   "cell_type": "code",
   "execution_count": 328,
   "id": "551e1d95",
   "metadata": {},
   "outputs": [],
   "source": [
    "results = results.append(k_results, ignore_index = True)"
   ]
  },
  {
   "cell_type": "code",
   "execution_count": 329,
   "id": "d5cf9d9e",
   "metadata": {},
   "outputs": [
    {
     "data": {
      "text/html": [
       "<div>\n",
       "<style scoped>\n",
       "    .dataframe tbody tr th:only-of-type {\n",
       "        vertical-align: middle;\n",
       "    }\n",
       "\n",
       "    .dataframe tbody tr th {\n",
       "        vertical-align: top;\n",
       "    }\n",
       "\n",
       "    .dataframe thead th {\n",
       "        text-align: right;\n",
       "    }\n",
       "</style>\n",
       "<table border=\"1\" class=\"dataframe\">\n",
       "  <thead>\n",
       "    <tr style=\"text-align: right;\">\n",
       "      <th></th>\n",
       "      <th>Model</th>\n",
       "      <th>Accuracy</th>\n",
       "      <th>Precision</th>\n",
       "      <th>Recall</th>\n",
       "      <th>F1 Score</th>\n",
       "      <th>ROC_AUC</th>\n",
       "    </tr>\n",
       "  </thead>\n",
       "  <tbody>\n",
       "    <tr>\n",
       "      <th>0</th>\n",
       "      <td>Logistic Regression</td>\n",
       "      <td>0.932778</td>\n",
       "      <td>0.532468</td>\n",
       "      <td>0.027018</td>\n",
       "      <td>0.051427</td>\n",
       "      <td>0.512651</td>\n",
       "    </tr>\n",
       "    <tr>\n",
       "      <th>1</th>\n",
       "      <td>Decision Tree</td>\n",
       "      <td>0.897956</td>\n",
       "      <td>0.255419</td>\n",
       "      <td>0.267875</td>\n",
       "      <td>0.261499</td>\n",
       "      <td>0.605700</td>\n",
       "    </tr>\n",
       "    <tr>\n",
       "      <th>2</th>\n",
       "      <td>K-Nearest Neighbour</td>\n",
       "      <td>0.933133</td>\n",
       "      <td>0.644444</td>\n",
       "      <td>0.267875</td>\n",
       "      <td>0.261499</td>\n",
       "      <td>0.765908</td>\n",
       "    </tr>\n",
       "  </tbody>\n",
       "</table>\n",
       "</div>"
      ],
      "text/plain": [
       "                  Model  Accuracy  Precision    Recall  F1 Score   ROC_AUC\n",
       "0   Logistic Regression  0.932778   0.532468  0.027018  0.051427  0.512651\n",
       "1         Decision Tree  0.897956   0.255419  0.267875  0.261499  0.605700\n",
       "2  K-Nearest Neighbour   0.933133   0.644444  0.267875  0.261499  0.765908"
      ]
     },
     "execution_count": 329,
     "metadata": {},
     "output_type": "execute_result"
    }
   ],
   "source": [
    "results"
   ]
  },
  {
   "cell_type": "markdown",
   "id": "7f24bad2",
   "metadata": {},
   "source": [
    "### Gaussian Naive Bayes"
   ]
  },
  {
   "cell_type": "markdown",
   "id": "ad0405cb",
   "metadata": {},
   "source": [
    "<i>Gaussian Naive Bayes is a variant of Naive Bayes that follows Gaussian normal distribution and supports continuous data. We have explored the idea behind Gaussian Naive Bayes along with an example.<br>\n",
    "\n",
    "Before going into it, we shall go through a brief overview of Naive Bayes.<br>\n",
    "\n",
    "Naive Bayes are a group of supervised machine learning classification algorithms based on the Bayes theorem. It is a simple classification technique, but has high functionality. They find use when the dimensionality of the inputs is high.<\\i>"
   ]
  },
  {
   "cell_type": "code",
   "execution_count": 330,
   "id": "415ad380",
   "metadata": {},
   "outputs": [
    {
     "name": "stdout",
     "output_type": "stream",
     "text": [
      "0.7097319979719509\n"
     ]
    }
   ],
   "source": [
    "from sklearn.naive_bayes import GaussianNB\n",
    "\n",
    "gaussian = GaussianNB()\n",
    "gaussian.fit(x_train, y_train)\n",
    "gaussian_scores_proba = gaussian.predict_proba(x_train)\n",
    "gaussian_scores = gaussian_scores_proba[:,1]\n",
    "y_pred = gaussian.predict_proba(x_test)[:,1]\n",
    "y_predi=gaussian.predict(x_test)\n",
    "\n",
    "gaussian_scores = roc_auc_score(y_test, y_pred)\n",
    "print(gaussian_scores)"
   ]
  },
  {
   "cell_type": "code",
   "execution_count": 331,
   "id": "8c7751d8",
   "metadata": {},
   "outputs": [
    {
     "name": "stdout",
     "output_type": "stream",
     "text": [
      "16269     0\n",
      "140471    0\n",
      "78683     0\n",
      "2605      0\n",
      "81156     0\n",
      "         ..\n",
      "148024    0\n",
      "59238     0\n",
      "111773    0\n",
      "107702    0\n",
      "89084     0\n",
      "Name: SeriousDlqin2yrs, Length: 45000, dtype: int64\n"
     ]
    }
   ],
   "source": [
    "print(y_test)"
   ]
  },
  {
   "cell_type": "code",
   "execution_count": 332,
   "id": "809053ee",
   "metadata": {},
   "outputs": [
    {
     "data": {
      "text/plain": [
       "0.714745677265423"
      ]
     },
     "execution_count": 332,
     "metadata": {},
     "output_type": "execute_result"
    }
   ],
   "source": [
    "gaussian = GaussianNB()\n",
    "gaussian.fit(x_train, y_train)\n",
    "gaussian_scores_proba = gaussian.predict_proba(x_train)\n",
    "gaussian_scores = gaussian_scores_proba[:,1]\n",
    "roc_auc=roc_auc_score(y_train,gaussian_scores)\n",
    "roc_auc"
   ]
  },
  {
   "cell_type": "code",
   "execution_count": 333,
   "id": "787fba36",
   "metadata": {},
   "outputs": [
    {
     "data": {
      "image/png": "[encoded data removed]",
      "text/plain": [
       "<Figure size 432x288 with 1 Axes>"
      ]
     },
     "metadata": {
      "needs_background": "light"
     },
     "output_type": "display_data"
    }
   ],
   "source": [
    "fpr_gbc, tpr_gbc, thresh_gbc = roc_curve(y_train, gaussian_scores)\n",
    "plot_roc_curve(fpr_gbc, tpr_gbc)"
   ]
  },
  {
   "cell_type": "code",
   "execution_count": 334,
   "id": "e46c43a7",
   "metadata": {},
   "outputs": [
    {
     "data": {
      "text/plain": [
       "<AxesSubplot:title={'center':'Confusion Matrix'}, xlabel='Predicted label', ylabel='True label'>"
      ]
     },
     "execution_count": 334,
     "metadata": {},
     "output_type": "execute_result"
    },
    {
     "data": {
      "image/png": "[encoded data removed]",
      "text/plain": [
       "<Figure size 432x432 with 2 Axes>"
      ]
     },
     "metadata": {
      "needs_background": "light"
     },
     "output_type": "display_data"
    }
   ],
   "source": [
    "skplt.metrics.plot_confusion_matrix(y_test,y_predi,figsize=(6,6))"
   ]
  },
  {
   "cell_type": "code",
   "execution_count": 335,
   "id": "356319fb",
   "metadata": {},
   "outputs": [
    {
     "data": {
      "text/plain": [
       "0.4585987261146497"
      ]
     },
     "execution_count": 335,
     "metadata": {},
     "output_type": "execute_result"
    }
   ],
   "source": [
    "prec = precision_score(y_test, y_predi)\n",
    "prec"
   ]
  },
  {
   "cell_type": "code",
   "execution_count": 336,
   "id": "ec24649a",
   "metadata": {},
   "outputs": [
    {
     "data": {
      "text/plain": [
       "0.9322666666666667"
      ]
     },
     "execution_count": 336,
     "metadata": {},
     "output_type": "execute_result"
    }
   ],
   "source": [
    "acc=accuracy_score(y_test, y_predi.round(), normalize=True)\n",
    "acc"
   ]
  },
  {
   "cell_type": "code",
   "execution_count": 337,
   "id": "a3048105",
   "metadata": {},
   "outputs": [
    {
     "data": {
      "text/plain": [
       "0.5108488657783581"
      ]
     },
     "execution_count": 337,
     "metadata": {},
     "output_type": "execute_result"
    }
   ],
   "source": [
    "roc=roc_auc_score(y_test, y_predi)\n",
    "roc"
   ]
  },
  {
   "cell_type": "code",
   "execution_count": 338,
   "id": "5f47d43e",
   "metadata": {},
   "outputs": [
    {
     "data": {
      "text/plain": [
       "0.2615"
      ]
     },
     "execution_count": 338,
     "metadata": {},
     "output_type": "execute_result"
    }
   ],
   "source": [
    "f1=f1_score.round(4)\n",
    "f1"
   ]
  },
  {
   "cell_type": "code",
   "execution_count": 339,
   "id": "4bbc2c63",
   "metadata": {},
   "outputs": [
    {
     "data": {
      "text/plain": [
       "0.715"
      ]
     },
     "execution_count": 339,
     "metadata": {},
     "output_type": "execute_result"
    }
   ],
   "source": [
    "\n",
    "\n",
    "rs=recall_score.round(4)\n",
    "rs\n",
    "roc_auc.round(3)"
   ]
  },
  {
   "cell_type": "code",
   "execution_count": 340,
   "id": "762eac91",
   "metadata": {},
   "outputs": [
    {
     "data": {
      "text/html": [
       "<div>\n",
       "<style scoped>\n",
       "    .dataframe tbody tr th:only-of-type {\n",
       "        vertical-align: middle;\n",
       "    }\n",
       "\n",
       "    .dataframe tbody tr th {\n",
       "        vertical-align: top;\n",
       "    }\n",
       "\n",
       "    .dataframe thead th {\n",
       "        text-align: right;\n",
       "    }\n",
       "</style>\n",
       "<table border=\"1\" class=\"dataframe\">\n",
       "  <thead>\n",
       "    <tr style=\"text-align: right;\">\n",
       "      <th></th>\n",
       "      <th>Model</th>\n",
       "      <th>Accuracy</th>\n",
       "      <th>Precision</th>\n",
       "      <th>Recall</th>\n",
       "      <th>F1 Score</th>\n",
       "      <th>ROC_AUC</th>\n",
       "    </tr>\n",
       "  </thead>\n",
       "  <tbody>\n",
       "    <tr>\n",
       "      <th>0</th>\n",
       "      <td>Decision Tree</td>\n",
       "      <td>0.897956</td>\n",
       "      <td>0.255419</td>\n",
       "      <td>0.267875</td>\n",
       "      <td>0.261499</td>\n",
       "      <td>0.6057</td>\n",
       "    </tr>\n",
       "  </tbody>\n",
       "</table>\n",
       "</div>"
      ],
      "text/plain": [
       "           Model  Accuracy  Precision    Recall  F1 Score  ROC_AUC\n",
       "0  Decision Tree  0.897956   0.255419  0.267875  0.261499   0.6057"
      ]
     },
     "execution_count": 340,
     "metadata": {},
     "output_type": "execute_result"
    }
   ],
   "source": [
    "gaussian = pd.DataFrame([['Gaussian Naive Bayes', acc ,prec,rs, f1 ,roc_auc]],\n",
    "columns = ['Model', 'Accuracy', 'Precision', 'Recall', 'F1 Score','ROC_AUC'])\n",
    "dt"
   ]
  },
  {
   "cell_type": "code",
   "execution_count": 341,
   "id": "fc3ef8af",
   "metadata": {},
   "outputs": [],
   "source": [
    "results = results.append(gaussian, ignore_index = True)"
   ]
  },
  {
   "cell_type": "code",
   "execution_count": 265,
   "id": "f665b8db",
   "metadata": {},
   "outputs": [
    {
     "data": {
      "text/plain": [
       "[]"
      ]
     },
     "execution_count": 265,
     "metadata": {},
     "output_type": "execute_result"
    }
   ],
   "source": [
    "results"
   ]
  },
  {
   "cell_type": "markdown",
   "id": "c28209e9",
   "metadata": {},
   "source": [
    "## Model Tuning using KFold Validation"
   ]
  },
  {
   "cell_type": "markdown",
   "id": "1e5b177a",
   "metadata": {},
   "source": [
    "<i><p>Cross-validation is a statistical method used to estimate the skill of machine learning models.</p>\n",
    "\n",
    "<p>It is commonly used in applied machine learning to compare and select a model for a given predictive modeling problem because it is easy to understand, easy to implement, and results in skill estimates that generally have a lower bias than other methods.</p>\n",
    "<ii>"
   ]
  },
  {
   "cell_type": "code",
   "execution_count": 444,
   "id": "e6eaeba8",
   "metadata": {},
   "outputs": [],
   "source": [
    "from sklearn.model_selection import KFold  \n",
    "X, y = make_classification(n_samples=100, n_features=20, n_informative=15, n_redundant=5, random_state=1)\n",
    "# prepare the cross-validation procedure\n",
    "cv = KFold(n_splits=10, random_state=1, shuffle=True)\n",
    "kfold = KFold(n_splits=10, random_state=None)"
   ]
  },
  {
   "cell_type": "markdown",
   "id": "1a44465d",
   "metadata": {},
   "source": [
    "### K-fold Cross-Validation  on Logistic Regression Model"
   ]
  },
  {
   "cell_type": "code",
   "execution_count": 445,
   "id": "896b3571",
   "metadata": {},
   "outputs": [],
   "source": [
    "form = []"
   ]
  },
  {
   "cell_type": "code",
   "execution_count": 446,
   "id": "7c45d080",
   "metadata": {},
   "outputs": [
    {
     "name": "stdout",
     "output_type": "stream",
     "text": [
      "Accuracy: 0.850 (0.128)\n"
     ]
    }
   ],
   "source": [
    "# evaluate a logistic regression model using k-fold cross-validation\n",
    "from numpy import mean\n",
    "from numpy import std\n",
    "from sklearn.datasets import make_classification\n",
    "from sklearn.model_selection import KFold\n",
    "from sklearn.model_selection import cross_val_score\n",
    "# create dataset\n",
    "X, y = make_classification(n_samples=100, n_features=20, n_informative=15, n_redundant=5, random_state=1)\n",
    "# prepare the cross-validation procedure\n",
    "cv = KFold(n_splits=10, random_state=1, shuffle=True)\n",
    "# create model\n",
    "lr_model = LogisticRegression()\n",
    "# evaluate model\n",
    "lr_scores = cross_val_score(logreg, X, y, scoring='accuracy', cv=cv, n_jobs=-1)\n",
    "# report performance\n",
    "print('Accuracy: %.3f (%.3f)' % (mean(lr_scores), std(lr_scores)))\n",
    "LRscore=mean(lr_scores)"
   ]
  },
  {
   "cell_type": "code",
   "execution_count": 447,
   "id": "3dbb881c",
   "metadata": {},
   "outputs": [],
   "source": [
    "k_results = pd.DataFrame([['logistic regression Tuned', LRscore ,std(lr_scores)]],\n",
    "columns = ['Model', 'Accuracy', 'std'])\n"
   ]
  },
  {
   "cell_type": "code",
   "execution_count": 448,
   "id": "dd0bc0fa",
   "metadata": {},
   "outputs": [
    {
     "data": {
      "text/html": [
       "<div>\n",
       "<style scoped>\n",
       "    .dataframe tbody tr th:only-of-type {\n",
       "        vertical-align: middle;\n",
       "    }\n",
       "\n",
       "    .dataframe tbody tr th {\n",
       "        vertical-align: top;\n",
       "    }\n",
       "\n",
       "    .dataframe thead th {\n",
       "        text-align: right;\n",
       "    }\n",
       "</style>\n",
       "<table border=\"1\" class=\"dataframe\">\n",
       "  <thead>\n",
       "    <tr style=\"text-align: right;\">\n",
       "      <th></th>\n",
       "      <th>Model</th>\n",
       "      <th>Accuracy</th>\n",
       "      <th>std</th>\n",
       "    </tr>\n",
       "  </thead>\n",
       "  <tbody>\n",
       "    <tr>\n",
       "      <th>0</th>\n",
       "      <td>logistic regression Tuned</td>\n",
       "      <td>0.85</td>\n",
       "      <td>0.128452</td>\n",
       "    </tr>\n",
       "  </tbody>\n",
       "</table>\n",
       "</div>"
      ],
      "text/plain": [
       "                       Model  Accuracy       std\n",
       "0  logistic regression Tuned      0.85  0.128452"
      ]
     },
     "execution_count": 448,
     "metadata": {},
     "output_type": "execute_result"
    }
   ],
   "source": [
    "form.append(['logistic regression Tuned'.format(lr_scores),mean(lr_scores)])\n",
    "# results1 = results1.append(k_results, ignore_index = True)\n",
    "k_results"
   ]
  },
  {
   "cell_type": "markdown",
   "id": "1cc7687a",
   "metadata": {},
   "source": [
    "### K-fold Cross-Validation  on Decision Tree"
   ]
  },
  {
   "cell_type": "code",
   "execution_count": 449,
   "id": "a7eaa620",
   "metadata": {},
   "outputs": [
    {
     "name": "stdout",
     "output_type": "stream",
     "text": [
      "Accuracy: 0.650 (0.143)\n"
     ]
    }
   ],
   "source": [
    "\n",
    "a, b = make_classification(n_samples=100, n_features=20, n_informative=15, n_redundant=5, random_state=1)\n",
    "# prepare the cross-validation procedure\n",
    "cv = KFold(n_splits=10, random_state=1, shuffle=True)\n",
    "# create model\n",
    "Dt_model = DecisionTreeClassifier()\n",
    "# evaluate model\n",
    "scores = cross_val_score(dTree, a, b, scoring='accuracy', cv=cv, n_jobs=-1)\n",
    "# report performance\n",
    "print('Accuracy: %.3f (%.3f)' % (mean(scores), std(scores)))\n",
    "DTCscore=mean(scores)"
   ]
  },
  {
   "cell_type": "code",
   "execution_count": 450,
   "id": "6d434a48",
   "metadata": {},
   "outputs": [],
   "source": [
    "form.append(['Decision Tree Tuned'.format(scores),mean(scores)])\n",
    "# results"
   ]
  },
  {
   "cell_type": "code",
   "execution_count": 451,
   "id": "0a7ff3b1",
   "metadata": {},
   "outputs": [],
   "source": [
    "k_model = pd.DataFrame([['Decision Tree Tuned', DTCscore ,std(scores)]],\n",
    "columns = ['Model', 'Accuracy', 'std'])\n",
    "k_results = k_results.append(k_model, ignore_index = True)"
   ]
  },
  {
   "cell_type": "code",
   "execution_count": 452,
   "id": "ae637b1f",
   "metadata": {},
   "outputs": [
    {
     "data": {
      "text/html": [
       "<div>\n",
       "<style scoped>\n",
       "    .dataframe tbody tr th:only-of-type {\n",
       "        vertical-align: middle;\n",
       "    }\n",
       "\n",
       "    .dataframe tbody tr th {\n",
       "        vertical-align: top;\n",
       "    }\n",
       "\n",
       "    .dataframe thead th {\n",
       "        text-align: right;\n",
       "    }\n",
       "</style>\n",
       "<table border=\"1\" class=\"dataframe\">\n",
       "  <thead>\n",
       "    <tr style=\"text-align: right;\">\n",
       "      <th></th>\n",
       "      <th>Model</th>\n",
       "      <th>Accuracy</th>\n",
       "      <th>std</th>\n",
       "    </tr>\n",
       "  </thead>\n",
       "  <tbody>\n",
       "    <tr>\n",
       "      <th>0</th>\n",
       "      <td>logistic regression Tuned</td>\n",
       "      <td>0.85</td>\n",
       "      <td>0.128452</td>\n",
       "    </tr>\n",
       "    <tr>\n",
       "      <th>1</th>\n",
       "      <td>Decision Tree Tuned</td>\n",
       "      <td>0.65</td>\n",
       "      <td>0.143178</td>\n",
       "    </tr>\n",
       "  </tbody>\n",
       "</table>\n",
       "</div>"
      ],
      "text/plain": [
       "                       Model  Accuracy       std\n",
       "0  logistic regression Tuned      0.85  0.128452\n",
       "1        Decision Tree Tuned      0.65  0.143178"
      ]
     },
     "execution_count": 452,
     "metadata": {},
     "output_type": "execute_result"
    }
   ],
   "source": [
    "k_results"
   ]
  },
  {
   "cell_type": "markdown",
   "id": "24b3ba15",
   "metadata": {},
   "source": [
    "### K-fold Cross-Validation  on KNN"
   ]
  },
  {
   "cell_type": "code",
   "execution_count": 453,
   "id": "30320f1d",
   "metadata": {},
   "outputs": [
    {
     "name": "stdout",
     "output_type": "stream",
     "text": [
      "Accuracy: 0.770 (0.110)\n"
     ]
    }
   ],
   "source": [
    "knn_model = KNeighborsClassifier()\n",
    "# evaluate model\n",
    "knn_scores = cross_val_score(model_KNN, X, y, scoring='accuracy', cv=cv, n_jobs=-1)\n",
    "# report performance\n",
    "print('Accuracy: %.3f (%.3f)' % (mean(knn_scores), std(knn_scores)))\n",
    "KNNscore=mean(knn_scores)"
   ]
  },
  {
   "cell_type": "code",
   "execution_count": 454,
   "id": "604e54d7",
   "metadata": {},
   "outputs": [],
   "source": [
    "k_model = pd.DataFrame([['KNN Tuned', KNNscore ,std(knn_scores)]],\n",
    "columns = ['Model', 'Accuracy', 'std'])\n",
    "k_results = k_results.append(k_model, ignore_index = True)"
   ]
  },
  {
   "cell_type": "code",
   "execution_count": 455,
   "id": "525cf8e5",
   "metadata": {},
   "outputs": [],
   "source": [
    "form.append(['KNN Tuned'.format(knn_scores),mean(knn_scores)])"
   ]
  },
  {
   "cell_type": "markdown",
   "id": "5154b417",
   "metadata": {},
   "source": [
    "### K-fold Cross-Validation Gaussian Naive Bayes"
   ]
  },
  {
   "cell_type": "code",
   "execution_count": 456,
   "id": "3269bbd7",
   "metadata": {},
   "outputs": [
    {
     "name": "stdout",
     "output_type": "stream",
     "text": [
      "Accuracy: 0.720 (0.117)\n"
     ]
    }
   ],
   "source": [
    "gnb_model = GaussianNB()\n",
    "# evaluate model\n",
    "gnb_scores = cross_val_score(gnb_model, X, y, scoring='accuracy', cv=cv, n_jobs=-1)\n",
    "# report performance\n",
    "print('Accuracy: %.3f (%.3f)' % (mean(gnb_scores), std(gnb_scores)))\n",
    "form.append(['Gaussian Naive Bayes Tuned'.format(gnb_scores),mean(gnb_scores)])\n",
    "NBscore=mean(gnb_scores)"
   ]
  },
  {
   "cell_type": "code",
   "execution_count": 457,
   "id": "4a9ca595",
   "metadata": {},
   "outputs": [],
   "source": [
    "k_model = pd.DataFrame([['Gaussian Naive Bayes', NBscore ,mean(gnb_scores)]],\n",
    "columns = ['Model', 'Accuracy', 'std'])\n",
    "k_results = k_results.append(k_model, ignore_index = True)"
   ]
  },
  {
   "cell_type": "code",
   "execution_count": 458,
   "id": "6bdbc8a6",
   "metadata": {},
   "outputs": [
    {
     "data": {
      "text/html": [
       "<div>\n",
       "<style scoped>\n",
       "    .dataframe tbody tr th:only-of-type {\n",
       "        vertical-align: middle;\n",
       "    }\n",
       "\n",
       "    .dataframe tbody tr th {\n",
       "        vertical-align: top;\n",
       "    }\n",
       "\n",
       "    .dataframe thead th {\n",
       "        text-align: right;\n",
       "    }\n",
       "</style>\n",
       "<table border=\"1\" class=\"dataframe\">\n",
       "  <thead>\n",
       "    <tr style=\"text-align: right;\">\n",
       "      <th></th>\n",
       "      <th>Model</th>\n",
       "      <th>Accuracy</th>\n",
       "      <th>std</th>\n",
       "    </tr>\n",
       "  </thead>\n",
       "  <tbody>\n",
       "    <tr>\n",
       "      <th>0</th>\n",
       "      <td>logistic regression Tuned</td>\n",
       "      <td>0.85</td>\n",
       "      <td>0.128452</td>\n",
       "    </tr>\n",
       "    <tr>\n",
       "      <th>1</th>\n",
       "      <td>Decision Tree Tuned</td>\n",
       "      <td>0.65</td>\n",
       "      <td>0.143178</td>\n",
       "    </tr>\n",
       "    <tr>\n",
       "      <th>2</th>\n",
       "      <td>KNN Tuned</td>\n",
       "      <td>0.77</td>\n",
       "      <td>0.110000</td>\n",
       "    </tr>\n",
       "    <tr>\n",
       "      <th>3</th>\n",
       "      <td>Gaussian Naive Bayes</td>\n",
       "      <td>0.72</td>\n",
       "      <td>0.720000</td>\n",
       "    </tr>\n",
       "  </tbody>\n",
       "</table>\n",
       "</div>"
      ],
      "text/plain": [
       "                       Model  Accuracy       std\n",
       "0  logistic regression Tuned      0.85  0.128452\n",
       "1        Decision Tree Tuned      0.65  0.143178\n",
       "2                  KNN Tuned      0.77  0.110000\n",
       "3       Gaussian Naive Bayes      0.72  0.720000"
      ]
     },
     "execution_count": 458,
     "metadata": {},
     "output_type": "execute_result"
    }
   ],
   "source": [
    "k_results"
   ]
  },
  {
   "cell_type": "markdown",
   "id": "ca5d44ab",
   "metadata": {},
   "source": [
    "### ROC Curve  Comparison of Classifiers"
   ]
  },
  {
   "cell_type": "code",
   "execution_count": 424,
   "id": "61038c67",
   "metadata": {},
   "outputs": [],
   "source": [
    "logreg.fit(x_train, y_train)\n",
    "dTree.fit(x_train, y_train)\n",
    "knn_model.fit(x_train, y_train)\n",
    "log_pred = logreg.predict(x_test)\n",
    "dt_pred= dTree.predict(x_test)\n",
    "knn_pred = knn_model.predict(x_test)"
   ]
  },
  {
   "cell_type": "code",
   "execution_count": 425,
   "id": "fa32ad1a",
   "metadata": {},
   "outputs": [],
   "source": [
    "log_fpr, log_tpr, log_threshold   = roc_curve(y_test, log_pred)\n",
    "dt_fpr, rfc_tpr, rfc_threshold   = roc_curve(y_test, dt_pred)\n",
    "knn_fpr, knn_tpr, knn_threshold   = roc_curve(y_test, knn_pred)\n"
   ]
  },
  {
   "cell_type": "code",
   "execution_count": 426,
   "id": "eda5e64e",
   "metadata": {},
   "outputs": [
    {
     "data": {
      "image/png": "[encoded data removed]",
      "text/plain": [
       "<Figure size 720x432 with 1 Axes>"
      ]
     },
     "metadata": {
      "needs_background": "light"
     },
     "output_type": "display_data"
    }
   ],
   "source": [
    "fig  = plt.figure(figsize=(10,6))\n",
    "plt.title('ROC Curve \\n Comparison of Classifiers')\n",
    "plt.plot(log_fpr, log_tpr, label ='Logistic Regression AUC: {:.2f}'.format(roc_auc_score(y_test, log_pred)))\n",
    "plt.plot(dt_fpr, rfc_tpr, label ='Decision Tree¶ AUC: {:.2f}'.format(roc_auc_score(y_test, dt_pred)))\n",
    "plt.plot(knn_fpr, knn_tpr, label ='KNN AUC: {:.2f}'.format(roc_auc_score(y_test, knn_pred)))\n",
    "\n",
    "plt.plot([0, 1], ls=\"--\")\n",
    "plt.plot([0, 0], [1, 0] , c=\".7\"), plt.plot([1, 1] , c=\".7\")\n",
    "plt.ylabel('True Positive Rate')\n",
    "plt.xlabel('False Positive Rate')\n",
    "plt.legend()\n",
    "plt.show()"
   ]
  },
  {
   "cell_type": "markdown",
   "id": "cf6cd63d",
   "metadata": {},
   "source": [
    "## Scatter Plot For Algorithm Comparison"
   ]
  },
  {
   "cell_type": "code",
   "execution_count": 427,
   "id": "a78108a6",
   "metadata": {
    "scrolled": true
   },
   "outputs": [],
   "source": [
    "scores=[KNNscore,NBscore,LRscore,DTCscore,]\n",
    "AlgorthmsName=[\"K-NN\",\"Naive Bayes\",\"Logistic Regression\",\"Decision Tree\"]\n",
    "\n",
    "#create traces\n",
    "\n",
    "trace1 = go.Scatter(\n",
    "    x = AlgorthmsName,\n",
    "    y= scores,\n",
    "    name='Algortms Name',\n",
    "    marker =dict(color='rgba(0,255,0,0.5)',\n",
    "               line =dict(color='rgb(0,0,0)',width=2)),\n",
    "                text=AlgorthmsName\n",
    ")\n",
    "data = [trace1]\n",
    "\n",
    "layout = go.Layout(barmode = \"group\",\n",
    "                  xaxis= dict(title= 'ML Algorithms',ticklen= 5,zeroline= False),\n",
    "              yaxis= dict(title= 'Prediction Scores',ticklen= 5,zeroline= False))\n",
    "fig = go.Figure(data = data, layout = layout)\n"
   ]
  },
  {
   "cell_type": "code",
   "execution_count": 430,
   "id": "8d5624af",
   "metadata": {},
   "outputs": [
    {
     "data": {
      "application/vnd.plotly.v1+json": {
       "config": {
        "linkText": "Export to plot.ly",
        "plotlyServerURL": "https://plot.ly",
        "showLink": false
       },
       "data": [
        {
         "marker": {
          "color": "rgba(0,255,0,0.5)",
          "line": {
           "color": "rgb(0,0,0)",
           "width": 2
          }
         },
         "name": "Algortms Name",
         "text": [
          "K-NN",
          "Naive Bayes",
          "Logistic Regression",
          "Decision Tree"
         ],
         "type": "scatter",
         "x": [
          "K-NN",
          "Naive Bayes",
          "Logistic Regression",
          "Decision Tree"
         ],
         "y": [
          0.7699999999999999,
          0.72,
          0.85,
          0.65
         ]
        }
       ],
       "layout": {
        "barmode": "group",
        "template": {
         "data": {
          "bar": [
           {
            "error_x": {
             "color": "#2a3f5f"
            },
            "error_y": {
             "color": "#2a3f5f"
            },
            "marker": {
             "line": {
              "color": "#E5ECF6",
              "width": 0.5
             }
            },
            "type": "bar"
           }
          ],
          "barpolar": [
           {
            "marker": {
             "line": {
              "color": "#E5ECF6",
              "width": 0.5
             }
            },
            "type": "barpolar"
           }
          ],
          "carpet": [
           {
            "aaxis": {
             "endlinecolor": "#2a3f5f",
             "gridcolor": "white",
             "linecolor": "white",
             "minorgridcolor": "white",
             "startlinecolor": "#2a3f5f"
            },
            "baxis": {
             "endlinecolor": "#2a3f5f",
             "gridcolor": "white",
             "linecolor": "white",
             "minorgridcolor": "white",
             "startlinecolor": "#2a3f5f"
            },
            "type": "carpet"
           }
          ],
          "choropleth": [
           {
            "colorbar": {
             "outlinewidth": 0,
             "ticks": ""
            },
            "type": "choropleth"
           }
          ],
          "contour": [
           {
            "colorbar": {
             "outlinewidth": 0,
             "ticks": ""
            },
            "colorscale": [
             [
              0,
              "#0d0887"
             ],
             [
              0.1111111111111111,
              "#46039f"
             ],
             [
              0.2222222222222222,
              "#7201a8"
             ],
             [
              0.3333333333333333,
              "#9c179e"
             ],
             [
              0.4444444444444444,
              "#bd3786"
             ],
             [
              0.5555555555555556,
              "#d8576b"
             ],
             [
              0.6666666666666666,
              "#ed7953"
             ],
             [
              0.7777777777777778,
              "#fb9f3a"
             ],
             [
              0.8888888888888888,
              "#fdca26"
             ],
             [
              1,
              "#f0f921"
             ]
            ],
            "type": "contour"
           }
          ],
          "contourcarpet": [
           {
            "colorbar": {
             "outlinewidth": 0,
             "ticks": ""
            },
            "type": "contourcarpet"
           }
          ],
          "heatmap": [
           {
            "colorbar": {
             "outlinewidth": 0,
             "ticks": ""
            },
            "colorscale": [
             [
              0,
              "#0d0887"
             ],
             [
              0.1111111111111111,
              "#46039f"
             ],
             [
              0.2222222222222222,
              "#7201a8"
             ],
             [
              0.3333333333333333,
              "#9c179e"
             ],
             [
              0.4444444444444444,
              "#bd3786"
             ],
             [
              0.5555555555555556,
              "#d8576b"
             ],
             [
              0.6666666666666666,
              "#ed7953"
             ],
             [
              0.7777777777777778,
              "#fb9f3a"
             ],
             [
              0.8888888888888888,
              "#fdca26"
             ],
             [
              1,
              "#f0f921"
             ]
            ],
            "type": "heatmap"
           }
          ],
          "heatmapgl": [
           {
            "colorbar": {
             "outlinewidth": 0,
             "ticks": ""
            },
            "colorscale": [
             [
              0,
              "#0d0887"
             ],
             [
              0.1111111111111111,
              "#46039f"
             ],
             [
              0.2222222222222222,
              "#7201a8"
             ],
             [
              0.3333333333333333,
              "#9c179e"
             ],
             [
              0.4444444444444444,
              "#bd3786"
             ],
             [
              0.5555555555555556,
              "#d8576b"
             ],
             [
              0.6666666666666666,
              "#ed7953"
             ],
             [
              0.7777777777777778,
              "#fb9f3a"
             ],
             [
              0.8888888888888888,
              "#fdca26"
             ],
             [
              1,
              "#f0f921"
             ]
            ],
            "type": "heatmapgl"
           }
          ],
          "histogram": [
           {
            "marker": {
             "colorbar": {
              "outlinewidth": 0,
              "ticks": ""
             }
            },
            "type": "histogram"
           }
          ],
          "histogram2d": [
           {
            "colorbar": {
             "outlinewidth": 0,
             "ticks": ""
            },
            "colorscale": [
             [
              0,
              "#0d0887"
             ],
             [
              0.1111111111111111,
              "#46039f"
             ],
             [
              0.2222222222222222,
              "#7201a8"
             ],
             [
              0.3333333333333333,
              "#9c179e"
             ],
             [
              0.4444444444444444,
              "#bd3786"
             ],
             [
              0.5555555555555556,
              "#d8576b"
             ],
             [
              0.6666666666666666,
              "#ed7953"
             ],
             [
              0.7777777777777778,
              "#fb9f3a"
             ],
             [
              0.8888888888888888,
              "#fdca26"
             ],
             [
              1,
              "#f0f921"
             ]
            ],
            "type": "histogram2d"
           }
          ],
          "histogram2dcontour": [
           {
            "colorbar": {
             "outlinewidth": 0,
             "ticks": ""
            },
            "colorscale": [
             [
              0,
              "#0d0887"
             ],
             [
              0.1111111111111111,
              "#46039f"
             ],
             [
              0.2222222222222222,
              "#7201a8"
             ],
             [
              0.3333333333333333,
              "#9c179e"
             ],
             [
              0.4444444444444444,
              "#bd3786"
             ],
             [
              0.5555555555555556,
              "#d8576b"
             ],
             [
              0.6666666666666666,
              "#ed7953"
             ],
             [
              0.7777777777777778,
              "#fb9f3a"
             ],
             [
              0.8888888888888888,
              "#fdca26"
             ],
             [
              1,
              "#f0f921"
             ]
            ],
            "type": "histogram2dcontour"
           }
          ],
          "mesh3d": [
           {
            "colorbar": {
             "outlinewidth": 0,
             "ticks": ""
            },
            "type": "mesh3d"
           }
          ],
          "parcoords": [
           {
            "line": {
             "colorbar": {
              "outlinewidth": 0,
              "ticks": ""
             }
            },
            "type": "parcoords"
           }
          ],
          "pie": [
           {
            "automargin": true,
            "type": "pie"
           }
          ],
          "scatter": [
           {
            "marker": {
             "colorbar": {
              "outlinewidth": 0,
              "ticks": ""
             }
            },
            "type": "scatter"
           }
          ],
          "scatter3d": [
           {
            "line": {
             "colorbar": {
              "outlinewidth": 0,
              "ticks": ""
             }
            },
            "marker": {
             "colorbar": {
              "outlinewidth": 0,
              "ticks": ""
             }
            },
            "type": "scatter3d"
           }
          ],
          "scattercarpet": [
           {
            "marker": {
             "colorbar": {
              "outlinewidth": 0,
              "ticks": ""
             }
            },
            "type": "scattercarpet"
           }
          ],
          "scattergeo": [
           {
            "marker": {
             "colorbar": {
              "outlinewidth": 0,
              "ticks": ""
             }
            },
            "type": "scattergeo"
           }
          ],
          "scattergl": [
           {
            "marker": {
             "colorbar": {
              "outlinewidth": 0,
              "ticks": ""
             }
            },
            "type": "scattergl"
           }
          ],
          "scattermapbox": [
           {
            "marker": {
             "colorbar": {
              "outlinewidth": 0,
              "ticks": ""
             }
            },
            "type": "scattermapbox"
           }
          ],
          "scatterpolar": [
           {
            "marker": {
             "colorbar": {
              "outlinewidth": 0,
              "ticks": ""
             }
            },
            "type": "scatterpolar"
           }
          ],
          "scatterpolargl": [
           {
            "marker": {
             "colorbar": {
              "outlinewidth": 0,
              "ticks": ""
             }
            },
            "type": "scatterpolargl"
           }
          ],
          "scatterternary": [
           {
            "marker": {
             "colorbar": {
              "outlinewidth": 0,
              "ticks": ""
             }
            },
            "type": "scatterternary"
           }
          ],
          "surface": [
           {
            "colorbar": {
             "outlinewidth": 0,
             "ticks": ""
            },
            "colorscale": [
             [
              0,
              "#0d0887"
             ],
             [
              0.1111111111111111,
              "#46039f"
             ],
             [
              0.2222222222222222,
              "#7201a8"
             ],
             [
              0.3333333333333333,
              "#9c179e"
             ],
             [
              0.4444444444444444,
              "#bd3786"
             ],
             [
              0.5555555555555556,
              "#d8576b"
             ],
             [
              0.6666666666666666,
              "#ed7953"
             ],
             [
              0.7777777777777778,
              "#fb9f3a"
             ],
             [
              0.8888888888888888,
              "#fdca26"
             ],
             [
              1,
              "#f0f921"
             ]
            ],
            "type": "surface"
           }
          ],
          "table": [
           {
            "cells": {
             "fill": {
              "color": "#EBF0F8"
             },
             "line": {
              "color": "white"
             }
            },
            "header": {
             "fill": {
              "color": "#C8D4E3"
             },
             "line": {
              "color": "white"
             }
            },
            "type": "table"
           }
          ]
         },
         "layout": {
          "annotationdefaults": {
           "arrowcolor": "#2a3f5f",
           "arrowhead": 0,
           "arrowwidth": 1
          },
          "coloraxis": {
           "colorbar": {
            "outlinewidth": 0,
            "ticks": ""
           }
          },
          "colorscale": {
           "diverging": [
            [
             0,
             "#8e0152"
            ],
            [
             0.1,
             "#c51b7d"
            ],
            [
             0.2,
             "#de77ae"
            ],
            [
             0.3,
             "#f1b6da"
            ],
            [
             0.4,
             "#fde0ef"
            ],
            [
             0.5,
             "#f7f7f7"
            ],
            [
             0.6,
             "#e6f5d0"
            ],
            [
             0.7,
             "#b8e186"
            ],
            [
             0.8,
             "#7fbc41"
            ],
            [
             0.9,
             "#4d9221"
            ],
            [
             1,
             "#276419"
            ]
           ],
           "sequential": [
            [
             0,
             "#0d0887"
            ],
            [
             0.1111111111111111,
             "#46039f"
            ],
            [
             0.2222222222222222,
             "#7201a8"
            ],
            [
             0.3333333333333333,
             "#9c179e"
            ],
            [
             0.4444444444444444,
             "#bd3786"
            ],
            [
             0.5555555555555556,
             "#d8576b"
            ],
            [
             0.6666666666666666,
             "#ed7953"
            ],
            [
             0.7777777777777778,
             "#fb9f3a"
            ],
            [
             0.8888888888888888,
             "#fdca26"
            ],
            [
             1,
             "#f0f921"
            ]
           ],
           "sequentialminus": [
            [
             0,
             "#0d0887"
            ],
            [
             0.1111111111111111,
             "#46039f"
            ],
            [
             0.2222222222222222,
             "#7201a8"
            ],
            [
             0.3333333333333333,
             "#9c179e"
            ],
            [
             0.4444444444444444,
             "#bd3786"
            ],
            [
             0.5555555555555556,
             "#d8576b"
            ],
            [
             0.6666666666666666,
             "#ed7953"
            ],
            [
             0.7777777777777778,
             "#fb9f3a"
            ],
            [
             0.8888888888888888,
             "#fdca26"
            ],
            [
             1,
             "#f0f921"
            ]
           ]
          },
          "colorway": [
           "#636efa",
           "#EF553B",
           "#00cc96",
           "#ab63fa",
           "#FFA15A",
           "#19d3f3",
           "#FF6692",
           "#B6E880",
           "#FF97FF",
           "#FECB52"
          ],
          "font": {
           "color": "#2a3f5f"
          },
          "geo": {
           "bgcolor": "white",
           "lakecolor": "white",
           "landcolor": "#E5ECF6",
           "showlakes": true,
           "showland": true,
           "subunitcolor": "white"
          },
          "hoverlabel": {
           "align": "left"
          },
          "hovermode": "closest",
          "mapbox": {
           "style": "light"
          },
          "paper_bgcolor": "white",
          "plot_bgcolor": "#E5ECF6",
          "polar": {
           "angularaxis": {
            "gridcolor": "white",
            "linecolor": "white",
            "ticks": ""
           },
           "bgcolor": "#E5ECF6",
           "radialaxis": {
            "gridcolor": "white",
            "linecolor": "white",
            "ticks": ""
           }
          },
          "scene": {
           "xaxis": {
            "backgroundcolor": "#E5ECF6",
            "gridcolor": "white",
            "gridwidth": 2,
            "linecolor": "white",
            "showbackground": true,
            "ticks": "",
            "zerolinecolor": "white"
           },
           "yaxis": {
            "backgroundcolor": "#E5ECF6",
            "gridcolor": "white",
            "gridwidth": 2,
            "linecolor": "white",
            "showbackground": true,
            "ticks": "",
            "zerolinecolor": "white"
           },
           "zaxis": {
            "backgroundcolor": "#E5ECF6",
            "gridcolor": "white",
            "gridwidth": 2,
            "linecolor": "white",
            "showbackground": true,
            "ticks": "",
            "zerolinecolor": "white"
           }
          },
          "shapedefaults": {
           "line": {
            "color": "#2a3f5f"
           }
          },
          "ternary": {
           "aaxis": {
            "gridcolor": "white",
            "linecolor": "white",
            "ticks": ""
           },
           "baxis": {
            "gridcolor": "white",
            "linecolor": "white",
            "ticks": ""
           },
           "bgcolor": "#E5ECF6",
           "caxis": {
            "gridcolor": "white",
            "linecolor": "white",
            "ticks": ""
           }
          },
          "title": {
           "x": 0.05
          },
          "xaxis": {
           "automargin": true,
           "gridcolor": "white",
           "linecolor": "white",
           "ticks": "",
           "title": {
            "standoff": 15
           },
           "zerolinecolor": "white",
           "zerolinewidth": 2
          },
          "yaxis": {
           "automargin": true,
           "gridcolor": "white",
           "linecolor": "white",
           "ticks": "",
           "title": {
            "standoff": 15
           },
           "zerolinecolor": "white",
           "zerolinewidth": 2
          }
         }
        },
        "xaxis": {
         "ticklen": 5,
         "title": {
          "text": "ML Algorithms"
         },
         "zeroline": false
        },
        "yaxis": {
         "ticklen": 5,
         "title": {
          "text": "Prediction Scores"
         },
         "zeroline": false
        }
       }
      },
      "text/html": [
       "<div>\n",
       "        \n",
       "        \n",
       "            <div id=\"42dce6f3-2e53-4df7-896a-4375130ef265\" class=\"plotly-graph-div\" style=\"height:525px; width:100%;\"></div>\n",
       "            <script type=\"text/javascript\">\n",
       "                require([\"plotly\"], function(Plotly) {\n",
       "                    window.PLOTLYENV=window.PLOTLYENV || {};\n",
       "                    \n",
       "                if (document.getElementById(\"42dce6f3-2e53-4df7-896a-4375130ef265\")) {\n",
       "                    Plotly.newPlot(\n",
       "                        '42dce6f3-2e53-4df7-896a-4375130ef265',\n",
       "                        [{\"marker\": {\"color\": \"rgba(0,255,0,0.5)\", \"line\": {\"color\": \"rgb(0,0,0)\", \"width\": 2}}, \"name\": \"Algortms Name\", \"text\": [\"K-NN\", \"Naive Bayes\", \"Logistic Regression\", \"Decision Tree\"], \"type\": \"scatter\", \"x\": [\"K-NN\", \"Naive Bayes\", \"Logistic Regression\", \"Decision Tree\"], \"y\": [0.7699999999999999, 0.72, 0.85, 0.65]}],\n",
       "                        {\"barmode\": \"group\", \"template\": {\"data\": {\"bar\": [{\"error_x\": {\"color\": \"#2a3f5f\"}, \"error_y\": {\"color\": \"#2a3f5f\"}, \"marker\": {\"line\": {\"color\": \"#E5ECF6\", \"width\": 0.5}}, \"type\": \"bar\"}], \"barpolar\": [{\"marker\": {\"line\": {\"color\": \"#E5ECF6\", \"width\": 0.5}}, \"type\": \"barpolar\"}], \"carpet\": [{\"aaxis\": {\"endlinecolor\": \"#2a3f5f\", \"gridcolor\": \"white\", \"linecolor\": \"white\", \"minorgridcolor\": \"white\", \"startlinecolor\": \"#2a3f5f\"}, \"baxis\": {\"endlinecolor\": \"#2a3f5f\", \"gridcolor\": \"white\", \"linecolor\": \"white\", \"minorgridcolor\": \"white\", \"startlinecolor\": \"#2a3f5f\"}, \"type\": \"carpet\"}], \"choropleth\": [{\"colorbar\": {\"outlinewidth\": 0, \"ticks\": \"\"}, \"type\": \"choropleth\"}], \"contour\": [{\"colorbar\": {\"outlinewidth\": 0, \"ticks\": \"\"}, \"colorscale\": [[0.0, \"#0d0887\"], [0.1111111111111111, \"#46039f\"], [0.2222222222222222, \"#7201a8\"], [0.3333333333333333, \"#9c179e\"], [0.4444444444444444, \"#bd3786\"], [0.5555555555555556, \"#d8576b\"], [0.6666666666666666, \"#ed7953\"], [0.7777777777777778, \"#fb9f3a\"], [0.8888888888888888, \"#fdca26\"], [1.0, \"#f0f921\"]], \"type\": \"contour\"}], \"contourcarpet\": [{\"colorbar\": {\"outlinewidth\": 0, \"ticks\": \"\"}, \"type\": \"contourcarpet\"}], \"heatmap\": [{\"colorbar\": {\"outlinewidth\": 0, \"ticks\": \"\"}, \"colorscale\": [[0.0, \"#0d0887\"], [0.1111111111111111, \"#46039f\"], [0.2222222222222222, \"#7201a8\"], [0.3333333333333333, \"#9c179e\"], [0.4444444444444444, \"#bd3786\"], [0.5555555555555556, \"#d8576b\"], [0.6666666666666666, \"#ed7953\"], [0.7777777777777778, \"#fb9f3a\"], [0.8888888888888888, \"#fdca26\"], [1.0, \"#f0f921\"]], \"type\": \"heatmap\"}], \"heatmapgl\": [{\"colorbar\": {\"outlinewidth\": 0, \"ticks\": \"\"}, \"colorscale\": [[0.0, \"#0d0887\"], [0.1111111111111111, \"#46039f\"], [0.2222222222222222, \"#7201a8\"], [0.3333333333333333, \"#9c179e\"], [0.4444444444444444, \"#bd3786\"], [0.5555555555555556, \"#d8576b\"], [0.6666666666666666, \"#ed7953\"], [0.7777777777777778, \"#fb9f3a\"], [0.8888888888888888, \"#fdca26\"], [1.0, \"#f0f921\"]], \"type\": \"heatmapgl\"}], \"histogram\": [{\"marker\": {\"colorbar\": {\"outlinewidth\": 0, \"ticks\": \"\"}}, \"type\": \"histogram\"}], \"histogram2d\": [{\"colorbar\": {\"outlinewidth\": 0, \"ticks\": \"\"}, \"colorscale\": [[0.0, \"#0d0887\"], [0.1111111111111111, \"#46039f\"], [0.2222222222222222, \"#7201a8\"], [0.3333333333333333, \"#9c179e\"], [0.4444444444444444, \"#bd3786\"], [0.5555555555555556, \"#d8576b\"], [0.6666666666666666, \"#ed7953\"], [0.7777777777777778, \"#fb9f3a\"], [0.8888888888888888, \"#fdca26\"], [1.0, \"#f0f921\"]], \"type\": \"histogram2d\"}], \"histogram2dcontour\": [{\"colorbar\": {\"outlinewidth\": 0, \"ticks\": \"\"}, \"colorscale\": [[0.0, \"#0d0887\"], [0.1111111111111111, \"#46039f\"], [0.2222222222222222, \"#7201a8\"], [0.3333333333333333, \"#9c179e\"], [0.4444444444444444, \"#bd3786\"], [0.5555555555555556, \"#d8576b\"], [0.6666666666666666, \"#ed7953\"], [0.7777777777777778, \"#fb9f3a\"], [0.8888888888888888, \"#fdca26\"], [1.0, \"#f0f921\"]], \"type\": \"histogram2dcontour\"}], \"mesh3d\": [{\"colorbar\": {\"outlinewidth\": 0, \"ticks\": \"\"}, \"type\": \"mesh3d\"}], \"parcoords\": [{\"line\": {\"colorbar\": {\"outlinewidth\": 0, \"ticks\": \"\"}}, \"type\": \"parcoords\"}], \"pie\": [{\"automargin\": true, \"type\": \"pie\"}], \"scatter\": [{\"marker\": {\"colorbar\": {\"outlinewidth\": 0, \"ticks\": \"\"}}, \"type\": \"scatter\"}], \"scatter3d\": [{\"line\": {\"colorbar\": {\"outlinewidth\": 0, \"ticks\": \"\"}}, \"marker\": {\"colorbar\": {\"outlinewidth\": 0, \"ticks\": \"\"}}, \"type\": \"scatter3d\"}], \"scattercarpet\": [{\"marker\": {\"colorbar\": {\"outlinewidth\": 0, \"ticks\": \"\"}}, \"type\": \"scattercarpet\"}], \"scattergeo\": [{\"marker\": {\"colorbar\": {\"outlinewidth\": 0, \"ticks\": \"\"}}, \"type\": \"scattergeo\"}], \"scattergl\": [{\"marker\": {\"colorbar\": {\"outlinewidth\": 0, \"ticks\": \"\"}}, \"type\": \"scattergl\"}], \"scattermapbox\": [{\"marker\": {\"colorbar\": {\"outlinewidth\": 0, \"ticks\": \"\"}}, \"type\": \"scattermapbox\"}], \"scatterpolar\": [{\"marker\": {\"colorbar\": {\"outlinewidth\": 0, \"ticks\": \"\"}}, \"type\": \"scatterpolar\"}], \"scatterpolargl\": [{\"marker\": {\"colorbar\": {\"outlinewidth\": 0, \"ticks\": \"\"}}, \"type\": \"scatterpolargl\"}], \"scatterternary\": [{\"marker\": {\"colorbar\": {\"outlinewidth\": 0, \"ticks\": \"\"}}, \"type\": \"scatterternary\"}], \"surface\": [{\"colorbar\": {\"outlinewidth\": 0, \"ticks\": \"\"}, \"colorscale\": [[0.0, \"#0d0887\"], [0.1111111111111111, \"#46039f\"], [0.2222222222222222, \"#7201a8\"], [0.3333333333333333, \"#9c179e\"], [0.4444444444444444, \"#bd3786\"], [0.5555555555555556, \"#d8576b\"], [0.6666666666666666, \"#ed7953\"], [0.7777777777777778, \"#fb9f3a\"], [0.8888888888888888, \"#fdca26\"], [1.0, \"#f0f921\"]], \"type\": \"surface\"}], \"table\": [{\"cells\": {\"fill\": {\"color\": \"#EBF0F8\"}, \"line\": {\"color\": \"white\"}}, \"header\": {\"fill\": {\"color\": \"#C8D4E3\"}, \"line\": {\"color\": \"white\"}}, \"type\": \"table\"}]}, \"layout\": {\"annotationdefaults\": {\"arrowcolor\": \"#2a3f5f\", \"arrowhead\": 0, \"arrowwidth\": 1}, \"coloraxis\": {\"colorbar\": {\"outlinewidth\": 0, \"ticks\": \"\"}}, \"colorscale\": {\"diverging\": [[0, \"#8e0152\"], [0.1, \"#c51b7d\"], [0.2, \"#de77ae\"], [0.3, \"#f1b6da\"], [0.4, \"#fde0ef\"], [0.5, \"#f7f7f7\"], [0.6, \"#e6f5d0\"], [0.7, \"#b8e186\"], [0.8, \"#7fbc41\"], [0.9, \"#4d9221\"], [1, \"#276419\"]], \"sequential\": [[0.0, \"#0d0887\"], [0.1111111111111111, \"#46039f\"], [0.2222222222222222, \"#7201a8\"], [0.3333333333333333, \"#9c179e\"], [0.4444444444444444, \"#bd3786\"], [0.5555555555555556, \"#d8576b\"], [0.6666666666666666, \"#ed7953\"], [0.7777777777777778, \"#fb9f3a\"], [0.8888888888888888, \"#fdca26\"], [1.0, \"#f0f921\"]], \"sequentialminus\": [[0.0, \"#0d0887\"], [0.1111111111111111, \"#46039f\"], [0.2222222222222222, \"#7201a8\"], [0.3333333333333333, \"#9c179e\"], [0.4444444444444444, \"#bd3786\"], [0.5555555555555556, \"#d8576b\"], [0.6666666666666666, \"#ed7953\"], [0.7777777777777778, \"#fb9f3a\"], [0.8888888888888888, \"#fdca26\"], [1.0, \"#f0f921\"]]}, \"colorway\": [\"#636efa\", \"#EF553B\", \"#00cc96\", \"#ab63fa\", \"#FFA15A\", \"#19d3f3\", \"#FF6692\", \"#B6E880\", \"#FF97FF\", \"#FECB52\"], \"font\": {\"color\": \"#2a3f5f\"}, \"geo\": {\"bgcolor\": \"white\", \"lakecolor\": \"white\", \"landcolor\": \"#E5ECF6\", \"showlakes\": true, \"showland\": true, \"subunitcolor\": \"white\"}, \"hoverlabel\": {\"align\": \"left\"}, \"hovermode\": \"closest\", \"mapbox\": {\"style\": \"light\"}, \"paper_bgcolor\": \"white\", \"plot_bgcolor\": \"#E5ECF6\", \"polar\": {\"angularaxis\": {\"gridcolor\": \"white\", \"linecolor\": \"white\", \"ticks\": \"\"}, \"bgcolor\": \"#E5ECF6\", \"radialaxis\": {\"gridcolor\": \"white\", \"linecolor\": \"white\", \"ticks\": \"\"}}, \"scene\": {\"xaxis\": {\"backgroundcolor\": \"#E5ECF6\", \"gridcolor\": \"white\", \"gridwidth\": 2, \"linecolor\": \"white\", \"showbackground\": true, \"ticks\": \"\", \"zerolinecolor\": \"white\"}, \"yaxis\": {\"backgroundcolor\": \"#E5ECF6\", \"gridcolor\": \"white\", \"gridwidth\": 2, \"linecolor\": \"white\", \"showbackground\": true, \"ticks\": \"\", \"zerolinecolor\": \"white\"}, \"zaxis\": {\"backgroundcolor\": \"#E5ECF6\", \"gridcolor\": \"white\", \"gridwidth\": 2, \"linecolor\": \"white\", \"showbackground\": true, \"ticks\": \"\", \"zerolinecolor\": \"white\"}}, \"shapedefaults\": {\"line\": {\"color\": \"#2a3f5f\"}}, \"ternary\": {\"aaxis\": {\"gridcolor\": \"white\", \"linecolor\": \"white\", \"ticks\": \"\"}, \"baxis\": {\"gridcolor\": \"white\", \"linecolor\": \"white\", \"ticks\": \"\"}, \"bgcolor\": \"#E5ECF6\", \"caxis\": {\"gridcolor\": \"white\", \"linecolor\": \"white\", \"ticks\": \"\"}}, \"title\": {\"x\": 0.05}, \"xaxis\": {\"automargin\": true, \"gridcolor\": \"white\", \"linecolor\": \"white\", \"ticks\": \"\", \"title\": {\"standoff\": 15}, \"zerolinecolor\": \"white\", \"zerolinewidth\": 2}, \"yaxis\": {\"automargin\": true, \"gridcolor\": \"white\", \"linecolor\": \"white\", \"ticks\": \"\", \"title\": {\"standoff\": 15}, \"zerolinecolor\": \"white\", \"zerolinewidth\": 2}}}, \"xaxis\": {\"ticklen\": 5, \"title\": {\"text\": \"ML Algorithms\"}, \"zeroline\": false}, \"yaxis\": {\"ticklen\": 5, \"title\": {\"text\": \"Prediction Scores\"}, \"zeroline\": false}},\n",
       "                        {\"responsive\": true}\n",
       "                    ).then(function(){\n",
       "                            \n",
       "var gd = document.getElementById('42dce6f3-2e53-4df7-896a-4375130ef265');\n",
       "var x = new MutationObserver(function (mutations, observer) {{\n",
       "        var display = window.getComputedStyle(gd).display;\n",
       "        if (!display || display === 'none') {{\n",
       "            console.log([gd, 'removed!']);\n",
       "            Plotly.purge(gd);\n",
       "            observer.disconnect();\n",
       "        }}\n",
       "}});\n",
       "\n",
       "// Listen for the removal of the full notebook cells\n",
       "var notebookContainer = gd.closest('#notebook-container');\n",
       "if (notebookContainer) {{\n",
       "    x.observe(notebookContainer, {childList: true});\n",
       "}}\n",
       "\n",
       "// Listen for the clearing of the current output cell\n",
       "var outputEl = gd.closest('.output');\n",
       "if (outputEl) {{\n",
       "    x.observe(outputEl, {childList: true});\n",
       "}}\n",
       "\n",
       "                        })\n",
       "                };\n",
       "                });\n",
       "            </script>\n",
       "        </div>"
      ]
     },
     "metadata": {},
     "output_type": "display_data"
    }
   ],
   "source": [
    "iplot(fig)"
   ]
  },
  {
   "cell_type": "markdown",
   "id": "5f3c0a7e",
   "metadata": {},
   "source": [
    "### Conclusion\n",
    "<i>\n",
    "\n",
    "We found  best result with <b>Logistic Regression</b> .\n",
    "\n",
    "<b>Logistic Regression</b>  has the best performance with <b>0.85 Accuracy</b> compared to other three classifiers KNN, Gaussain Naive Bayes, and decision tree .\n",
    "\n",
    "</i>"
   ]
  }
 ],
 "metadata": {
  "kernelspec": {
   "display_name": "Python 3 (ipykernel)",
   "language": "python",
   "name": "python3"
  },
  "language_info": {
   "codemirror_mode": {
    "name": "ipython",
    "version": 3
   },
   "file_extension": ".py",
   "mimetype": "text/x-python",
   "name": "python",
   "nbconvert_exporter": "python",
   "pygments_lexer": "ipython3",
   "version": "3.8.8"
  }
 },
 "nbformat": 4,
 "nbformat_minor": 5
}
