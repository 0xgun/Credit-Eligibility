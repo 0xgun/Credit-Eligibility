{
 "cells": [
  {
   "cell_type": "markdown",
   "id": "eef9c623",
   "metadata": {},
   "source": [
    "# Phase 2"
   ]
  },
  {
   "cell_type": "markdown",
   "id": "d44c8a8b",
   "metadata": {},
   "source": [
    "## Problem Definition"
   ]
  },
  {
   "cell_type": "markdown",
   "id": "d41d1485",
   "metadata": {},
   "source": [
    "Banks play a crucial role in market economies. They decide who can get finance and on what terms and can make or break investment decisions. For markets and society to function, individuals and companies need access to credit. \n",
    "\n",
    "Credit scoring algorithms, which make a guess at the probability of default, are the method banks use to determine whether or not a loan should be granted. This competition requires participants to improve on the state of the art in credit scoring, by predicting the probability that somebody will experience financial distress in the next two years.\n",
    "\n",
    "The goal of this competition is to build a model that borrowers can use to help make the best financial decisions.\n",
    "\n",
    "Improve on the state of the art in credit scoring by predicting the probability that somebody will experience financial distress in the next two years."
   ]
  },
  {
   "cell_type": "markdown",
   "id": "04c651c0",
   "metadata": {},
   "source": [
    "## Dataset"
   ]
  },
  {
   "cell_type": "markdown",
   "id": "c07ff3ac",
   "metadata": {},
   "source": [
    "#### Give Me Some Credit"
   ]
  },
  {
   "cell_type": "markdown",
   "id": "cdffe45a",
   "metadata": {},
   "source": [
    "In this Model, credit scoring data sets from Kaggle \n",
    "called ‘Give me some credit’ is used to build classifiers. To evaluate\n",
    "the classification performance of credit scoring model.\n",
    "\n",
    " We will use the training dataset (cs-training.csv file) which will be used for models training and test data (cs-test.csv file) ."
   ]
  },
  {
   "cell_type": "markdown",
   "id": "f0acee73",
   "metadata": {},
   "source": [
    "## Prepare Data"
   ]
  },
  {
   "cell_type": "markdown",
   "id": "c8c6f4d7",
   "metadata": {},
   "source": [
    "In this part, the data and variables is done. Target ratio, variables\n",
    "values distributions are also be investigated. Null value analysis is done and null values in\n",
    "variables, filled with statistical approach to prevent them to influence modelling in a bad\n",
    "way.\n",
    "\n",
    "\n",
    "After the describing inputs, missing values are also investigated, and for 2 inputs\n",
    "(‘MonthlyIncome’ , ‘NumberOfDependents’) some missing values are observed. Handling\n",
    "with missing values is very important to create accurate models, \n",
    "\n",
    "\n",
    "#### The variables in the following data set:\n",
    "| Variable Name              | Description                                                                                                                                              | Type       |\n",
    "| :- |-------------: | :-:\n",
    "| SeriousDlqin2yrs                     | Person experienced 90 days past due delinquency or worse                                                                                                 | Y/N        |\n",
    "| RevolvingUtilizationOfUnsecuredLines | Total balance on credit cards and personal lines of credit except real estate and no installment debt like car loans divided by the sum of credit limits | percentage |\n",
    "| age                                  | Age of borrower in years                                                                                                                                 | integer    |\n",
    "| NumberOfTime30-59DaysPastDueNotWorse | Number of times borrower has been 30-59 days past due but no worse in the last 2 years.                                                                  | integer    |\n",
    "| DebtRatio                            | Monthly debt payments, alimony,living costs divided by monthy gross income                                                                               | percentage |\n",
    "| MonthlyIncome                        | Monthly income                                                                                                                                           | real       |\n",
    "| NumberOfOpenCreditLinesAndLoans      | Number of Open loans (installment like car loan or mortgage) and Lines of credit (e.g. credit cards)                                                     | integer    |\n",
    "| NumberOfTimes90DaysLate              | Number of times borrower has been 90 days or more past due.                                                                                              | integer    |\n",
    "| NumberRealEstateLoansOrLines         | Number of mortgage and real estate loans including home equity lines of credit                                                                           | integer    |\n",
    "| NumberOfTime60-89DaysPastDueNotWorse | Number of times borrower has been 60-89 days past due but no worse in the last 2 years.                                                                  | integer    |\n",
    "| NumberOfDependents                   | Number of dependents in family excluding themselves (spouse, children etc.)                                                                              | integer    |\n",
    "\n"
   ]
  },
  {
   "cell_type": "markdown",
   "id": "d01a8905",
   "metadata": {},
   "source": [
    "## Python packages"
   ]
  },
  {
   "cell_type": "markdown",
   "id": "40f98b22",
   "metadata": {},
   "source": [
    "### NumPy\n",
    "NumPy is a well known general-purpose array-processing package. An extensive collection of high complexity mathematical functions make NumPy powerful to process large multi-dimensional arrays and matrices. NumPy is very useful for handling linear algebra, Fourier transforms, and random numbers.\n",
    "### Scikit-learn\n",
    "The Python library, Scikit-Learn, is built on top of the matplotlib, NumPy, and SciPy libraries. This Python ML library has several tools for data analysis and data mining tasks.\n",
    "\n",
    "### Pandas\n",
    "Pandas is a popular Python library for data analysis. It is not directly related to Machine Learning. As we know that the dataset must be prepared before training. In this case, Pandas comes handy as it was developed specifically for data extraction and preparation.\n",
    "### Matplotlib\n",
    "Matplotlib is a very popular Python library for data visualization. Like Pandas, it is not directly related to Machine Learning. It particularly comes in handy when a programmer wants to visualize the patterns in the data. It is a 2D plotting library used for creating 2D graphs and plots.\n",
    "### seaborn\n",
    "\n",
    "Seaborn is a library for making statistical graphs in Python. It is built on top of matplotlib and also integrated with pandas data structures.\n",
    "### Scikit-plot\n",
    "Scikit-plot is the result of an unartistic data scientist’s dreadful realization that visualization is one of the most crucial components in the data science process, not just a mere afterthought."
   ]
  },
  {
   "cell_type": "markdown",
   "id": "1b3f9e2f",
   "metadata": {},
   "source": [
    "## Importing Libraries"
   ]
  },
  {
   "cell_type": "code",
   "execution_count": 339,
   "id": "c91ea667",
   "metadata": {},
   "outputs": [],
   "source": [
    "import itertools\n",
    "import numpy as np\n",
    "import pandas as pd\n",
    "import matplotlib.pyplot as plt\n",
    "\n",
    "import scikitplot as skplt\n",
    "from sklearn import metrics\n",
    "from sklearn.metrics import confusion_matrix\n",
    "from sklearn.linear_model import LogisticRegression\n",
    "from sklearn.svm import LinearSVC\n",
    "from sklearn.svm import SVC\n",
    "from sklearn.metrics import f1_score\n",
    "from sklearn.metrics import precision_score\n",
    "from sklearn.tree import DecisionTreeRegressor\n",
    "from sklearn.metrics import roc_auc_score\n",
    "from sklearn.metrics import mean_squared_error, accuracy_score,confusion_matrix, roc_curve, auc,classification_report, recall_score\n",
    "# from sklearn.preprocessing import StandardScaler\n",
    "from sklearn.neighbors import KNeighborsClassifier\n",
    "from sklearn.naive_bayes import GaussianNB\n",
    "from sklearn.ensemble import RandomForestClassifier\n",
    "from sklearn.model_selection import train_test_split,RandomizedSearchCV\n",
    "from sklearn.ensemble import RandomForestClassifier,GradientBoostingClassifier\n",
    "\n",
    "from sklearn.metrics import recall_score\n",
    "%matplotlib inline\n",
    "import warnings\n",
    "warnings.filterwarnings('ignore')"
   ]
  },
  {
   "cell_type": "markdown",
   "id": "c21f4be3",
   "metadata": {},
   "source": [
    "## data analysis"
   ]
  },
  {
   "cell_type": "code",
   "execution_count": 340,
   "id": "bf9b3d84",
   "metadata": {},
   "outputs": [],
   "source": [
    "train_data = pd.read_csv(\"cs-training.csv\")\n",
    "test_data = pd.read_csv(\"cs-test.csv\")"
   ]
  },
  {
   "cell_type": "markdown",
   "id": "021cf734",
   "metadata": {},
   "source": [
    "### review data"
   ]
  },
  {
   "cell_type": "code",
   "execution_count": 341,
   "id": "ac0a33c9",
   "metadata": {},
   "outputs": [
    {
     "name": "stdout",
     "output_type": "stream",
     "text": [
      "<bound method NDFrame.describe of         Unnamed: 0  SeriousDlqin2yrs  RevolvingUtilizationOfUnsecuredLines  \\\n",
      "0                1                 1                              0.766127   \n",
      "1                2                 0                              0.957151   \n",
      "2                3                 0                              0.658180   \n",
      "3                4                 0                              0.233810   \n",
      "4                5                 0                              0.907239   \n",
      "...            ...               ...                                   ...   \n",
      "149995      149996                 0                              0.040674   \n",
      "149996      149997                 0                              0.299745   \n",
      "149997      149998                 0                              0.246044   \n",
      "149998      149999                 0                              0.000000   \n",
      "149999      150000                 0                              0.850283   \n",
      "\n",
      "        age  NumberOfTime30-59DaysPastDueNotWorse    DebtRatio  MonthlyIncome  \\\n",
      "0        45                                     2     0.802982         9120.0   \n",
      "1        40                                     0     0.121876         2600.0   \n",
      "2        38                                     1     0.085113         3042.0   \n",
      "3        30                                     0     0.036050         3300.0   \n",
      "4        49                                     1     0.024926        63588.0   \n",
      "...     ...                                   ...          ...            ...   \n",
      "149995   74                                     0     0.225131         2100.0   \n",
      "149996   44                                     0     0.716562         5584.0   \n",
      "149997   58                                     0  3870.000000            NaN   \n",
      "149998   30                                     0     0.000000         5716.0   \n",
      "149999   64                                     0     0.249908         8158.0   \n",
      "\n",
      "        NumberOfOpenCreditLinesAndLoans  NumberOfTimes90DaysLate  \\\n",
      "0                                    13                        0   \n",
      "1                                     4                        0   \n",
      "2                                     2                        1   \n",
      "3                                     5                        0   \n",
      "4                                     7                        0   \n",
      "...                                 ...                      ...   \n",
      "149995                                4                        0   \n",
      "149996                                4                        0   \n",
      "149997                               18                        0   \n",
      "149998                                4                        0   \n",
      "149999                                8                        0   \n",
      "\n",
      "        NumberRealEstateLoansOrLines  NumberOfTime60-89DaysPastDueNotWorse  \\\n",
      "0                                  6                                     0   \n",
      "1                                  0                                     0   \n",
      "2                                  0                                     0   \n",
      "3                                  0                                     0   \n",
      "4                                  1                                     0   \n",
      "...                              ...                                   ...   \n",
      "149995                             1                                     0   \n",
      "149996                             1                                     0   \n",
      "149997                             1                                     0   \n",
      "149998                             0                                     0   \n",
      "149999                             2                                     0   \n",
      "\n",
      "        NumberOfDependents  \n",
      "0                      2.0  \n",
      "1                      1.0  \n",
      "2                      0.0  \n",
      "3                      0.0  \n",
      "4                      0.0  \n",
      "...                    ...  \n",
      "149995                 0.0  \n",
      "149996                 2.0  \n",
      "149997                 0.0  \n",
      "149998                 0.0  \n",
      "149999                 0.0  \n",
      "\n",
      "[150000 rows x 12 columns]>\n",
      "<bound method NDFrame.head of         Unnamed: 0  SeriousDlqin2yrs  RevolvingUtilizationOfUnsecuredLines  \\\n",
      "0                1                 1                              0.766127   \n",
      "1                2                 0                              0.957151   \n",
      "2                3                 0                              0.658180   \n",
      "3                4                 0                              0.233810   \n",
      "4                5                 0                              0.907239   \n",
      "...            ...               ...                                   ...   \n",
      "149995      149996                 0                              0.040674   \n",
      "149996      149997                 0                              0.299745   \n",
      "149997      149998                 0                              0.246044   \n",
      "149998      149999                 0                              0.000000   \n",
      "149999      150000                 0                              0.850283   \n",
      "\n",
      "        age  NumberOfTime30-59DaysPastDueNotWorse    DebtRatio  MonthlyIncome  \\\n",
      "0        45                                     2     0.802982         9120.0   \n",
      "1        40                                     0     0.121876         2600.0   \n",
      "2        38                                     1     0.085113         3042.0   \n",
      "3        30                                     0     0.036050         3300.0   \n",
      "4        49                                     1     0.024926        63588.0   \n",
      "...     ...                                   ...          ...            ...   \n",
      "149995   74                                     0     0.225131         2100.0   \n",
      "149996   44                                     0     0.716562         5584.0   \n",
      "149997   58                                     0  3870.000000            NaN   \n",
      "149998   30                                     0     0.000000         5716.0   \n",
      "149999   64                                     0     0.249908         8158.0   \n",
      "\n",
      "        NumberOfOpenCreditLinesAndLoans  NumberOfTimes90DaysLate  \\\n",
      "0                                    13                        0   \n",
      "1                                     4                        0   \n",
      "2                                     2                        1   \n",
      "3                                     5                        0   \n",
      "4                                     7                        0   \n",
      "...                                 ...                      ...   \n",
      "149995                                4                        0   \n",
      "149996                                4                        0   \n",
      "149997                               18                        0   \n",
      "149998                                4                        0   \n",
      "149999                                8                        0   \n",
      "\n",
      "        NumberRealEstateLoansOrLines  NumberOfTime60-89DaysPastDueNotWorse  \\\n",
      "0                                  6                                     0   \n",
      "1                                  0                                     0   \n",
      "2                                  0                                     0   \n",
      "3                                  0                                     0   \n",
      "4                                  1                                     0   \n",
      "...                              ...                                   ...   \n",
      "149995                             1                                     0   \n",
      "149996                             1                                     0   \n",
      "149997                             1                                     0   \n",
      "149998                             0                                     0   \n",
      "149999                             2                                     0   \n",
      "\n",
      "        NumberOfDependents  \n",
      "0                      2.0  \n",
      "1                      1.0  \n",
      "2                      0.0  \n",
      "3                      0.0  \n",
      "4                      0.0  \n",
      "...                    ...  \n",
      "149995                 0.0  \n",
      "149996                 2.0  \n",
      "149997                 0.0  \n",
      "149998                 0.0  \n",
      "149999                 0.0  \n",
      "\n",
      "[150000 rows x 12 columns]>\n"
     ]
    }
   ],
   "source": [
    "print(train_data.describe)\n",
    "print(train_data.head)"
   ]
  },
  {
   "cell_type": "code",
   "execution_count": 342,
   "id": "f6da35be",
   "metadata": {},
   "outputs": [
    {
     "data": {
      "text/plain": [
       "(150000, 12)"
      ]
     },
     "execution_count": 342,
     "metadata": {},
     "output_type": "execute_result"
    }
   ],
   "source": [
    "train_data.shape\n"
   ]
  },
  {
   "cell_type": "markdown",
   "id": "fb3f8783",
   "metadata": {},
   "source": [
    "### print columns headers of the dataset"
   ]
  },
  {
   "cell_type": "code",
   "execution_count": 343,
   "id": "c85352a3",
   "metadata": {},
   "outputs": [
    {
     "data": {
      "text/plain": [
       "Index(['Unnamed: 0', 'SeriousDlqin2yrs',\n",
       "       'RevolvingUtilizationOfUnsecuredLines', 'age',\n",
       "       'NumberOfTime30-59DaysPastDueNotWorse', 'DebtRatio', 'MonthlyIncome',\n",
       "       'NumberOfOpenCreditLinesAndLoans', 'NumberOfTimes90DaysLate',\n",
       "       'NumberRealEstateLoansOrLines', 'NumberOfTime60-89DaysPastDueNotWorse',\n",
       "       'NumberOfDependents'],\n",
       "      dtype='object')"
      ]
     },
     "execution_count": 343,
     "metadata": {},
     "output_type": "execute_result"
    }
   ],
   "source": [
    "train_data.columns"
   ]
  },
  {
   "cell_type": "markdown",
   "id": "66da44ba",
   "metadata": {},
   "source": [
    "### drop lines with missing data"
   ]
  },
  {
   "cell_type": "code",
   "execution_count": 344,
   "id": "a2de073c",
   "metadata": {},
   "outputs": [],
   "source": [
    "train_data.dropna(axis=1)\n",
    "cols_with_missing = [col for col in train_data.columns\n",
    "                         if train_data[col].isnull().any()]\n",
    "reduced_train_data = train_data.drop(cols_with_missing, axis=1)\n",
    "reduced_test_data = test_data.drop(cols_with_missing,axis=1)"
   ]
  },
  {
   "cell_type": "code",
   "execution_count": 345,
   "id": "cafa0e03",
   "metadata": {},
   "outputs": [
    {
     "data": {
      "text/plain": [
       "Index(['Unnamed: 0', 'SeriousDlqin2yrs',\n",
       "       'RevolvingUtilizationOfUnsecuredLines', 'age',\n",
       "       'NumberOfTime30-59DaysPastDueNotWorse', 'DebtRatio',\n",
       "       'NumberOfOpenCreditLinesAndLoans', 'NumberOfTimes90DaysLate',\n",
       "       'NumberRealEstateLoansOrLines', 'NumberOfTime60-89DaysPastDueNotWorse'],\n",
       "      dtype='object')"
      ]
     },
     "execution_count": 345,
     "metadata": {},
     "output_type": "execute_result"
    }
   ],
   "source": [
    "reduced_train_data.columns"
   ]
  },
  {
   "cell_type": "code",
   "execution_count": null,
   "id": "578b30c4",
   "metadata": {},
   "outputs": [],
   "source": []
  },
  {
   "cell_type": "markdown",
   "id": "c299887e",
   "metadata": {},
   "source": [
    "## Applying Machine Learning Algorithms for Classification Problem"
   ]
  },
  {
   "cell_type": "markdown",
   "id": "5a4297c2",
   "metadata": {},
   "source": [
    "## logistic-regression"
   ]
  },
  {
   "cell_type": "markdown",
   "id": "167af5cd",
   "metadata": {},
   "source": [
    " Logistic regression is one of the most popular Machine Learning algorithms, which comes under the Supervised Learning technique. It is used for predicting the categorical dependent variable using a given set of independent variables."
   ]
  },
  {
   "cell_type": "markdown",
   "id": "bc8760d6",
   "metadata": {},
   "source": [
    "### specify the target variable"
   ]
  },
  {
   "cell_type": "code",
   "execution_count": 346,
   "id": "672a3c0c",
   "metadata": {},
   "outputs": [],
   "source": [
    "train_y = reduced_train_data.SeriousDlqin2yrs\n",
    "test_y = reduced_test_data.SeriousDlqin2yrs"
   ]
  },
  {
   "cell_type": "markdown",
   "id": "0c15df64",
   "metadata": {},
   "source": [
    "### create list of features"
   ]
  },
  {
   "cell_type": "code",
   "execution_count": 347,
   "id": "e2df0e3d",
   "metadata": {},
   "outputs": [],
   "source": [
    "feature_names = ['RevolvingUtilizationOfUnsecuredLines', 'age',\n",
    "       'NumberOfTime30-59DaysPastDueNotWorse', 'DebtRatio',\n",
    "       'NumberOfOpenCreditLinesAndLoans', 'NumberOfTimes90DaysLate',\n",
    "       'NumberRealEstateLoansOrLines', 'NumberOfTime60-89DaysPastDueNotWorse']\n",
    "#create data corresponding to the features\n",
    "train_X = reduced_train_data[feature_names]\n",
    "test_X = reduced_test_data[feature_names]"
   ]
  },
  {
   "cell_type": "markdown",
   "id": "3c208eef",
   "metadata": {},
   "source": [
    "### Spiliting Dataset into train and test set."
   ]
  },
  {
   "cell_type": "code",
   "execution_count": 348,
   "id": "624c75ec",
   "metadata": {},
   "outputs": [],
   "source": [
    "x_train, x_test, y_train, y_test = train_test_split(train_X, train_y, test_size = 0.3, random_state = 0)"
   ]
  },
  {
   "cell_type": "code",
   "execution_count": 355,
   "id": "1dc886ea",
   "metadata": {},
   "outputs": [
    {
     "data": {
      "text/plain": [
       "LogisticRegression(random_state=1)"
      ]
     },
     "execution_count": 355,
     "metadata": {},
     "output_type": "execute_result"
    }
   ],
   "source": [
    "#specify the model, set any numeric valye as parameter to ensure reproducibility \n",
    "logreg = LogisticRegression(random_state=1)\n",
    "\n",
    "#fit the model\n",
    "logreg.fit(x_train,y_train)\n"
   ]
  },
  {
   "cell_type": "markdown",
   "id": "addfe249",
   "metadata": {},
   "source": [
    "### Make predictions"
   ]
  },
  {
   "cell_type": "code",
   "execution_count": 356,
   "id": "8092c6d2",
   "metadata": {},
   "outputs": [],
   "source": [
    "predictions_train = logreg.predict(x_train)\n",
    "y_pred = logreg.predict(x_test)\n",
    "t_pred = logreg.predict(x_test)"
   ]
  },
  {
   "cell_type": "code",
   "execution_count": 357,
   "id": "dab64706",
   "metadata": {},
   "outputs": [
    {
     "name": "stdout",
     "output_type": "stream",
     "text": [
      "[0 0 0 ... 0 0 0]\n",
      "[0 0 0 ... 0 0 0]\n",
      "(45000,)\n",
      "int64\n",
      "(45000,)\n",
      "int64\n"
     ]
    }
   ],
   "source": [
    "#this section investigates resulting data, I had to do this because confusion matrix was throwing errors\n",
    "print(predictions_train)\n",
    "print(y_pred)\n",
    "print(y_pred.shape)\n",
    "print(y_pred.dtype)\n",
    "print(y_test.shape)\n",
    "print(y_test.dtype)"
   ]
  },
  {
   "cell_type": "code",
   "execution_count": 358,
   "id": "115b734f",
   "metadata": {},
   "outputs": [],
   "source": [
    "y_predi = y_pred.astype(int) #converting float to int"
   ]
  },
  {
   "cell_type": "markdown",
   "id": "3cd60966",
   "metadata": {},
   "source": [
    "### create confuson matrics in text view"
   ]
  },
  {
   "cell_type": "code",
   "execution_count": 359,
   "id": "78a878ff",
   "metadata": {},
   "outputs": [
    {
     "data": {
      "text/plain": [
       "(41893, 72, 2953, 82)"
      ]
     },
     "execution_count": 359,
     "metadata": {},
     "output_type": "execute_result"
    }
   ],
   "source": [
    "tn, fp, fn, tp = confusion_matrix( y_test,y_predi).ravel()\n",
    "(tn, fp, fn, tp)"
   ]
  },
  {
   "cell_type": "markdown",
   "id": "d3d4979f",
   "metadata": {},
   "source": [
    "### consusion matrix "
   ]
  },
  {
   "cell_type": "code",
   "execution_count": 360,
   "id": "5e25e5a5",
   "metadata": {},
   "outputs": [
    {
     "data": {
      "text/plain": [
       "<AxesSubplot:title={'center':'Confusion Matrix'}, xlabel='Predicted label', ylabel='True label'>"
      ]
     },
     "execution_count": 360,
     "metadata": {},
     "output_type": "execute_result"
    },
    {
     "data": {
      "image/png": "[encoded data removed]",
      "text/plain": [
       "<Figure size 432x432 with 2 Axes>"
      ]
     },
     "metadata": {
      "needs_background": "light"
     },
     "output_type": "display_data"
    }
   ],
   "source": [
    "skplt.metrics.plot_confusion_matrix(y_test,y_predi,figsize=(6,6))"
   ]
  },
  {
   "cell_type": "markdown",
   "id": "8dd93b00",
   "metadata": {},
   "source": [
    "### calculating  ROC"
   ]
  },
  {
   "cell_type": "code",
   "execution_count": 361,
   "id": "26b53ab5",
   "metadata": {},
   "outputs": [
    {
     "name": "stdout",
     "output_type": "stream",
     "text": [
      "[0.         0.00171572 1.        ]\n",
      "(3,)\n",
      "[0.         0.02701812 1.        ]\n",
      "(3,)\n",
      "[2 1 0]\n"
     ]
    }
   ],
   "source": [
    "fpr, tpr, thresholds = metrics.roc_curve(y_test, y_predi)\n",
    "print(fpr)\n",
    "print(fpr.shape)\n",
    "print(tpr)\n",
    "print(tpr.shape)\n",
    "print(thresholds)"
   ]
  },
  {
   "cell_type": "code",
   "execution_count": null,
   "id": "2cceb407",
   "metadata": {},
   "outputs": [],
   "source": []
  },
  {
   "cell_type": "markdown",
   "id": "29249295",
   "metadata": {},
   "source": [
    "### calculating  AUC"
   ]
  },
  {
   "cell_type": "code",
   "execution_count": 362,
   "id": "efa87718",
   "metadata": {},
   "outputs": [
    {
     "name": "stdout",
     "output_type": "stream",
     "text": [
      "0.5126512032169273\n"
     ]
    }
   ],
   "source": [
    "from sklearn import metrics\n",
    "# AUC\n",
    "roc_auc = metrics.auc(fpr, tpr)\n",
    "print(roc_auc)"
   ]
  },
  {
   "cell_type": "markdown",
   "id": "c7f0f8fa",
   "metadata": {},
   "source": [
    "### Plotting ROC"
   ]
  },
  {
   "cell_type": "code",
   "execution_count": 363,
   "id": "52c66eb5",
   "metadata": {},
   "outputs": [
    {
     "data": {
      "image/png": "[encoded data removed]",
      "text/plain": [
       "<Figure size 432x288 with 1 Axes>"
      ]
     },
     "metadata": {
      "needs_background": "light"
     },
     "output_type": "display_data"
    }
   ],
   "source": [
    "plt.title('Receiver Operating Characteristic')\n",
    "plt.plot(fpr, tpr, 'b', label = 'AUC = %0.2f' % roc_auc)\n",
    "plt.legend(loc = 'lower right')\n",
    "plt.plot([0, 1], [0, 1],'r--')\n",
    "plt.xlim([0, 1])\n",
    "plt.ylim([0, 1])\n",
    "plt.ylabel('True Positive Rate')\n",
    "plt.xlabel('False Positive Rate')\n",
    "plt.show()"
   ]
  },
  {
   "cell_type": "markdown",
   "id": "a34d27ef",
   "metadata": {},
   "source": [
    "### Calculate F1 score"
   ]
  },
  {
   "cell_type": "code",
   "execution_count": 364,
   "id": "45932f8f",
   "metadata": {},
   "outputs": [
    {
     "data": {
      "text/plain": [
       "0.051426779554719346"
      ]
     },
     "execution_count": 364,
     "metadata": {},
     "output_type": "execute_result"
    }
   ],
   "source": [
    "#calculate F1 score\n",
    "from sklearn.metrics import f1_score\n",
    "f1_score(y_test, y_predi) "
   ]
  },
  {
   "cell_type": "markdown",
   "id": "b008dc11",
   "metadata": {},
   "source": [
    "### Accuracy score"
   ]
  },
  {
   "cell_type": "code",
   "execution_count": 365,
   "id": "65dbbeb8",
   "metadata": {},
   "outputs": [
    {
     "data": {
      "text/plain": [
       "0.9327777777777778"
      ]
     },
     "execution_count": 365,
     "metadata": {},
     "output_type": "execute_result"
    }
   ],
   "source": [
    "accuracy_score(y_test, y_predi) \n"
   ]
  },
  {
   "cell_type": "code",
   "execution_count": 366,
   "id": "accce5c9",
   "metadata": {},
   "outputs": [],
   "source": [
    "form = []\n",
    "form.append(['Logistic Regression',accuracy_score(y_test, y_predi)])"
   ]
  },
  {
   "cell_type": "markdown",
   "id": "1993f05c",
   "metadata": {},
   "source": [
    "### Precision"
   ]
  },
  {
   "cell_type": "code",
   "execution_count": 367,
   "id": "de32cbff",
   "metadata": {},
   "outputs": [
    {
     "data": {
      "text/plain": [
       "0.5324675324675324"
      ]
     },
     "execution_count": 367,
     "metadata": {},
     "output_type": "execute_result"
    }
   ],
   "source": [
    "precision_score(y_test, y_predi)"
   ]
  },
  {
   "cell_type": "markdown",
   "id": "2ec72ad5",
   "metadata": {},
   "source": [
    "### Recall"
   ]
  },
  {
   "cell_type": "code",
   "execution_count": 368,
   "id": "41782ce6",
   "metadata": {},
   "outputs": [
    {
     "data": {
      "text/plain": [
       "0.02701812191103789"
      ]
     },
     "execution_count": 368,
     "metadata": {},
     "output_type": "execute_result"
    }
   ],
   "source": [
    "\n",
    "recall_score(y_test, y_predi)"
   ]
  },
  {
   "cell_type": "markdown",
   "id": "ee42975e",
   "metadata": {},
   "source": [
    "### Cost-sensitive accuracy"
   ]
  },
  {
   "cell_type": "code",
   "execution_count": 369,
   "id": "1640094d",
   "metadata": {},
   "outputs": [
    {
     "name": "stdout",
     "output_type": "stream",
     "text": [
      "0.9982876305087164\n"
     ]
    }
   ],
   "source": [
    "fp_cost = 1\n",
    "fn_cost = 0\n",
    "cost_sensitive_accuracy = (tp + tn) / (tp + tn + fp*fp_cost + fn*fn_cost)\n",
    "print(cost_sensitive_accuracy)"
   ]
  },
  {
   "cell_type": "code",
   "execution_count": 370,
   "id": "4e3a0f81",
   "metadata": {},
   "outputs": [
    {
     "data": {
      "text/html": [
       "<div>\n",
       "<style scoped>\n",
       "    .dataframe tbody tr th:only-of-type {\n",
       "        vertical-align: middle;\n",
       "    }\n",
       "\n",
       "    .dataframe tbody tr th {\n",
       "        vertical-align: top;\n",
       "    }\n",
       "\n",
       "    .dataframe thead th {\n",
       "        text-align: right;\n",
       "    }\n",
       "</style>\n",
       "<table border=\"1\" class=\"dataframe\">\n",
       "  <thead>\n",
       "    <tr style=\"text-align: right;\">\n",
       "      <th></th>\n",
       "      <th>Model</th>\n",
       "      <th>Accuracy</th>\n",
       "      <th>Precision</th>\n",
       "      <th>Recall</th>\n",
       "      <th>F1 Score</th>\n",
       "      <th>ROC_AUC</th>\n",
       "    </tr>\n",
       "  </thead>\n",
       "  <tbody>\n",
       "    <tr>\n",
       "      <th>0</th>\n",
       "      <td>Logistic Regression</td>\n",
       "      <td>0.932778</td>\n",
       "      <td>0.532468</td>\n",
       "      <td>0.027018</td>\n",
       "      <td>0.051427</td>\n",
       "      <td>0.512651</td>\n",
       "    </tr>\n",
       "  </tbody>\n",
       "</table>\n",
       "</div>"
      ],
      "text/plain": [
       "                 Model  Accuracy  Precision    Recall  F1 Score   ROC_AUC\n",
       "0  Logistic Regression  0.932778   0.532468  0.027018  0.051427  0.512651"
      ]
     },
     "execution_count": 370,
     "metadata": {},
     "output_type": "execute_result"
    }
   ],
   "source": [
    "results = pd.DataFrame([['Logistic Regression', accuracy_score(y_test, y_predi) ,precision_score(y_test, y_predi),recall_score(y_test, y_predi), f1_score(y_test, y_predi) ,roc_auc]],\n",
    "columns = ['Model', 'Accuracy', 'Precision', 'Recall', 'F1 Score','ROC_AUC'])\n",
    "results"
   ]
  },
  {
   "cell_type": "markdown",
   "id": "ed3c1304",
   "metadata": {},
   "source": [
    "## Decision Tree"
   ]
  },
  {
   "cell_type": "code",
   "execution_count": 371,
   "id": "cb48b5b6",
   "metadata": {},
   "outputs": [
    {
     "data": {
      "text/plain": [
       "DecisionTreeClassifier(random_state=1)"
      ]
     },
     "execution_count": 371,
     "metadata": {},
     "output_type": "execute_result"
    }
   ],
   "source": [
    "from sklearn.tree import DecisionTreeClassifier\n",
    "\n",
    "#specify the model, set any numeric valye as parameter to ensure reproducibility \n",
    "dTree = DecisionTreeClassifier(random_state=1)\n",
    "\n",
    "#fit the model\n",
    "dTree.fit(x_train,y_train)"
   ]
  },
  {
   "cell_type": "markdown",
   "id": "cf4453ab",
   "metadata": {},
   "source": [
    "### Make predictions"
   ]
  },
  {
   "cell_type": "code",
   "execution_count": 372,
   "id": "1a8aa82d",
   "metadata": {},
   "outputs": [],
   "source": [
    "predictions_train = dTree.predict(x_train)\n",
    "y_pred = dTree.predict(x_test)"
   ]
  },
  {
   "cell_type": "code",
   "execution_count": 373,
   "id": "d6352ec3",
   "metadata": {},
   "outputs": [
    {
     "name": "stdout",
     "output_type": "stream",
     "text": [
      "[0 0 0 ... 1 0 1]\n",
      "[0 0 0 ... 0 0 0]\n",
      "(45000,)\n",
      "int64\n",
      "(45000,)\n",
      "int64\n"
     ]
    }
   ],
   "source": [
    "#this section investigates resulting data\n",
    "print(predictions_train)\n",
    "print(y_pred)\n",
    "print(y_pred.shape)\n",
    "print(y_pred.dtype)\n",
    "print(y_test.shape)\n",
    "print(y_test.dtype)"
   ]
  },
  {
   "cell_type": "code",
   "execution_count": 374,
   "id": "a9421fff",
   "metadata": {},
   "outputs": [],
   "source": [
    "#conver float to int\n",
    "y_predi = y_pred.astype(int)"
   ]
  },
  {
   "cell_type": "markdown",
   "id": "b88eff88",
   "metadata": {},
   "source": [
    "### create confusion matrics in text view"
   ]
  },
  {
   "cell_type": "code",
   "execution_count": 375,
   "id": "57ce82a1",
   "metadata": {},
   "outputs": [
    {
     "data": {
      "text/plain": [
       "(39595, 2370, 2222, 813)"
      ]
     },
     "execution_count": 375,
     "metadata": {},
     "output_type": "execute_result"
    }
   ],
   "source": [
    "tn, fp, fn, tp = confusion_matrix( y_test,y_predi).ravel()\n",
    "(tn, fp, fn, tp)"
   ]
  },
  {
   "cell_type": "markdown",
   "id": "75cd3f67",
   "metadata": {},
   "source": [
    "### Plotting Cunfusion Matrix"
   ]
  },
  {
   "cell_type": "code",
   "execution_count": 376,
   "id": "4e04e6a3",
   "metadata": {},
   "outputs": [
    {
     "data": {
      "text/plain": [
       "<AxesSubplot:title={'center':'Confusion Matrix'}, xlabel='Predicted label', ylabel='True label'>"
      ]
     },
     "execution_count": 376,
     "metadata": {},
     "output_type": "execute_result"
    },
    {
     "data": {
      "image/png": "[encoded data removed]",
      "text/plain": [
       "<Figure size 432x432 with 2 Axes>"
      ]
     },
     "metadata": {
      "needs_background": "light"
     },
     "output_type": "display_data"
    }
   ],
   "source": [
    "skplt.metrics.plot_confusion_matrix(y_test,y_predi,figsize=(6,6))"
   ]
  },
  {
   "cell_type": "markdown",
   "id": "c0856938",
   "metadata": {},
   "source": [
    "### ROC"
   ]
  },
  {
   "cell_type": "code",
   "execution_count": 377,
   "id": "7fd2938d",
   "metadata": {},
   "outputs": [
    {
     "name": "stdout",
     "output_type": "stream",
     "text": [
      "[0.         0.05647563 1.        ]\n",
      "(3,)\n",
      "[0.         0.26787479 1.        ]\n",
      "(3,)\n",
      "[2 1 0]\n"
     ]
    }
   ],
   "source": [
    "fpr, tpr, thresholds = metrics.roc_curve(y_test, y_predi)\n",
    "print(fpr)\n",
    "print(fpr.shape)\n",
    "print(tpr)\n",
    "print(tpr.shape)\n",
    "print(thresholds)"
   ]
  },
  {
   "cell_type": "markdown",
   "id": "3340d75b",
   "metadata": {},
   "source": [
    "### AUC"
   ]
  },
  {
   "cell_type": "code",
   "execution_count": 378,
   "id": "a8db161a",
   "metadata": {},
   "outputs": [
    {
     "data": {
      "text/plain": [
       "0.6056995798059535"
      ]
     },
     "execution_count": 378,
     "metadata": {},
     "output_type": "execute_result"
    }
   ],
   "source": [
    "roc_auc = metrics.auc(fpr, tpr)\n",
    "roc_auc"
   ]
  },
  {
   "cell_type": "markdown",
   "id": "614ab961",
   "metadata": {},
   "source": [
    "### Plotting "
   ]
  },
  {
   "cell_type": "code",
   "execution_count": 379,
   "id": "1d2cc92b",
   "metadata": {},
   "outputs": [
    {
     "data": {
      "image/png": "[encoded data removed]",
      "text/plain": [
       "<Figure size 432x288 with 1 Axes>"
      ]
     },
     "metadata": {
      "needs_background": "light"
     },
     "output_type": "display_data"
    }
   ],
   "source": [
    "plt.title('Receiver Operating Characteristic')\n",
    "plt.plot(fpr, tpr, 'b', label = 'AUC = %0.2f' % roc_auc)\n",
    "plt.legend(loc = 'lower right')\n",
    "plt.plot([0, 1], [0, 1],'r--')\n",
    "plt.xlim([0, 1])\n",
    "plt.ylim([0, 1])\n",
    "plt.ylabel('True Positive Rate')\n",
    "plt.xlabel('False Positive Rate')\n",
    "plt.show()"
   ]
  },
  {
   "cell_type": "markdown",
   "id": "d1d72da9",
   "metadata": {},
   "source": [
    "### F1 score"
   ]
  },
  {
   "cell_type": "code",
   "execution_count": 380,
   "id": "407fda33",
   "metadata": {},
   "outputs": [
    {
     "data": {
      "text/plain": [
       "0.26149887423608875"
      ]
     },
     "execution_count": 380,
     "metadata": {},
     "output_type": "execute_result"
    }
   ],
   "source": [
    "f1_score=f1_score(y_test, y_predi)\n",
    "f1_score"
   ]
  },
  {
   "cell_type": "markdown",
   "id": "699294c2",
   "metadata": {},
   "source": [
    "### Accuracy score"
   ]
  },
  {
   "cell_type": "code",
   "execution_count": 381,
   "id": "cc5cb384",
   "metadata": {},
   "outputs": [
    {
     "data": {
      "text/plain": [
       "0.8979555555555555"
      ]
     },
     "execution_count": 381,
     "metadata": {},
     "output_type": "execute_result"
    }
   ],
   "source": [
    "a_score=accuracy_score(y_test, y_predi) \n",
    "a_score"
   ]
  },
  {
   "cell_type": "markdown",
   "id": "02fb3c08",
   "metadata": {},
   "source": [
    "### Precision"
   ]
  },
  {
   "cell_type": "code",
   "execution_count": 382,
   "id": "133f012d",
   "metadata": {},
   "outputs": [
    {
     "data": {
      "text/plain": [
       "0.2554194156456173"
      ]
     },
     "execution_count": 382,
     "metadata": {},
     "output_type": "execute_result"
    }
   ],
   "source": [
    "p_score=precision_score(y_test, y_predi)\n",
    "p_score"
   ]
  },
  {
   "cell_type": "markdown",
   "id": "15ee9e0e",
   "metadata": {},
   "source": [
    "### Recall"
   ]
  },
  {
   "cell_type": "code",
   "execution_count": 383,
   "id": "3c57bdf9",
   "metadata": {},
   "outputs": [
    {
     "data": {
      "text/plain": [
       "0.26787479406919273"
      ]
     },
     "execution_count": 383,
     "metadata": {},
     "output_type": "execute_result"
    }
   ],
   "source": [
    "recall_score=recall_score(y_test, y_predi)\n",
    "recall_score"
   ]
  },
  {
   "cell_type": "markdown",
   "id": "414ed923",
   "metadata": {},
   "source": [
    "### cost-sensitive accuracy"
   ]
  },
  {
   "cell_type": "code",
   "execution_count": 384,
   "id": "767270dc",
   "metadata": {},
   "outputs": [
    {
     "name": "stdout",
     "output_type": "stream",
     "text": [
      "0.9445976904016083\n"
     ]
    }
   ],
   "source": [
    "fp_cost = 1\n",
    "fn_cost = 0\n",
    "cost_sensitive_accuracy = (tp + tn) / (tp + tn + fp*fp_cost + fn*fn_cost)\n",
    "print(cost_sensitive_accuracy)"
   ]
  },
  {
   "cell_type": "code",
   "execution_count": 385,
   "id": "3362fa4b",
   "metadata": {},
   "outputs": [
    {
     "data": {
      "text/html": [
       "<div>\n",
       "<style scoped>\n",
       "    .dataframe tbody tr th:only-of-type {\n",
       "        vertical-align: middle;\n",
       "    }\n",
       "\n",
       "    .dataframe tbody tr th {\n",
       "        vertical-align: top;\n",
       "    }\n",
       "\n",
       "    .dataframe thead th {\n",
       "        text-align: right;\n",
       "    }\n",
       "</style>\n",
       "<table border=\"1\" class=\"dataframe\">\n",
       "  <thead>\n",
       "    <tr style=\"text-align: right;\">\n",
       "      <th></th>\n",
       "      <th>Model</th>\n",
       "      <th>Accuracy</th>\n",
       "      <th>Precision</th>\n",
       "      <th>Recall</th>\n",
       "      <th>F1 Score</th>\n",
       "      <th>ROC_AUC</th>\n",
       "    </tr>\n",
       "  </thead>\n",
       "  <tbody>\n",
       "    <tr>\n",
       "      <th>0</th>\n",
       "      <td>Decision Tree</td>\n",
       "      <td>0.897956</td>\n",
       "      <td>0.255419</td>\n",
       "      <td>0.267875</td>\n",
       "      <td>0.261499</td>\n",
       "      <td>0.6057</td>\n",
       "    </tr>\n",
       "  </tbody>\n",
       "</table>\n",
       "</div>"
      ],
      "text/plain": [
       "           Model  Accuracy  Precision    Recall  F1 Score  ROC_AUC\n",
       "0  Decision Tree  0.897956   0.255419  0.267875  0.261499   0.6057"
      ]
     },
     "execution_count": 385,
     "metadata": {},
     "output_type": "execute_result"
    }
   ],
   "source": [
    "dt = pd.DataFrame([['Decision Tree', a_score ,p_score,recall_score, f1_score ,roc_auc]],\n",
    "columns = ['Model', 'Accuracy', 'Precision', 'Recall', 'F1 Score','ROC_AUC'])\n",
    "dt"
   ]
  },
  {
   "cell_type": "code",
   "execution_count": 386,
   "id": "61d1297b",
   "metadata": {},
   "outputs": [],
   "source": [
    "results = results.append(dt, ignore_index = True)\n"
   ]
  },
  {
   "cell_type": "code",
   "execution_count": 387,
   "id": "995440dd",
   "metadata": {},
   "outputs": [
    {
     "data": {
      "text/html": [
       "<div>\n",
       "<style scoped>\n",
       "    .dataframe tbody tr th:only-of-type {\n",
       "        vertical-align: middle;\n",
       "    }\n",
       "\n",
       "    .dataframe tbody tr th {\n",
       "        vertical-align: top;\n",
       "    }\n",
       "\n",
       "    .dataframe thead th {\n",
       "        text-align: right;\n",
       "    }\n",
       "</style>\n",
       "<table border=\"1\" class=\"dataframe\">\n",
       "  <thead>\n",
       "    <tr style=\"text-align: right;\">\n",
       "      <th></th>\n",
       "      <th>Model</th>\n",
       "      <th>Accuracy</th>\n",
       "      <th>Precision</th>\n",
       "      <th>Recall</th>\n",
       "      <th>F1 Score</th>\n",
       "      <th>ROC_AUC</th>\n",
       "    </tr>\n",
       "  </thead>\n",
       "  <tbody>\n",
       "    <tr>\n",
       "      <th>0</th>\n",
       "      <td>Logistic Regression</td>\n",
       "      <td>0.932778</td>\n",
       "      <td>0.532468</td>\n",
       "      <td>0.027018</td>\n",
       "      <td>0.051427</td>\n",
       "      <td>0.512651</td>\n",
       "    </tr>\n",
       "    <tr>\n",
       "      <th>1</th>\n",
       "      <td>Decision Tree</td>\n",
       "      <td>0.897956</td>\n",
       "      <td>0.255419</td>\n",
       "      <td>0.267875</td>\n",
       "      <td>0.261499</td>\n",
       "      <td>0.605700</td>\n",
       "    </tr>\n",
       "  </tbody>\n",
       "</table>\n",
       "</div>"
      ],
      "text/plain": [
       "                 Model  Accuracy  Precision    Recall  F1 Score   ROC_AUC\n",
       "0  Logistic Regression  0.932778   0.532468  0.027018  0.051427  0.512651\n",
       "1        Decision Tree  0.897956   0.255419  0.267875  0.261499  0.605700"
      ]
     },
     "execution_count": 387,
     "metadata": {},
     "output_type": "execute_result"
    }
   ],
   "source": [
    "results"
   ]
  },
  {
   "cell_type": "markdown",
   "id": "fe81f901",
   "metadata": {},
   "source": [
    "## KNN"
   ]
  },
  {
   "cell_type": "code",
   "execution_count": 388,
   "id": "bd70b46b",
   "metadata": {},
   "outputs": [
    {
     "name": "stdout",
     "output_type": "stream",
     "text": [
      "AUC Score : 0.8886195756715168\n"
     ]
    }
   ],
   "source": [
    "model_KNN = KNeighborsClassifier()\n",
    "\n",
    "neighbors = [1,2,3,4,5,6,7,8,9,10,11,12,13,14,15,16,17,18,19,20]\n",
    "model_KNN.fit(x_train, y_train)\n",
    "knn = KNeighborsClassifier(n_neighbors = 20)\n",
    "knn.fit(x_train, y_train)\n",
    "knn_scores_proba = knn.predict_proba(x_train)\n",
    "knn_scores = knn_scores_proba[:,1]\n",
    "print(\"AUC Score :\", roc_auc_score(y_train,knn_scores))"
   ]
  },
  {
   "cell_type": "code",
   "execution_count": 389,
   "id": "6f858972",
   "metadata": {},
   "outputs": [],
   "source": [
    "# from pandas import set_option\n",
    "# from sklearn.model_selection import KFold\n",
    "# from sklearn.model_selection import StratifiedKFold\n",
    "# from sklearn.model_selection import cross_val_score\n",
    "# from sklearn.model_selection import GridSearchCV\n",
    "# from sklearn.metrics import classification_report\n",
    "# from sklearn.metrics import confusion_matrix\n",
    "# from sklearn.metrics import accuracy_score\n",
    "# from sklearn.pipeline import Pipeline\n",
    "# from sklearn.linear_model import LogisticRegression\n",
    "# from sklearn.tree import DecisionTreeClassifier\n",
    "# from sklearn.neighbors import KNeighborsClassifier\n",
    "# from sklearn.ensemble import RandomForestClassifier\n",
    "# from sklearn.ensemble import ExtraTreesClassifier"
   ]
  },
  {
   "cell_type": "code",
   "execution_count": 390,
   "id": "ca43e1c2",
   "metadata": {},
   "outputs": [
    {
     "name": "stdout",
     "output_type": "stream",
     "text": [
      "100 0.7738365716625469\n",
      "200 0.7751776319444048\n",
      "300 0.7679608507207013\n",
      "400 0.7659084657313275\n",
      "500 0.760544731027327\n",
      "600 0.7546051182920732\n",
      "700 0.750963969150569\n",
      "800 0.7484402963087424\n",
      "900 0.7465734585834943\n",
      "1000 0.7445061871006885\n",
      "\n",
      "200 0.7751776319444048\n"
     ]
    }
   ],
   "source": [
    "scorelist = []\n",
    "n_neighbors, maxauc = -1, 0\n",
    "for k in range(100, 1000+1, 100):\n",
    "    knn = KNeighborsClassifier(n_neighbors=k)\n",
    "    knn.fit(x_train, y_train)\n",
    "    y_pred = knn.predict_proba(x_test)[:,1]\n",
    "    score = roc_auc_score(y_test, y_pred)\n",
    "    print(k, score)\n",
    "    if score > maxauc:\n",
    "        n_neighbors, maxauc = k, score\n",
    "    scorelist.append(score)\n",
    "print()\n",
    "print(n_neighbors, maxauc)"
   ]
  },
  {
   "cell_type": "code",
   "execution_count": 391,
   "id": "57a3ea44",
   "metadata": {},
   "outputs": [
    {
     "name": "stdout",
     "output_type": "stream",
     "text": [
      "320 0.7670568377860976\n",
      "330 0.7665339104466713\n",
      "340 0.7661070700833106\n",
      "350 0.766047414188218\n",
      "360 0.7663753449518907\n",
      "370 0.7666842632451809\n",
      "380 0.7665274996756338\n",
      "390 0.7664235965053643\n",
      "400 0.7659084657313275\n",
      "\n",
      "320 0.7670568377860976\n"
     ]
    }
   ],
   "source": [
    "scorelist = []\n",
    "n_neighbors, maxauc = -1, 0\n",
    "for k in range(320, 400+1, 10):\n",
    "    knn = KNeighborsClassifier(n_neighbors=k)\n",
    "    knn.fit(x_train,y_train)\n",
    "    y_pred = knn.predict_proba(x_test)[:,1]\n",
    "    score = roc_auc_score(y_test, y_pred)\n",
    "    print(k, score)\n",
    "    if score > maxauc:\n",
    "        n_neighbors, maxauc = k, score\n",
    "    scorelist.append(score)\n",
    "print()\n",
    "print(n_neighbors, maxauc)"
   ]
  },
  {
   "cell_type": "code",
   "execution_count": 392,
   "id": "9aaeacdb",
   "metadata": {},
   "outputs": [
    {
     "data": {
      "text/plain": [
       "Text(0, 0.5, 'score(AUC)')"
      ]
     },
     "execution_count": 392,
     "metadata": {},
     "output_type": "execute_result"
    },
    {
     "data": {
      "image/png": "[encoded data removed]",
      "text/plain": [
       "<Figure size 432x288 with 1 Axes>"
      ]
     },
     "metadata": {
      "needs_background": "light"
     },
     "output_type": "display_data"
    }
   ],
   "source": [
    "plt.plot(scorelist)\n",
    "plt.title('score - n_neighbors')\n",
    "plt.xlabel('n_neighbors')\n",
    "plt.ylabel('score(AUC)')"
   ]
  },
  {
   "cell_type": "code",
   "execution_count": 393,
   "id": "d4344bd3",
   "metadata": {},
   "outputs": [
    {
     "data": {
      "image/png": "[encoded data removed]",
      "text/plain": [
       "<Figure size 432x288 with 1 Axes>"
      ]
     },
     "metadata": {
      "needs_background": "light"
     },
     "output_type": "display_data"
    }
   ],
   "source": [
    "def plot_roc_curve(fpr, tpr, label=None):\n",
    "    plt.plot(fpr, tpr, linewidth=2, label=label)\n",
    "    plt.plot([0,1],[0,1], \"k--\") \n",
    "    plt.axis([0,1,0,1])\n",
    "    plt.xlabel(\"False Positive Rate\")\n",
    "    plt.ylabel(\"True Positive rate\")\n",
    "fpr_gbc, tpr_gbc, thresh_gbc = roc_curve(y_train, knn_scores)\n",
    "plot_roc_curve(fpr_gbc, tpr_gbc)"
   ]
  },
  {
   "cell_type": "code",
   "execution_count": 394,
   "id": "799a7412",
   "metadata": {},
   "outputs": [
    {
     "data": {
      "image/png": "[encoded data removed]",
      "text/plain": [
       "<Figure size 432x288 with 2 Axes>"
      ]
     },
     "metadata": {
      "needs_background": "light"
     },
     "output_type": "display_data"
    }
   ],
   "source": [
    "y_pred = model_KNN.predict(x_test)\n",
    "cm = metrics.confusion_matrix(y_test, y_pred)\n",
    "cm_display = metrics.ConfusionMatrixDisplay(cm).plot()"
   ]
  },
  {
   "cell_type": "code",
   "execution_count": 395,
   "id": "c92612c1",
   "metadata": {},
   "outputs": [
    {
     "data": {
      "text/plain": [
       "0.554510574140881"
      ]
     },
     "execution_count": 395,
     "metadata": {},
     "output_type": "execute_result"
    }
   ],
   "source": [
    "roc=roc_auc_score(y_test, y_pred)\n",
    "roc"
   ]
  },
  {
   "cell_type": "code",
   "execution_count": 396,
   "id": "4a9f298a",
   "metadata": {
    "scrolled": true
   },
   "outputs": [
    {
     "data": {
      "text/plain": [
       "0.9321777777777778"
      ]
     },
     "execution_count": 396,
     "metadata": {},
     "output_type": "execute_result"
    }
   ],
   "source": [
    "acc=accuracy_score(y_test, y_pred.round(), normalize=True)\n",
    "acc"
   ]
  },
  {
   "cell_type": "code",
   "execution_count": 397,
   "id": "0e0dd029",
   "metadata": {},
   "outputs": [
    {
     "data": {
      "text/plain": [
       "0.48840381991814463"
      ]
     },
     "execution_count": 397,
     "metadata": {},
     "output_type": "execute_result"
    }
   ],
   "source": [
    "prec = precision_score(y_test, y_pred.round())\n",
    "prec"
   ]
  },
  {
   "cell_type": "code",
   "execution_count": 405,
   "id": "08ef77ea",
   "metadata": {},
   "outputs": [
    {
     "data": {
      "text/html": [
       "<div>\n",
       "<style scoped>\n",
       "    .dataframe tbody tr th:only-of-type {\n",
       "        vertical-align: middle;\n",
       "    }\n",
       "\n",
       "    .dataframe tbody tr th {\n",
       "        vertical-align: top;\n",
       "    }\n",
       "\n",
       "    .dataframe thead th {\n",
       "        text-align: right;\n",
       "    }\n",
       "</style>\n",
       "<table border=\"1\" class=\"dataframe\">\n",
       "  <thead>\n",
       "    <tr style=\"text-align: right;\">\n",
       "      <th></th>\n",
       "      <th>Model</th>\n",
       "      <th>Accuracy</th>\n",
       "      <th>Precision</th>\n",
       "      <th>ROC_AUC</th>\n",
       "    </tr>\n",
       "  </thead>\n",
       "  <tbody>\n",
       "    <tr>\n",
       "      <th>0</th>\n",
       "      <td>K-Nearest Neighbour</td>\n",
       "      <td>0.932178</td>\n",
       "      <td>0.488404</td>\n",
       "      <td>0.88862</td>\n",
       "    </tr>\n",
       "  </tbody>\n",
       "</table>\n",
       "</div>"
      ],
      "text/plain": [
       "                  Model  Accuracy  Precision  ROC_AUC\n",
       "0  K-Nearest Neighbour   0.932178   0.488404  0.88862"
      ]
     },
     "execution_count": 405,
     "metadata": {},
     "output_type": "execute_result"
    }
   ],
   "source": [
    "k_results = pd.DataFrame([['K-Nearest Neighbour ', acc ,prec ,roc_auc_score(y_train,knn_scores)]],\n",
    "columns = ['Model', 'Accuracy', 'Precision','ROC_AUC'])\n",
    "k_results"
   ]
  },
  {
   "cell_type": "markdown",
   "id": "d12f249a",
   "metadata": {},
   "source": [
    "### Gaussian Naive Bayes"
   ]
  },
  {
   "cell_type": "code",
   "execution_count": 406,
   "id": "d022fa75",
   "metadata": {},
   "outputs": [
    {
     "name": "stdout",
     "output_type": "stream",
     "text": [
      "0.7097319979719509\n"
     ]
    }
   ],
   "source": [
    "from sklearn.naive_bayes import GaussianNB\n",
    "\n",
    "gaussian = GaussianNB()\n",
    "gaussian.fit(x_train, y_train)\n",
    "gaussian_scores_proba = gaussian.predict_proba(x_train)\n",
    "gaussian_scores = gaussian_scores_proba[:,1]\n",
    "y_pred = gaussian.predict_proba(x_test)[:,1]\n",
    "y_predi=gaussian.predict(x_test)\n",
    "\n",
    "gaussian_scores = roc_auc_score(y_test, y_pred)\n",
    "print(gaussian_scores)"
   ]
  },
  {
   "cell_type": "code",
   "execution_count": 407,
   "id": "a7d0f5a6",
   "metadata": {},
   "outputs": [
    {
     "name": "stdout",
     "output_type": "stream",
     "text": [
      "16269     0\n",
      "140471    0\n",
      "78683     0\n",
      "2605      0\n",
      "81156     0\n",
      "         ..\n",
      "148024    0\n",
      "59238     0\n",
      "111773    0\n",
      "107702    0\n",
      "89084     0\n",
      "Name: SeriousDlqin2yrs, Length: 45000, dtype: int64\n"
     ]
    }
   ],
   "source": [
    "print(y_test)"
   ]
  },
  {
   "cell_type": "code",
   "execution_count": 408,
   "id": "c08b6a22",
   "metadata": {},
   "outputs": [
    {
     "data": {
      "text/plain": [
       "0.714745677265423"
      ]
     },
     "execution_count": 408,
     "metadata": {},
     "output_type": "execute_result"
    }
   ],
   "source": [
    "gaussian = GaussianNB()\n",
    "gaussian.fit(x_train, y_train)\n",
    "gaussian_scores_proba = gaussian.predict_proba(x_train)\n",
    "gaussian_scores = gaussian_scores_proba[:,1]\n",
    "roc_auc=roc_auc_score(y_train,gaussian_scores)\n",
    "roc_auc"
   ]
  },
  {
   "cell_type": "code",
   "execution_count": 409,
   "id": "e8eb88c7",
   "metadata": {},
   "outputs": [
    {
     "data": {
      "image/png": "[encoded data removed]",
      "text/plain": [
       "<Figure size 432x288 with 1 Axes>"
      ]
     },
     "metadata": {
      "needs_background": "light"
     },
     "output_type": "display_data"
    }
   ],
   "source": [
    "fpr_gbc, tpr_gbc, thresh_gbc = roc_curve(y_train, gaussian_scores)\n",
    "plot_roc_curve(fpr_gbc, tpr_gbc)"
   ]
  },
  {
   "cell_type": "code",
   "execution_count": 411,
   "id": "e46c43a7",
   "metadata": {},
   "outputs": [
    {
     "data": {
      "text/plain": [
       "<AxesSubplot:title={'center':'Confusion Matrix'}, xlabel='Predicted label', ylabel='True label'>"
      ]
     },
     "execution_count": 411,
     "metadata": {},
     "output_type": "execute_result"
    },
    {
     "data": {
      "image/png": "[encoded data removed]",
      "text/plain": [
       "<Figure size 432x432 with 2 Axes>"
      ]
     },
     "metadata": {
      "needs_background": "light"
     },
     "output_type": "display_data"
    }
   ],
   "source": [
    "skplt.metrics.plot_confusion_matrix(y_test,y_pred,figsize=(6,6))"
   ]
  },
  {
   "cell_type": "code",
   "execution_count": 412,
   "id": "356319fb",
   "metadata": {},
   "outputs": [
    {
     "data": {
      "text/plain": [
       "0.4585987261146497"
      ]
     },
     "execution_count": 412,
     "metadata": {},
     "output_type": "execute_result"
    }
   ],
   "source": [
    "prec = precision_score(y_test, y_predi)\n",
    "prec"
   ]
  },
  {
   "cell_type": "markdown",
   "id": "c28209e9",
   "metadata": {},
   "source": [
    "## Model Tuning using KFold"
   ]
  },
  {
   "cell_type": "code",
   "execution_count": 419,
   "id": "a1521a34",
   "metadata": {},
   "outputs": [],
   "source": [
    "X, y = make_classification(n_samples=100, n_features=20, n_informative=15, n_redundant=5, random_state=1)\n",
    "# prepare the cross-validation procedure\n",
    "cv = KFold(n_splits=10, random_state=1, shuffle=True)\n",
    "kfold = KFold(n_splits=10, random_state=None)"
   ]
  },
  {
   "cell_type": "markdown",
   "id": "07435967",
   "metadata": {},
   "source": [
    "### K-fold Cross-Validation  on Logistic Regression Model"
   ]
  },
  {
   "cell_type": "code",
   "execution_count": 421,
   "id": "d70baf48",
   "metadata": {},
   "outputs": [
    {
     "name": "stdout",
     "output_type": "stream",
     "text": [
      "Accuracy: 0.850 (0.128)\n"
     ]
    }
   ],
   "source": [
    "form = []\n",
    "logreg = LogisticRegression()\n",
    "lr_scores = cross_val_score(model, X, y, scoring='accuracy', cv=cv, n_jobs=-1)\n",
    "# report performance\n",
    "print('Accuracy: %.3f (%.3f)' % (mean(lr_scores), std(lr_scores)))"
   ]
  },
  {
   "cell_type": "markdown",
   "id": "1bcaeced",
   "metadata": {},
   "source": [
    "### K-fold Cross-Validation  on Decision Tree"
   ]
  },
  {
   "cell_type": "code",
   "execution_count": 422,
   "id": "d9fce8d0",
   "metadata": {},
   "outputs": [
    {
     "name": "stdout",
     "output_type": "stream",
     "text": [
      "Accuracy: 0.850 (0.128)\n"
     ]
    }
   ],
   "source": [
    "Dtree = DecisionTreeRegressor()\n",
    "# evaluate model\n",
    "dt_scores = cross_val_score(model, X, y, scoring='accuracy', cv=cv, n_jobs=-1)\n",
    "# report performance\n",
    "print('Accuracy: %.3f (%.3f)' % (mean(dt_scores), std(dt_scores)))\n",
    "form.append(['Decision Tree Tuned'.format(kcross_results),mean(dt_scores)])"
   ]
  },
  {
   "cell_type": "markdown",
   "id": "a2c17db9",
   "metadata": {},
   "source": [
    "### K-fold Cross-Validation  on KNN"
   ]
  },
  {
   "cell_type": "code",
   "execution_count": 423,
   "id": "9dd180fa",
   "metadata": {},
   "outputs": [
    {
     "name": "stdout",
     "output_type": "stream",
     "text": [
      "Accuracy: 0.850 (0.128)\n"
     ]
    }
   ],
   "source": [
    "knn_model = KNeighborsClassifier()\n",
    "# evaluate model\n",
    "knn_scores = cross_val_score(model, X, y, scoring='accuracy', cv=cv, n_jobs=-1)\n",
    "# report performance\n",
    "print('Accuracy: %.3f (%.3f)' % (mean(knn_scores), std(knn_scores)))\n",
    "form.append(['KNN Tuned'.format(kcross_results),mean(knn_scores)])"
   ]
  },
  {
   "cell_type": "markdown",
   "id": "6c8a6aba",
   "metadata": {},
   "source": [
    "### K-fold Cross-Validation Gaussian Naive Bayes"
   ]
  },
  {
   "cell_type": "code",
   "execution_count": null,
   "id": "807d36a4",
   "metadata": {},
   "outputs": [],
   "source": [
    "knn_model = GaussianNB()\n",
    "# evaluate model\n",
    "gnb_scores = cross_val_score(model, X, y, scoring='accuracy', cv=cv, n_jobs=-1)\n",
    "# report performance\n",
    "print('Accuracy: %.3f (%.3f)' % (mean(gnb_scores), std(gnb_scores)))\n",
    "form.append(['KNN Tuned'.format(gnb_scores),mean(gnb_scores)])"
   ]
  },
  {
   "cell_type": "code",
   "execution_count": null,
   "id": "16326922",
   "metadata": {},
   "outputs": [],
   "source": [
    "form"
   ]
  },
  {
   "cell_type": "code",
   "execution_count": null,
   "id": "9f55b35a",
   "metadata": {},
   "outputs": [],
   "source": []
  },
  {
   "cell_type": "code",
   "execution_count": null,
   "id": "9046dce7",
   "metadata": {},
   "outputs": [],
   "source": [
    "\n",
    "logreg.fit(x_train, y_train)\n",
    "Dtree.fit(x_train, y_train)\n",
    "knn_model.fit(x_train, y_train)\n",
    "log_pred                   = logreg.predict(x_test)\n",
    "dt_pred                       = Dtree.predict(x_test)\n",
    "knn_pred                       = knn_model.predict(x_test)"
   ]
  },
  {
   "cell_type": "code",
   "execution_count": null,
   "id": "88c72ecb",
   "metadata": {},
   "outputs": [],
   "source": [
    "log_fpr, log_tpr, log_threshold   = roc_curve(y_test, log_pred)\n",
    "dt_fpr, rfc_tpr, rfc_threshold   = roc_curve(y_test, dt_pred)\n",
    "knn_fpr, knn_tpr, knn_threshold   = roc_curve(y_test, knn_pred)\n"
   ]
  },
  {
   "cell_type": "code",
   "execution_count": null,
   "id": "a4099407",
   "metadata": {},
   "outputs": [],
   "source": [
    "fig  = plt.figure(figsize=(10,6))\n",
    "plt.title('ROC Curve \\n Comparison of Classifiers')\n",
    "plt.plot(log_fpr, log_tpr, label ='Logistic Regression AUC: {:.2f}'.format(roc_auc_score(y_test, log_pred)))\n",
    "plt.plot(dt_fpr, rfc_tpr, label ='Decision Tree¶ AUC: {:.2f}'.format(roc_auc_score(y_test, dt_pred)))\n",
    "plt.plot(knn_fpr, knn_tpr, label ='KNN AUC: {:.2f}'.format(roc_auc_score(y_test, knn_pred)))\n",
    "\n",
    "plt.plot([0, 1], ls=\"--\")\n",
    "plt.plot([0, 0], [1, 0] , c=\".7\"), plt.plot([1, 1] , c=\".7\")\n",
    "plt.ylabel('True Positive Rate')\n",
    "plt.xlabel('False Positive Rate')\n",
    "plt.legend()\n",
    "plt.show()"
   ]
  },
  {
   "cell_type": "code",
   "execution_count": null,
   "id": "bbcebd58",
   "metadata": {},
   "outputs": [],
   "source": []
  },
  {
   "cell_type": "code",
   "execution_count": null,
   "id": "17c39630",
   "metadata": {},
   "outputs": [],
   "source": [
    "scores=[LRscore,KNNscore,SVMscore,NBscore,DTCscore,RFCscore,mean]\n",
    "AlgorthmsName=[\"Logistic Regression\",\"K-NN\",\"SVM\",\"Naive Bayes\",\"Decision Tree\", \"Random Forest\",\"Artificial Neural Network\"]\n",
    "\n",
    "#create traces\n",
    "\n",
    "trace1 = go.Scatter(\n",
    "    x = AlgorthmsName,\n",
    "    y= scores,\n",
    "    name='Algortms Name',\n",
    "    marker =dict(color='rgba(0,255,0,0.5)',\n",
    "               line =dict(color='rgb(0,0,0)',width=2)),\n",
    "                text=AlgorthmsName\n",
    ")\n",
    "data = [trace1]\n",
    "\n",
    "layout = go.Layout(barmode = \"group\",\n",
    "                  xaxis= dict(title= 'ML Algorithms',ticklen= 5,zeroline= False),\n",
    "              yaxis= dict(title= 'Prediction Scores',ticklen= 5,zeroline= False))\n",
    "fig = go.Figure(data = data, layout = layout)\n",
    "iplot(fig)"
   ]
  },
  {
   "cell_type": "code",
   "execution_count": null,
   "id": "ffcdeba0",
   "metadata": {},
   "outputs": [],
   "source": []
  }
 ],
 "metadata": {
  "kernelspec": {
   "display_name": "Python 3 (ipykernel)",
   "language": "python",
   "name": "python3"
  },
  "language_info": {
   "codemirror_mode": {
    "name": "ipython",
    "version": 3
   },
   "file_extension": ".py",
   "mimetype": "text/x-python",
   "name": "python",
   "nbconvert_exporter": "python",
   "pygments_lexer": "ipython3",
   "version": "3.8.8"
  }
 },
 "nbformat": 4,
 "nbformat_minor": 5
}
