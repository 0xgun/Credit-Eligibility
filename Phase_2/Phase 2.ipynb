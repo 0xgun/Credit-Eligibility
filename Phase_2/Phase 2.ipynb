{
 "cells": [
  {
   "cell_type": "markdown",
   "id": "eef9c623",
   "metadata": {},
   "source": [
    "# Phase 2"
   ]
  },
  {
   "cell_type": "markdown",
   "id": "d44c8a8b",
   "metadata": {},
   "source": [
    "## Problem Definition"
   ]
  },
  {
   "cell_type": "markdown",
   "id": "d41d1485",
   "metadata": {},
   "source": [
    "Banks play a crucial role in market economies. They decide who can get finance and on what terms and can make or break investment decisions. For markets and society to function, individuals and companies need access to credit. \n",
    "\n",
    "Credit scoring algorithms, which make a guess at the probability of default, are the method banks use to determine whether or not a loan should be granted. This competition requires participants to improve on the state of the art in credit scoring, by predicting the probability that somebody will experience financial distress in the next two years.\n",
    "\n",
    "The goal of this competition is to build a model that borrowers can use to help make the best financial decisions.\n",
    "\n",
    "Improve on the state of the art in credit scoring by predicting the probability that somebody will experience financial distress in the next two years."
   ]
  },
  {
   "cell_type": "markdown",
   "id": "04c651c0",
   "metadata": {},
   "source": [
    "## Dataset"
   ]
  },
  {
   "cell_type": "markdown",
   "id": "c07ff3ac",
   "metadata": {},
   "source": [
    "#### Give Me Some Credit"
   ]
  },
  {
   "cell_type": "markdown",
   "id": "cdffe45a",
   "metadata": {},
   "source": [
    "In this Model, credit scoring data sets from Kaggle \n",
    "called ‘Give me some credit’ is used to build classifiers. To evaluate\n",
    "the classification performance of credit scoring model.\n",
    "\n",
    " (link for data). We will download the training dataset (cs-training.csv file) which will be used for models training and test data (cs-test.csv file) ."
   ]
  },
  {
   "cell_type": "markdown",
   "id": "f0acee73",
   "metadata": {},
   "source": [
    "## Prepare Data"
   ]
  },
  {
   "cell_type": "markdown",
   "id": "c8c6f4d7",
   "metadata": {},
   "source": [
    "In this part, the data and variables is done. Target ratio, variables\n",
    "values distributions are also be investigated. Null value analysis is done and null values in\n",
    "variables, filled with statistical approach to prevent them to influence modelling in a bad\n",
    "way.\n",
    "\n",
    "\n",
    "After the describing inputs, missing values are also investigated, and for 2 inputs\n",
    "(‘MonthlyIncome’ , ‘NumberOfDependents’) some missing values are observed. Handling\n",
    "with missing values is very important to create accurate models, \n",
    "\n",
    "\n",
    "#### The variables in the following data set:\n",
    "| Variable Name              | Description                                                                                                                                              | Type       |\n",
    "| :- |-------------: | :-:\n",
    "| SeriousDlqin2yrs                     | Person experienced 90 days past due delinquency or worse                                                                                                 | Y/N        |\n",
    "| RevolvingUtilizationOfUnsecuredLines | Total balance on credit cards and personal lines of credit except real estate and no installment debt like car loans divided by the sum of credit limits | percentage |\n",
    "| age                                  | Age of borrower in years                                                                                                                                 | integer    |\n",
    "| NumberOfTime30-59DaysPastDueNotWorse | Number of times borrower has been 30-59 days past due but no worse in the last 2 years.                                                                  | integer    |\n",
    "| DebtRatio                            | Monthly debt payments, alimony,living costs divided by monthy gross income                                                                               | percentage |\n",
    "| MonthlyIncome                        | Monthly income                                                                                                                                           | real       |\n",
    "| NumberOfOpenCreditLinesAndLoans      | Number of Open loans (installment like car loan or mortgage) and Lines of credit (e.g. credit cards)                                                     | integer    |\n",
    "| NumberOfTimes90DaysLate              | Number of times borrower has been 90 days or more past due.                                                                                              | integer    |\n",
    "| NumberRealEstateLoansOrLines         | Number of mortgage and real estate loans including home equity lines of credit                                                                           | integer    |\n",
    "| NumberOfTime60-89DaysPastDueNotWorse | Number of times borrower has been 60-89 days past due but no worse in the last 2 years.                                                                  | integer    |\n",
    "| NumberOfDependents                   | Number of dependents in family excluding themselves (spouse, children etc.)                                                                              | integer    |\n",
    "\n"
   ]
  },
  {
   "cell_type": "markdown",
   "id": "d01a8905",
   "metadata": {},
   "source": [
    "## Python packages"
   ]
  },
  {
   "cell_type": "code",
   "execution_count": null,
   "id": "8d84e0f9",
   "metadata": {},
   "outputs": [],
   "source": []
  },
  {
   "cell_type": "markdown",
   "id": "1b3f9e2f",
   "metadata": {},
   "source": [
    "## Step 1:Importing Libraries"
   ]
  },
  {
   "cell_type": "code",
   "execution_count": 62,
   "id": "c91ea667",
   "metadata": {},
   "outputs": [],
   "source": [
    "import pandas as pd\n",
    "import matplotlib.pyplot as plt\n",
    "import seaborn as sns\n",
    "import numpy as np\n",
    "%matplotlib inline\n",
    "\n",
    "from sklearn.metrics import confusion_matrix\n",
    "from sklearn.ensemble import RandomForestClassifier,GradientBoostingClassifier\n",
    "from sklearn.linear_model import LogisticRegression\n",
    "from sklearn.svm import SVC\n",
    "from sklearn.metrics import mean_squared_error, accuracy_score,confusion_matrix, roc_curve, auc,classification_report, recall_score\n",
    "from sklearn.preprocessing import StandardScaler\n",
    "from sklearn.model_selection import train_test_split,RandomizedSearchCV\n",
    "from sklearn.neighbors import KNeighborsClassifier\n",
    "from sklearn.naive_bayes import GaussianNB\n",
    "\n"
   ]
  },
  {
   "cell_type": "markdown",
   "id": "c21f4be3",
   "metadata": {},
   "source": [
    "### Preprocessed data"
   ]
  },
  {
   "cell_type": "markdown",
   "id": "51b158ab",
   "metadata": {},
   "source": [
    "Training model"
   ]
  },
  {
   "cell_type": "code",
   "execution_count": 63,
   "id": "bf9b3d84",
   "metadata": {},
   "outputs": [],
   "source": [
    "train_data = pd.read_csv(\"cs-training.csv\")\n",
    "test_data = pd.read_csv(\"cs-test.csv\")"
   ]
  },
  {
   "cell_type": "code",
   "execution_count": null,
   "id": "87503f95",
   "metadata": {},
   "outputs": [],
   "source": []
  },
  {
   "cell_type": "markdown",
   "id": "5a4297c2",
   "metadata": {},
   "source": [
    "## logistic-regression"
   ]
  },
  {
   "cell_type": "code",
   "execution_count": 64,
   "id": "9c105e0d",
   "metadata": {},
   "outputs": [
    {
     "data": {
      "text/plain": [
       "Index(['Unnamed: 0', 'SeriousDlqin2yrs',\n",
       "       'RevolvingUtilizationOfUnsecuredLines', 'age',\n",
       "       'NumberOfTime30-59DaysPastDueNotWorse', 'DebtRatio', 'MonthlyIncome',\n",
       "       'NumberOfOpenCreditLinesAndLoans', 'NumberOfTimes90DaysLate',\n",
       "       'NumberRealEstateLoansOrLines', 'NumberOfTime60-89DaysPastDueNotWorse',\n",
       "       'NumberOfDependents'],\n",
       "      dtype='object')"
      ]
     },
     "execution_count": 64,
     "metadata": {},
     "output_type": "execute_result"
    }
   ],
   "source": [
    "#print columns headers of the dataset\n",
    "train_data.columns"
   ]
  },
  {
   "cell_type": "code",
   "execution_count": 65,
   "id": "f16b4e1f",
   "metadata": {},
   "outputs": [],
   "source": [
    "#drop lines with missing data (NA)\n",
    "train_data.dropna(axis=1)\n",
    "cols_with_missing = [col for col in train_data.columns\n",
    "                         if train_data[col].isnull().any()]\n",
    "reduced_train_data = train_data.drop(cols_with_missing, axis=1)\n",
    "reduced_test_data = test_data.drop(cols_with_missing,axis=1)"
   ]
  },
  {
   "cell_type": "code",
   "execution_count": 66,
   "id": "08074fae",
   "metadata": {},
   "outputs": [
    {
     "data": {
      "text/plain": [
       "Index(['Unnamed: 0', 'SeriousDlqin2yrs',\n",
       "       'RevolvingUtilizationOfUnsecuredLines', 'age',\n",
       "       'NumberOfTime30-59DaysPastDueNotWorse', 'DebtRatio',\n",
       "       'NumberOfOpenCreditLinesAndLoans', 'NumberOfTimes90DaysLate',\n",
       "       'NumberRealEstateLoansOrLines', 'NumberOfTime60-89DaysPastDueNotWorse'],\n",
       "      dtype='object')"
      ]
     },
     "execution_count": 66,
     "metadata": {},
     "output_type": "execute_result"
    }
   ],
   "source": [
    "reduced_train_data.columns"
   ]
  },
  {
   "cell_type": "code",
   "execution_count": 67,
   "id": "672a3c0c",
   "metadata": {},
   "outputs": [],
   "source": [
    "#specify the target variable\n",
    "train_y = reduced_train_data.SeriousDlqin2yrs\n",
    "test_y = reduced_test_data.SeriousDlqin2yrs"
   ]
  },
  {
   "cell_type": "code",
   "execution_count": 68,
   "id": "e2df0e3d",
   "metadata": {},
   "outputs": [],
   "source": [
    "#create list of features\n",
    "feature_names = ['RevolvingUtilizationOfUnsecuredLines', 'age',\n",
    "       'NumberOfTime30-59DaysPastDueNotWorse', 'DebtRatio',\n",
    "       'NumberOfOpenCreditLinesAndLoans', 'NumberOfTimes90DaysLate',\n",
    "       'NumberRealEstateLoansOrLines', 'NumberOfTime60-89DaysPastDueNotWorse']\n",
    "#create data corresponding to the features\n",
    "train_X = reduced_train_data[feature_names]\n",
    "test_X = reduced_test_data[feature_names]"
   ]
  },
  {
   "cell_type": "code",
   "execution_count": 69,
   "id": "7ddf7b22",
   "metadata": {},
   "outputs": [
    {
     "name": "stdout",
     "output_type": "stream",
     "text": [
      "<bound method NDFrame.describe of         RevolvingUtilizationOfUnsecuredLines  age  \\\n",
      "0                                   0.766127   45   \n",
      "1                                   0.957151   40   \n",
      "2                                   0.658180   38   \n",
      "3                                   0.233810   30   \n",
      "4                                   0.907239   49   \n",
      "...                                      ...  ...   \n",
      "149995                              0.040674   74   \n",
      "149996                              0.299745   44   \n",
      "149997                              0.246044   58   \n",
      "149998                              0.000000   30   \n",
      "149999                              0.850283   64   \n",
      "\n",
      "        NumberOfTime30-59DaysPastDueNotWorse    DebtRatio  \\\n",
      "0                                          2     0.802982   \n",
      "1                                          0     0.121876   \n",
      "2                                          1     0.085113   \n",
      "3                                          0     0.036050   \n",
      "4                                          1     0.024926   \n",
      "...                                      ...          ...   \n",
      "149995                                     0     0.225131   \n",
      "149996                                     0     0.716562   \n",
      "149997                                     0  3870.000000   \n",
      "149998                                     0     0.000000   \n",
      "149999                                     0     0.249908   \n",
      "\n",
      "        NumberOfOpenCreditLinesAndLoans  NumberOfTimes90DaysLate  \\\n",
      "0                                    13                        0   \n",
      "1                                     4                        0   \n",
      "2                                     2                        1   \n",
      "3                                     5                        0   \n",
      "4                                     7                        0   \n",
      "...                                 ...                      ...   \n",
      "149995                                4                        0   \n",
      "149996                                4                        0   \n",
      "149997                               18                        0   \n",
      "149998                                4                        0   \n",
      "149999                                8                        0   \n",
      "\n",
      "        NumberRealEstateLoansOrLines  NumberOfTime60-89DaysPastDueNotWorse  \n",
      "0                                  6                                     0  \n",
      "1                                  0                                     0  \n",
      "2                                  0                                     0  \n",
      "3                                  0                                     0  \n",
      "4                                  1                                     0  \n",
      "...                              ...                                   ...  \n",
      "149995                             1                                     0  \n",
      "149996                             1                                     0  \n",
      "149997                             1                                     0  \n",
      "149998                             0                                     0  \n",
      "149999                             2                                     0  \n",
      "\n",
      "[150000 rows x 8 columns]>\n",
      "<bound method NDFrame.head of         RevolvingUtilizationOfUnsecuredLines  age  \\\n",
      "0                                   0.766127   45   \n",
      "1                                   0.957151   40   \n",
      "2                                   0.658180   38   \n",
      "3                                   0.233810   30   \n",
      "4                                   0.907239   49   \n",
      "...                                      ...  ...   \n",
      "149995                              0.040674   74   \n",
      "149996                              0.299745   44   \n",
      "149997                              0.246044   58   \n",
      "149998                              0.000000   30   \n",
      "149999                              0.850283   64   \n",
      "\n",
      "        NumberOfTime30-59DaysPastDueNotWorse    DebtRatio  \\\n",
      "0                                          2     0.802982   \n",
      "1                                          0     0.121876   \n",
      "2                                          1     0.085113   \n",
      "3                                          0     0.036050   \n",
      "4                                          1     0.024926   \n",
      "...                                      ...          ...   \n",
      "149995                                     0     0.225131   \n",
      "149996                                     0     0.716562   \n",
      "149997                                     0  3870.000000   \n",
      "149998                                     0     0.000000   \n",
      "149999                                     0     0.249908   \n",
      "\n",
      "        NumberOfOpenCreditLinesAndLoans  NumberOfTimes90DaysLate  \\\n",
      "0                                    13                        0   \n",
      "1                                     4                        0   \n",
      "2                                     2                        1   \n",
      "3                                     5                        0   \n",
      "4                                     7                        0   \n",
      "...                                 ...                      ...   \n",
      "149995                                4                        0   \n",
      "149996                                4                        0   \n",
      "149997                               18                        0   \n",
      "149998                                4                        0   \n",
      "149999                                8                        0   \n",
      "\n",
      "        NumberRealEstateLoansOrLines  NumberOfTime60-89DaysPastDueNotWorse  \n",
      "0                                  6                                     0  \n",
      "1                                  0                                     0  \n",
      "2                                  0                                     0  \n",
      "3                                  0                                     0  \n",
      "4                                  1                                     0  \n",
      "...                              ...                                   ...  \n",
      "149995                             1                                     0  \n",
      "149996                             1                                     0  \n",
      "149997                             1                                     0  \n",
      "149998                             0                                     0  \n",
      "149999                             2                                     0  \n",
      "\n",
      "[150000 rows x 8 columns]>\n"
     ]
    }
   ],
   "source": [
    "#review data\n",
    "print(train_X.describe)\n",
    "print(train_X.head)"
   ]
  },
  {
   "cell_type": "code",
   "execution_count": 70,
   "id": "624c75ec",
   "metadata": {},
   "outputs": [],
   "source": [
    "#split train data into train and test set. I am not sure if this is necessary, \n",
    "#because we have a train test separately, but I am not sure why my attempts to use it fail.\n",
    "#So I am just trying to work by example form other notebooks\n",
    "\n",
    "from sklearn.model_selection import train_test_split\n",
    "x_train, x_test, y_train, y_test = train_test_split(train_X, train_y, test_size = 0.3, random_state = 0)"
   ]
  },
  {
   "cell_type": "code",
   "execution_count": 71,
   "id": "1dc886ea",
   "metadata": {},
   "outputs": [
    {
     "name": "stderr",
     "output_type": "stream",
     "text": [
      "/usr/lib/python3/dist-packages/sklearn/linear_model/_logistic.py:762: ConvergenceWarning: lbfgs failed to converge (status=1):\n",
      "STOP: TOTAL NO. of ITERATIONS REACHED LIMIT.\n",
      "\n",
      "Increase the number of iterations (max_iter) or scale the data as shown in:\n",
      "    https://scikit-learn.org/stable/modules/preprocessing.html\n",
      "Please also refer to the documentation for alternative solver options:\n",
      "    https://scikit-learn.org/stable/modules/linear_model.html#logistic-regression\n",
      "  n_iter_i = _check_optimize_result(\n"
     ]
    },
    {
     "data": {
      "text/plain": [
       "LogisticRegression(random_state=1)"
      ]
     },
     "execution_count": 71,
     "metadata": {},
     "output_type": "execute_result"
    }
   ],
   "source": [
    "from sklearn.linear_model import LogisticRegression\n",
    "#specify the model, set any numeric valye as parameter to ensure reproducibility \n",
    "credit_model = LogisticRegression(random_state=1)\n",
    "\n",
    "#fit the model\n",
    "credit_model.fit(x_train,y_train)"
   ]
  },
  {
   "cell_type": "code",
   "execution_count": 72,
   "id": "8092c6d2",
   "metadata": {},
   "outputs": [],
   "source": [
    "#make predictions\n",
    "predictions_train = credit_model.predict(x_train)\n",
    "y_pred = credit_model.predict(x_test)"
   ]
  },
  {
   "cell_type": "code",
   "execution_count": 73,
   "id": "dab64706",
   "metadata": {},
   "outputs": [
    {
     "name": "stdout",
     "output_type": "stream",
     "text": [
      "[0 0 0 ... 0 0 0]\n",
      "[0 0 0 ... 0 0 0]\n",
      "(45000,)\n",
      "int64\n",
      "(45000,)\n",
      "int64\n"
     ]
    }
   ],
   "source": [
    "#this section investigates resulting data, I had to do this because confusion matrix was throwing errors\n",
    "print(predictions_train)\n",
    "print(y_pred)\n",
    "print(y_pred.shape)\n",
    "print(y_pred.dtype)\n",
    "print(y_test.shape)\n",
    "print(y_test.dtype)"
   ]
  },
  {
   "cell_type": "code",
   "execution_count": 74,
   "id": "115b734f",
   "metadata": {},
   "outputs": [],
   "source": [
    "#conver float to int\n",
    "y_predi = y_pred.astype(int)"
   ]
  },
  {
   "cell_type": "code",
   "execution_count": 75,
   "id": "78a878ff",
   "metadata": {},
   "outputs": [
    {
     "data": {
      "text/plain": [
       "(41858, 107, 2898, 137)"
      ]
     },
     "execution_count": 75,
     "metadata": {},
     "output_type": "execute_result"
    }
   ],
   "source": [
    "#create confuson matrics in text view\n",
    "from sklearn.metrics import confusion_matrix\n",
    "tn, fp, fn, tp = confusion_matrix( y_test,y_predi).ravel()\n",
    "(tn, fp, fn, tp)"
   ]
  },
  {
   "cell_type": "code",
   "execution_count": 76,
   "id": "5e25e5a5",
   "metadata": {},
   "outputs": [
    {
     "data": {
      "text/plain": [
       "<AxesSubplot:title={'center':'Confusion Matrix'}, xlabel='Predicted label', ylabel='True label'>"
      ]
     },
     "execution_count": 76,
     "metadata": {},
     "output_type": "execute_result"
    },
    {
     "data": {
      "image/png": "[encoded data removed]",
      "text/plain": [
       "<Figure size 432x432 with 2 Axes>"
      ]
     },
     "metadata": {
      "needs_background": "light"
     },
     "output_type": "display_data"
    }
   ],
   "source": [
    "#create consusion matrix and plot\n",
    "import scikitplot as skplt\n",
    "skplt.metrics.plot_confusion_matrix(y_test,y_predi,figsize=(6,6))"
   ]
  },
  {
   "cell_type": "code",
   "execution_count": 77,
   "id": "26b53ab5",
   "metadata": {},
   "outputs": [
    {
     "name": "stdout",
     "output_type": "stream",
     "text": [
      "[0.         0.00254974 1.        ]\n",
      "(3,)\n",
      "[0.         0.04514003 1.        ]\n",
      "(3,)\n",
      "[2 1 0]\n"
     ]
    }
   ],
   "source": [
    "from sklearn import metrics\n",
    "#calculate ROC\n",
    "fpr, tpr, thresholds = metrics.roc_curve(y_test, y_predi)\n",
    "print(fpr)\n",
    "print(fpr.shape)\n",
    "print(tpr)\n",
    "print(tpr.shape)\n",
    "print(thresholds)"
   ]
  },
  {
   "cell_type": "code",
   "execution_count": 78,
   "id": "efa87718",
   "metadata": {},
   "outputs": [
    {
     "name": "stdout",
     "output_type": "stream",
     "text": [
      "0.5212951445573908\n"
     ]
    }
   ],
   "source": [
    "from sklearn import metrics\n",
    "#calculate AUC\n",
    "roc_auc = metrics.auc(fpr, tpr)\n",
    "print(roc_auc)"
   ]
  },
  {
   "cell_type": "code",
   "execution_count": 79,
   "id": "52c66eb5",
   "metadata": {},
   "outputs": [
    {
     "data": {
      "image/png": "[encoded data removed]",
      "text/plain": [
       "<Figure size 432x288 with 1 Axes>"
      ]
     },
     "metadata": {
      "needs_background": "light"
     },
     "output_type": "display_data"
    }
   ],
   "source": [
    "# method I: plt\n",
    "import matplotlib.pyplot as plt\n",
    "plt.title('Receiver Operating Characteristic')\n",
    "plt.plot(fpr, tpr, 'b', label = 'AUC = %0.2f' % roc_auc)\n",
    "plt.legend(loc = 'lower right')\n",
    "plt.plot([0, 1], [0, 1],'r--')\n",
    "plt.xlim([0, 1])\n",
    "plt.ylim([0, 1])\n",
    "plt.ylabel('True Positive Rate')\n",
    "plt.xlabel('False Positive Rate')\n",
    "plt.show()"
   ]
  },
  {
   "cell_type": "code",
   "execution_count": 80,
   "id": "45932f8f",
   "metadata": {},
   "outputs": [
    {
     "data": {
      "text/plain": [
       "0.0835620616041476"
      ]
     },
     "execution_count": 80,
     "metadata": {},
     "output_type": "execute_result"
    }
   ],
   "source": [
    "#calculate F1 score\n",
    "from sklearn.metrics import f1_score\n",
    "f1_score(y_test, y_predi) #do we need to use average=None as the third param?"
   ]
  },
  {
   "cell_type": "code",
   "execution_count": 152,
   "id": "65dbbeb8",
   "metadata": {},
   "outputs": [],
   "source": [
    "#accuracy score\n",
    "from sklearn.metrics import accuracy_score\n",
    "accuracy_score(y_test, y_predi) #do we need to use normalize=False as the third param?\n",
    "form.append(['Logistic Regression',accuracy_score(y_test, y_predi)])"
   ]
  },
  {
   "cell_type": "code",
   "execution_count": 82,
   "id": "de32cbff",
   "metadata": {},
   "outputs": [
    {
     "data": {
      "text/plain": [
       "0.5614754098360656"
      ]
     },
     "execution_count": 82,
     "metadata": {},
     "output_type": "execute_result"
    }
   ],
   "source": [
    "#precision\n",
    "from sklearn.metrics import precision_score\n",
    "precision_score(y_test, y_predi)"
   ]
  },
  {
   "cell_type": "code",
   "execution_count": 83,
   "id": "41782ce6",
   "metadata": {},
   "outputs": [
    {
     "data": {
      "text/plain": [
       "0.04514003294892916"
      ]
     },
     "execution_count": 83,
     "metadata": {},
     "output_type": "execute_result"
    }
   ],
   "source": [
    "#recall\n",
    "from sklearn.metrics import recall_score\n",
    "recall_score(y_test, y_predi)"
   ]
  },
  {
   "cell_type": "code",
   "execution_count": 84,
   "id": "1640094d",
   "metadata": {},
   "outputs": [
    {
     "name": "stdout",
     "output_type": "stream",
     "text": [
      "0.9974585530378605\n"
     ]
    }
   ],
   "source": [
    "#cost-sensitive accuracy\n",
    "fp_cost = 1\n",
    "fn_cost = 0\n",
    "cost_sensitive_accuracy = (tp + tn) / (tp + tn + fp*fp_cost + fn*fn_cost)\n",
    "print(cost_sensitive_accuracy)"
   ]
  },
  {
   "cell_type": "markdown",
   "id": "ed3c1304",
   "metadata": {},
   "source": [
    "### Decision Tree"
   ]
  },
  {
   "cell_type": "code",
   "execution_count": 85,
   "id": "1b44918c",
   "metadata": {},
   "outputs": [],
   "source": [
    "from sklearn.model_selection import train_test_split\n",
    "x_train, x_test, y_train, y_test = train_test_split(train_X, train_y, test_size = 0.3, random_state = 0)"
   ]
  },
  {
   "cell_type": "code",
   "execution_count": 86,
   "id": "cb48b5b6",
   "metadata": {},
   "outputs": [
    {
     "data": {
      "text/plain": [
       "DecisionTreeRegressor(random_state=1)"
      ]
     },
     "execution_count": 86,
     "metadata": {},
     "output_type": "execute_result"
    }
   ],
   "source": [
    "from sklearn.tree import DecisionTreeRegressor\n",
    "#specify the model, set any numeric valye as parameter to ensure reproducibility \n",
    "credit_model = DecisionTreeRegressor(random_state=1)\n",
    "\n",
    "#fit the model\n",
    "credit_model.fit(x_train,y_train)"
   ]
  },
  {
   "cell_type": "code",
   "execution_count": 87,
   "id": "1a8aa82d",
   "metadata": {},
   "outputs": [],
   "source": [
    "#make predictions\n",
    "predictions_train = credit_model.predict(x_train)\n",
    "y_pred = credit_model.predict(x_test)"
   ]
  },
  {
   "cell_type": "code",
   "execution_count": 88,
   "id": "d6352ec3",
   "metadata": {},
   "outputs": [
    {
     "name": "stdout",
     "output_type": "stream",
     "text": [
      "[0. 0. 0. ... 1. 0. 1.]\n",
      "[0. 0. 0. ... 0. 0. 0.]\n",
      "(45000,)\n",
      "float64\n",
      "(45000,)\n",
      "int64\n"
     ]
    }
   ],
   "source": [
    "#this section investigates resulting data, I had to do this because confusion matrix was throwing errors\n",
    "print(predictions_train)\n",
    "print(y_pred)\n",
    "print(y_pred.shape)\n",
    "print(y_pred.dtype)\n",
    "print(y_test.shape)\n",
    "print(y_test.dtype)"
   ]
  },
  {
   "cell_type": "code",
   "execution_count": 89,
   "id": "a9421fff",
   "metadata": {},
   "outputs": [],
   "source": [
    "#conver float to int\n",
    "y_predi = y_pred.astype(int)"
   ]
  },
  {
   "cell_type": "code",
   "execution_count": 90,
   "id": "57ce82a1",
   "metadata": {},
   "outputs": [
    {
     "data": {
      "text/plain": [
       "(39576, 2389, 2230, 805)"
      ]
     },
     "execution_count": 90,
     "metadata": {},
     "output_type": "execute_result"
    }
   ],
   "source": [
    "#create confuson matrics in text view\n",
    "from sklearn.metrics import confusion_matrix\n",
    "tn, fp, fn, tp = confusion_matrix( y_test,y_predi).ravel()\n",
    "(tn, fp, fn, tp)"
   ]
  },
  {
   "cell_type": "code",
   "execution_count": 91,
   "id": "4e04e6a3",
   "metadata": {},
   "outputs": [
    {
     "data": {
      "text/plain": [
       "<AxesSubplot:title={'center':'Confusion Matrix'}, xlabel='Predicted label', ylabel='True label'>"
      ]
     },
     "execution_count": 91,
     "metadata": {},
     "output_type": "execute_result"
    },
    {
     "data": {
      "image/png": "[encoded data removed]",
      "text/plain": [
       "<Figure size 432x432 with 2 Axes>"
      ]
     },
     "metadata": {
      "needs_background": "light"
     },
     "output_type": "display_data"
    }
   ],
   "source": [
    "#create consusion matrix and plot\n",
    "import scikitplot as skplt\n",
    "skplt.metrics.plot_confusion_matrix(y_test,y_predi,figsize=(6,6))\n"
   ]
  },
  {
   "cell_type": "code",
   "execution_count": 92,
   "id": "c2722130",
   "metadata": {},
   "outputs": [
    {
     "name": "stdout",
     "output_type": "stream",
     "text": [
      "[0.         0.05692839 1.        ]\n",
      "(3,)\n",
      "[0.         0.26523888 1.        ]\n",
      "(3,)\n",
      "[2 1 0]\n"
     ]
    }
   ],
   "source": [
    "from sklearn import metrics\n",
    "#calculate ROC\n",
    "fpr, tpr, thresholds = metrics.roc_curve(y_test, y_predi)\n",
    "print(fpr)\n",
    "print(fpr.shape)\n",
    "print(tpr)\n",
    "print(tpr.shape)\n",
    "print(thresholds)"
   ]
  },
  {
   "cell_type": "code",
   "execution_count": 93,
   "id": "a8db161a",
   "metadata": {},
   "outputs": [],
   "source": [
    "from sklearn import metrics\n",
    "#calculate AUC\n",
    "roc_auc = metrics.auc(fpr, tpr)"
   ]
  },
  {
   "cell_type": "code",
   "execution_count": 94,
   "id": "1d2cc92b",
   "metadata": {},
   "outputs": [
    {
     "data": {
      "image/png": "[encoded data removed]",
      "text/plain": [
       "<Figure size 432x288 with 1 Axes>"
      ]
     },
     "metadata": {
      "needs_background": "light"
     },
     "output_type": "display_data"
    }
   ],
   "source": [
    "# method I: plt\n",
    "import matplotlib.pyplot as plt\n",
    "plt.title('Receiver Operating Characteristic')\n",
    "plt.plot(fpr, tpr, 'b', label = 'AUC = %0.2f' % roc_auc)\n",
    "plt.legend(loc = 'lower right')\n",
    "plt.plot([0, 1], [0, 1],'r--')\n",
    "plt.xlim([0, 1])\n",
    "plt.ylim([0, 1])\n",
    "plt.ylabel('True Positive Rate')\n",
    "plt.xlabel('False Positive Rate')\n",
    "plt.show()"
   ]
  },
  {
   "cell_type": "code",
   "execution_count": 95,
   "id": "407fda33",
   "metadata": {},
   "outputs": [
    {
     "data": {
      "text/plain": [
       "0.2584684540054583"
      ]
     },
     "execution_count": 95,
     "metadata": {},
     "output_type": "execute_result"
    }
   ],
   "source": [
    "#calculate F1 score\n",
    "from sklearn.metrics import f1_score\n",
    "f1_score(y_test, y_predi) #do we need to use average=None as the third param?"
   ]
  },
  {
   "cell_type": "code",
   "execution_count": 153,
   "id": "cc5cb384",
   "metadata": {},
   "outputs": [],
   "source": [
    "#accuracy score\n",
    "from sklearn.metrics import accuracy_score\n",
    "accuracy_score(y_test, y_predi) #do we need to use normalize=False as the third param?\n",
    "form.append(['Decision Tree Classifier',accuracy_score(y_test, y_predi)])"
   ]
  },
  {
   "cell_type": "code",
   "execution_count": 97,
   "id": "133f012d",
   "metadata": {},
   "outputs": [
    {
     "data": {
      "text/plain": [
       "0.252035065748278"
      ]
     },
     "execution_count": 97,
     "metadata": {},
     "output_type": "execute_result"
    }
   ],
   "source": [
    "#precision\n",
    "from sklearn.metrics import precision_score\n",
    "precision_score(y_test, y_predi)"
   ]
  },
  {
   "cell_type": "code",
   "execution_count": 98,
   "id": "3c57bdf9",
   "metadata": {},
   "outputs": [
    {
     "data": {
      "text/plain": [
       "0.2652388797364086"
      ]
     },
     "execution_count": 98,
     "metadata": {},
     "output_type": "execute_result"
    }
   ],
   "source": [
    "#recall\n",
    "from sklearn.metrics import recall_score\n",
    "recall_score(y_test, y_predi)"
   ]
  },
  {
   "cell_type": "code",
   "execution_count": 99,
   "id": "767270dc",
   "metadata": {},
   "outputs": [
    {
     "name": "stdout",
     "output_type": "stream",
     "text": [
      "0.9441430909516015\n"
     ]
    }
   ],
   "source": [
    "#cost-sensitive accuracy\n",
    "fp_cost = 1\n",
    "fn_cost = 0\n",
    "cost_sensitive_accuracy = (tp + tn) / (tp + tn + fp*fp_cost + fn*fn_cost)\n",
    "print(cost_sensitive_accuracy)"
   ]
  },
  {
   "cell_type": "markdown",
   "id": "fe81f901",
   "metadata": {},
   "source": [
    "## KNN"
   ]
  },
  {
   "cell_type": "code",
   "execution_count": 100,
   "id": "7b1c7c16",
   "metadata": {},
   "outputs": [],
   "source": [
    "def BasedLine2(X_train, Y_train,models,scoring_type):\n",
    "    # Test options and evaluation metric\n",
    "    num_folds = 10\n",
    "    scoring = scoring_type\n",
    "\n",
    "    results = []\n",
    "    names = []\n",
    "    for name, model in models:\n",
    "        kfold = StratifiedKFold(n_splits=num_folds, random_state=SEED)\n",
    "        cv_results = cross_val_score(model, X_train, Y_train, cv=kfold, scoring=scoring)\n",
    "        results.append(cv_results)\n",
    "        names.append(name)\n",
    "        msg = \"%s: %f (%f)\" % (name, cv_results.mean(), cv_results.std())\n",
    "        print(msg)\n",
    "        \n",
    "    return names, results"
   ]
  },
  {
   "cell_type": "code",
   "execution_count": 101,
   "id": "a4a86749",
   "metadata": {},
   "outputs": [],
   "source": [
    "class PlotBoxR(object):\n",
    "    \n",
    "    \n",
    "    def __Trace(self,nameOfFeature,value): \n",
    "    \n",
    "        trace = go.Box(\n",
    "            y=value,\n",
    "            name = nameOfFeature,\n",
    "            marker = dict(\n",
    "                color = 'rgb(0, 128, 128)',\n",
    "            )\n",
    "        )\n",
    "        return trace\n",
    "\n",
    "    def PlotResult(self,names,results):\n",
    "        \n",
    "        data = []\n",
    "\n",
    "        for i in range(len(names)):\n",
    "            data.append(self.__Trace(names[i],results[i]))\n",
    "\n",
    "\n",
    "        py.iplot(data)"
   ]
  },
  {
   "cell_type": "code",
   "execution_count": 102,
   "id": "6f858972",
   "metadata": {},
   "outputs": [],
   "source": [
    "from pandas import set_option\n",
    "\n",
    "from sklearn.preprocessing import StandardScaler\n",
    "from sklearn.model_selection import KFold\n",
    "from sklearn.model_selection import StratifiedKFold\n",
    "from sklearn.model_selection import cross_val_score\n",
    "from sklearn.model_selection import GridSearchCV\n",
    "from sklearn.metrics import classification_report\n",
    "from sklearn.metrics import confusion_matrix\n",
    "from sklearn.metrics import accuracy_score\n",
    "from sklearn.pipeline import Pipeline\n",
    "from sklearn.linear_model import LogisticRegression\n",
    "from sklearn.tree import DecisionTreeClassifier\n",
    "from sklearn.neighbors import KNeighborsClassifier\n",
    "from sklearn.discriminant_analysis import LinearDiscriminantAnalysis\n",
    "from sklearn.naive_bayes import GaussianNB\n",
    "from sklearn.svm import SVC\n",
    "from sklearn.ensemble import AdaBoostClassifier\n",
    "from sklearn.ensemble import GradientBoostingClassifier\n",
    "from sklearn.ensemble import RandomForestClassifier\n",
    "from sklearn.ensemble import ExtraTreesClassifier"
   ]
  },
  {
   "cell_type": "code",
   "execution_count": 103,
   "id": "5d661cb4",
   "metadata": {},
   "outputs": [],
   "source": [
    "model_KNN = KNeighborsClassifier()\n",
    "\n",
    "neighbors = [1,2,3,4,5,6,7,8,9,10,11,12,13,14,15,16,17,18,19,20]\n",
    "param_grid = dict(n_neighbors=neighbors)"
   ]
  },
  {
   "cell_type": "code",
   "execution_count": 104,
   "id": "2c0371a1",
   "metadata": {},
   "outputs": [],
   "source": [
    "class GridSearch(object):\n",
    "    \n",
    "    def __init__(self,X_train,y_train,model,hyperparameters):\n",
    "        \n",
    "        self.X_train = X_train\n",
    "        self.y_train = y_train\n",
    "        self.model = model\n",
    "        self.hyperparameters = hyperparameters\n",
    "        \n",
    "    def GridSearch(self):\n",
    "        # Create randomized search 10-fold cross validation and 100 iterations\n",
    "        cv = 10\n",
    "        clf = GridSearchCV(self.model,\n",
    "                                 self.hyperparameters,\n",
    "                                 cv=cv,\n",
    "                                 verbose=0,\n",
    "                                 n_jobs=-1,\n",
    "                                 )\n",
    "        # Fit randomized search\n",
    "        best_model = clf.fit(self.X_train, self.y_train)\n",
    "        message = (best_model.best_score_, best_model.best_params_)\n",
    "        print(\"Best: %f using %s\" % (message))\n",
    "\n",
    "        return best_model,best_model.best_params_\n",
    "    \n",
    "    def BestModelPridict(self,X_test):\n",
    "        \n",
    "        best_model,_ = self.GridSearch()\n",
    "        pred = best_model.predict(X_test)\n",
    "        return pred\n"
   ]
  },
  {
   "cell_type": "code",
   "execution_count": 105,
   "id": "b7c36467",
   "metadata": {},
   "outputs": [
    {
     "name": "stdout",
     "output_type": "stream",
     "text": [
      "Best: 0.935457 using {'n_neighbors': 15}\n"
     ]
    }
   ],
   "source": [
    "KNN_GridSearch = GridSearch(x_train,y_train,model_KNN,param_grid)\n",
    "Prediction_KNN = KNN_GridSearch.BestModelPridict(x_train)"
   ]
  },
  {
   "cell_type": "code",
   "execution_count": null,
   "id": "b407b936",
   "metadata": {},
   "outputs": [
    {
     "name": "stdout",
     "output_type": "stream",
     "text": [
      "\n",
      "Auc 0.6634813687799149\n"
     ]
    }
   ],
   "source": [
    "from sklearn.neighbors import KNeighborsClassifier\n",
    "import itertools\n",
    "from sklearn.metrics import roc_auc_score\n",
    "\n",
    "arglist = itertools.product(['uniform', 'distance'],['auto', 'ball_tree', 'kd_tree', 'brute'])\n",
    "\n",
    "weight, algorithm, maxauc = '', '', 0\n",
    "for wei, algo in arglist:\n",
    "    knn = KNeighborsClassifier(weights=wei, algorithm=algo)\n",
    "    knn.fit(x_test, y_test)\n",
    "    y_pred = knn.predict_proba(x_train)[:,1]\n",
    "    score = roc_auc_score(y_train, y_pred)\n",
    "    # print(wei, algo, score)\n",
    "    if score > maxauc:\n",
    "        weight, algorithm, maxauc = wei, algo, score\n",
    "print()\n",
    "print(\"Auc\", maxauc)"
   ]
  },
  {
   "cell_type": "code",
   "execution_count": 107,
   "id": "ca43e1c2",
   "metadata": {},
   "outputs": [
    {
     "name": "stdout",
     "output_type": "stream",
     "text": [
      "100 0.7738103200851263\n",
      "200 0.7751732193867527\n",
      "300 0.7679630334449493\n",
      "400 0.7659123169048656\n",
      "500 0.7605386068369913\n",
      "600 0.754605974108415\n",
      "700 0.7509551597383166\n",
      "800 0.7484421414173693\n",
      "900 0.7465714957019766\n",
      "1000 0.7444922427903853\n",
      "\n",
      "200 0.7751732193867527\n"
     ]
    }
   ],
   "source": [
    "scorelist = []\n",
    "n_neighbors, maxauc = -1, 0\n",
    "for k in range(100, 1000+1, 100):\n",
    "    knn = KNeighborsClassifier(n_neighbors=k, weights=weight, algorithm=algorithm)\n",
    "    knn.fit(x_train, y_train)\n",
    "    y_pred = knn.predict_proba(x_test)[:,1]\n",
    "    score = roc_auc_score(y_test, y_pred)\n",
    "    print(k, score)\n",
    "    if score > maxauc:\n",
    "        n_neighbors, maxauc = k, score\n",
    "    scorelist.append(score)\n",
    "print()\n",
    "print(n_neighbors, maxauc)"
   ]
  },
  {
   "cell_type": "code",
   "execution_count": 108,
   "id": "57a3ea44",
   "metadata": {},
   "outputs": [
    {
     "name": "stdout",
     "output_type": "stream",
     "text": [
      "320 0.7670545176601432\n",
      "330 0.7665565424705731\n",
      "340 0.766097919129674\n",
      "350 0.7660482660787968\n",
      "360 0.7663803895573919\n",
      "370 0.7666684267170945\n",
      "380 0.7665156006878723\n",
      "390 0.7664145083639363\n",
      "400 0.7659123169048656\n",
      "\n",
      "320 0.7670545176601432\n"
     ]
    }
   ],
   "source": [
    "scorelist = []\n",
    "form = []\n",
    "n_neighbors, maxauc = -1, 0\n",
    "for k in range(320, 400+1, 10):\n",
    "    knn = KNeighborsClassifier(n_neighbors=k, weights=weight, algorithm=algorithm)\n",
    "    knn.fit(x_train,y_train)\n",
    "    y_pred = knn.predict_proba(x_test)[:,1]\n",
    "    score = roc_auc_score(y_test, y_pred)\n",
    "    print(k, score)\n",
    "    if score > maxauc:\n",
    "        n_neighbors, maxauc = k, score\n",
    "    scorelist.append(score)\n",
    "print()\n",
    "print(n_neighbors, maxauc)\n",
    "form.append(['KNN_{}_{}_{}'.format(weight,algorithm,n_neighbors),maxauc])"
   ]
  },
  {
   "cell_type": "code",
   "execution_count": 109,
   "id": "9aaeacdb",
   "metadata": {},
   "outputs": [
    {
     "data": {
      "text/plain": [
       "Text(0, 0.5, 'score(AUC)')"
      ]
     },
     "execution_count": 109,
     "metadata": {},
     "output_type": "execute_result"
    },
    {
     "data": {
      "image/png": "[encoded data removed]",
      "text/plain": [
       "<Figure size 432x288 with 1 Axes>"
      ]
     },
     "metadata": {
      "needs_background": "light"
     },
     "output_type": "display_data"
    }
   ],
   "source": [
    "plt.plot(scorelist)\n",
    "plt.title('score - n_neighbors')\n",
    "plt.xlabel('n_neighbors')\n",
    "plt.ylabel('score(AUC)')"
   ]
  },
  {
   "cell_type": "markdown",
   "id": "ca3f9560",
   "metadata": {},
   "source": [
    "### Gaussian Naive Bayes"
   ]
  },
  {
   "cell_type": "code",
   "execution_count": 136,
   "id": "c3058620",
   "metadata": {},
   "outputs": [
    {
     "name": "stdout",
     "output_type": "stream",
     "text": [
      "0.7097319979719509\n"
     ]
    }
   ],
   "source": [
    "from sklearn.naive_bayes import GaussianNB\n",
    "\n",
    "gaussian = GaussianNB()\n",
    "gaussian.fit(x_train, y_train)\n",
    "y_pred = gaussian.predict_proba(x_test)[:,1]\n",
    "score = roc_auc_score(y_test, y_pred)\n",
    "print(score)\n",
    "\n",
    "form.append(['GaussianNB',score])"
   ]
  },
  {
   "cell_type": "code",
   "execution_count": 137,
   "id": "5f642891",
   "metadata": {},
   "outputs": [
    {
     "data": {
      "text/plain": [
       "[<matplotlib.lines.Line2D at 0x7f10bc5afe20>]"
      ]
     },
     "execution_count": 137,
     "metadata": {},
     "output_type": "execute_result"
    },
    {
     "data": {
      "image/png": "[encoded data removed]",
      "text/plain": [
       "<Figure size 432x288 with 1 Axes>"
      ]
     },
     "metadata": {
      "needs_background": "light"
     },
     "output_type": "display_data"
    }
   ],
   "source": [
    "import matplotlib.pyplot as plt\n",
    "\n",
    "plt.plot(scorelist)"
   ]
  },
  {
   "cell_type": "markdown",
   "id": "0d6d94fe",
   "metadata": {},
   "source": [
    "## linearSVC"
   ]
  },
  {
   "cell_type": "code",
   "execution_count": 141,
   "id": "7ed3aea3",
   "metadata": {},
   "outputs": [
    {
     "name": "stdout",
     "output_type": "stream",
     "text": [
      "0.5100588255962106\n"
     ]
    },
    {
     "name": "stderr",
     "output_type": "stream",
     "text": [
      "/usr/lib/python3/dist-packages/sklearn/svm/_base.py:976: ConvergenceWarning: Liblinear failed to converge, increase the number of iterations.\n",
      "  warnings.warn(\"Liblinear failed to converge, increase \"\n"
     ]
    }
   ],
   "source": [
    "from sklearn.svm import LinearSVC\n",
    "\n",
    "linear_svc = LinearSVC()\n",
    "linear_svc.fit(x_train, y_train)\n",
    "y_pred = linear_svc.predict(x_test)\n",
    "score = roc_auc_score(y_test, y_pred)\n",
    "print(score)\n",
    "\n",
    "form.append(['linearSVC',score])"
   ]
  },
  {
   "cell_type": "code",
   "execution_count": 121,
   "id": "67830a9c",
   "metadata": {},
   "outputs": [
    {
     "name": "stderr",
     "output_type": "stream",
     "text": [
      "/usr/lib/python3/dist-packages/sklearn/svm/_base.py:976: ConvergenceWarning: Liblinear failed to converge, increase the number of iterations.\n",
      "  warnings.warn(\"Liblinear failed to converge, increase \"\n"
     ]
    },
    {
     "name": "stdout",
     "output_type": "stream",
     "text": [
      "0.5084471232106618\n"
     ]
    },
    {
     "name": "stderr",
     "output_type": "stream",
     "text": [
      "/usr/lib/python3/dist-packages/sklearn/svm/_base.py:976: ConvergenceWarning: Liblinear failed to converge, increase the number of iterations.\n",
      "  warnings.warn(\"Liblinear failed to converge, increase \"\n"
     ]
    },
    {
     "name": "stdout",
     "output_type": "stream",
     "text": [
      "0.5034394787685902\n",
      "0.5107260482817819\n"
     ]
    },
    {
     "name": "stderr",
     "output_type": "stream",
     "text": [
      "/usr/lib/python3/dist-packages/sklearn/svm/_base.py:976: ConvergenceWarning: Liblinear failed to converge, increase the number of iterations.\n",
      "  warnings.warn(\"Liblinear failed to converge, increase \"\n"
     ]
    }
   ],
   "source": [
    "for iternum in [1000, 5000, 10000]:\n",
    "    \n",
    "    linear_svc = LinearSVC(max_iter=iternum,)\n",
    "    linear_svc.fit(x_train, y_train)\n",
    "    y_pred = linear_svc.predict(x_test)\n",
    "    score = roc_auc_score(y_test, y_pred)\n",
    "    print(score)\n",
    "\n"
   ]
  },
  {
   "cell_type": "code",
   "execution_count": 129,
   "id": "ef2a5227",
   "metadata": {},
   "outputs": [
    {
     "data": {
      "text/plain": [
       "[<matplotlib.lines.Line2D at 0x7f10bc76aac0>]"
      ]
     },
     "execution_count": 129,
     "metadata": {},
     "output_type": "execute_result"
    },
    {
     "data": {
      "image/png": "[encoded data removed]",
      "text/plain": [
       "<Figure size 432x288 with 1 Axes>"
      ]
     },
     "metadata": {
      "needs_background": "light"
     },
     "output_type": "display_data"
    }
   ],
   "source": [
    "import matplotlib.pyplot as plt\n",
    "\n",
    "plt.plot(y_pred)"
   ]
  },
  {
   "cell_type": "code",
   "execution_count": 158,
   "id": "a53b2c18",
   "metadata": {},
   "outputs": [
    {
     "data": {
      "text/plain": [
       "[['linearSVC', 0.8973555555555556],\n",
       " ['linearSVC', 0.8973555555555556],\n",
       " ['DTC', 0.8973555555555556],\n",
       " ['Logistic Regression', 0.8973555555555556],\n",
       " ['Decision Tree Classifier', 0.8973555555555556],\n",
       " ['KNN_uniform_brute_320', 0.7670545176601432],\n",
       " ['GaussianNB', 0.7097319979719509],\n",
       " ['linearSVC', 0.5100588255962106]]"
      ]
     },
     "execution_count": 158,
     "metadata": {},
     "output_type": "execute_result"
    }
   ],
   "source": [
    "form.sort(key=lambda x:x[1],reverse=True)\n",
    "form"
   ]
  },
  {
   "cell_type": "code",
   "execution_count": 159,
   "id": "1f727e12",
   "metadata": {},
   "outputs": [
    {
     "data": {
      "text/html": [
       "<div>\n",
       "<style scoped>\n",
       "    .dataframe tbody tr th:only-of-type {\n",
       "        vertical-align: middle;\n",
       "    }\n",
       "\n",
       "    .dataframe tbody tr th {\n",
       "        vertical-align: top;\n",
       "    }\n",
       "\n",
       "    .dataframe thead th {\n",
       "        text-align: right;\n",
       "    }\n",
       "</style>\n",
       "<table border=\"1\" class=\"dataframe\">\n",
       "  <thead>\n",
       "    <tr style=\"text-align: right;\">\n",
       "      <th></th>\n",
       "      <th>Model</th>\n",
       "      <th>Accuracy</th>\n",
       "    </tr>\n",
       "  </thead>\n",
       "  <tbody>\n",
       "    <tr>\n",
       "      <th>0</th>\n",
       "      <td>linearSVC</td>\n",
       "      <td>0.897356</td>\n",
       "    </tr>\n",
       "    <tr>\n",
       "      <th>1</th>\n",
       "      <td>linearSVC</td>\n",
       "      <td>0.897356</td>\n",
       "    </tr>\n",
       "    <tr>\n",
       "      <th>2</th>\n",
       "      <td>DTC</td>\n",
       "      <td>0.897356</td>\n",
       "    </tr>\n",
       "    <tr>\n",
       "      <th>3</th>\n",
       "      <td>Logistic Regression</td>\n",
       "      <td>0.897356</td>\n",
       "    </tr>\n",
       "    <tr>\n",
       "      <th>4</th>\n",
       "      <td>Decision Tree Classifier</td>\n",
       "      <td>0.897356</td>\n",
       "    </tr>\n",
       "    <tr>\n",
       "      <th>5</th>\n",
       "      <td>KNN_uniform_brute_320</td>\n",
       "      <td>0.767055</td>\n",
       "    </tr>\n",
       "    <tr>\n",
       "      <th>6</th>\n",
       "      <td>GaussianNB</td>\n",
       "      <td>0.709732</td>\n",
       "    </tr>\n",
       "    <tr>\n",
       "      <th>7</th>\n",
       "      <td>linearSVC</td>\n",
       "      <td>0.510059</td>\n",
       "    </tr>\n",
       "  </tbody>\n",
       "</table>\n",
       "</div>"
      ],
      "text/plain": [
       "                      Model  Accuracy\n",
       "0                 linearSVC  0.897356\n",
       "1                 linearSVC  0.897356\n",
       "2                       DTC  0.897356\n",
       "3       Logistic Regression  0.897356\n",
       "4  Decision Tree Classifier  0.897356\n",
       "5     KNN_uniform_brute_320  0.767055\n",
       "6                GaussianNB  0.709732\n",
       "7                 linearSVC  0.510059"
      ]
     },
     "execution_count": 159,
     "metadata": {},
     "output_type": "execute_result"
    }
   ],
   "source": [
    "fm = pd.DataFrame(form,columns=['Model','Accuracy'])\n",
    "fm"
   ]
  },
  {
   "cell_type": "code",
   "execution_count": null,
   "id": "b90982db",
   "metadata": {},
   "outputs": [],
   "source": []
  },
  {
   "cell_type": "markdown",
   "id": "c28209e9",
   "metadata": {},
   "source": [
    "### Random Forest"
   ]
  },
  {
   "cell_type": "code",
   "execution_count": 161,
   "id": "25164f50",
   "metadata": {},
   "outputs": [
    {
     "name": "stdout",
     "output_type": "stream",
     "text": [
      "Fitting 5 folds for each of 5 candidates, totalling 25 fits\n",
      "[CV] n_estimators=30 .................................................\n"
     ]
    },
    {
     "name": "stderr",
     "output_type": "stream",
     "text": [
      "[Parallel(n_jobs=1)]: Using backend SequentialBackend with 1 concurrent workers.\n"
     ]
    },
    {
     "name": "stdout",
     "output_type": "stream",
     "text": [
      "[CV] ..................... n_estimators=30, score=0.794, total=   0.9s\n",
      "[CV] n_estimators=30 .................................................\n"
     ]
    },
    {
     "name": "stderr",
     "output_type": "stream",
     "text": [
      "[Parallel(n_jobs=1)]: Done   1 out of   1 | elapsed:    0.9s remaining:    0.0s\n"
     ]
    },
    {
     "name": "stdout",
     "output_type": "stream",
     "text": [
      "[CV] ..................... n_estimators=30, score=0.799, total=   0.9s\n",
      "[CV] n_estimators=30 .................................................\n"
     ]
    },
    {
     "name": "stderr",
     "output_type": "stream",
     "text": [
      "[Parallel(n_jobs=1)]: Done   2 out of   2 | elapsed:    1.9s remaining:    0.0s\n"
     ]
    },
    {
     "name": "stdout",
     "output_type": "stream",
     "text": [
      "[CV] ..................... n_estimators=30, score=0.815, total=   1.0s\n",
      "[CV] n_estimators=30 .................................................\n",
      "[CV] ..................... n_estimators=30, score=0.806, total=   0.9s\n",
      "[CV] n_estimators=30 .................................................\n",
      "[CV] ..................... n_estimators=30, score=0.820, total=   0.9s\n",
      "[CV] n_estimators=50 .................................................\n",
      "[CV] ..................... n_estimators=50, score=0.804, total=   1.6s\n",
      "[CV] n_estimators=50 .................................................\n",
      "[CV] ..................... n_estimators=50, score=0.807, total=   1.5s\n",
      "[CV] n_estimators=50 .................................................\n",
      "[CV] ..................... n_estimators=50, score=0.822, total=   1.5s\n",
      "[CV] n_estimators=50 .................................................\n",
      "[CV] ..................... n_estimators=50, score=0.819, total=   1.6s\n",
      "[CV] n_estimators=50 .................................................\n",
      "[CV] ..................... n_estimators=50, score=0.828, total=   1.6s\n",
      "[CV] n_estimators=80 .................................................\n",
      "[CV] ..................... n_estimators=80, score=0.819, total=   2.7s\n",
      "[CV] n_estimators=80 .................................................\n",
      "[CV] ..................... n_estimators=80, score=0.817, total=   2.4s\n",
      "[CV] n_estimators=80 .................................................\n",
      "[CV] ..................... n_estimators=80, score=0.827, total=   2.5s\n",
      "[CV] n_estimators=80 .................................................\n",
      "[CV] ..................... n_estimators=80, score=0.832, total=   2.5s\n",
      "[CV] n_estimators=80 .................................................\n",
      "[CV] ..................... n_estimators=80, score=0.832, total=   2.5s\n",
      "[CV] n_estimators=100 ................................................\n",
      "[CV] .................... n_estimators=100, score=0.823, total=   3.1s\n",
      "[CV] n_estimators=100 ................................................\n",
      "[CV] .................... n_estimators=100, score=0.817, total=   3.2s\n",
      "[CV] n_estimators=100 ................................................\n",
      "[CV] .................... n_estimators=100, score=0.833, total=   3.1s\n",
      "[CV] n_estimators=100 ................................................\n",
      "[CV] .................... n_estimators=100, score=0.832, total=   3.1s\n",
      "[CV] n_estimators=100 ................................................\n",
      "[CV] .................... n_estimators=100, score=0.838, total=   3.3s\n",
      "[CV] n_estimators=200 ................................................\n",
      "[CV] .................... n_estimators=200, score=0.826, total=   6.1s\n",
      "[CV] n_estimators=200 ................................................\n",
      "[CV] .................... n_estimators=200, score=0.824, total=   6.4s\n",
      "[CV] n_estimators=200 ................................................\n",
      "[CV] .................... n_estimators=200, score=0.831, total=   6.0s\n",
      "[CV] n_estimators=200 ................................................\n",
      "[CV] .................... n_estimators=200, score=0.835, total=   6.0s\n",
      "[CV] n_estimators=200 ................................................\n",
      "[CV] .................... n_estimators=200, score=0.841, total=   5.9s\n"
     ]
    },
    {
     "name": "stderr",
     "output_type": "stream",
     "text": [
      "[Parallel(n_jobs=1)]: Done  25 out of  25 | elapsed:  1.2min finished\n"
     ]
    },
    {
     "name": "stdout",
     "output_type": "stream",
     "text": [
      "mean_fit_time [0.89494553 1.49523287 2.43134017 3.01030741 5.81787372]\n",
      "std_fit_time [0.01417189 0.04377054 0.07640108 0.08253853 0.18038917]\n",
      "mean_score_time [0.04138584 0.06433372 0.09987755 0.12235599 0.23073015]\n",
      "std_score_time [0.00132801 0.00180837 0.00138406 0.00328092 0.00249992]\n",
      "param_n_estimators [30 50 80 100 200]\n",
      "params [{'n_estimators': 30}, {'n_estimators': 50}, {'n_estimators': 80}, {'n_estimators': 100}, {'n_estimators': 200}]\n",
      "split0_test_score [0.79446059 0.80410609 0.81909701 0.82271225 0.82600557]\n",
      "split1_test_score [0.799087   0.80726211 0.81675961 0.81701606 0.8236558 ]\n",
      "split2_test_score [0.8148088  0.82195487 0.82661347 0.8326509  0.83139986]\n",
      "split3_test_score [0.80580222 0.81861277 0.83192336 0.83227894 0.83469426]\n",
      "split4_test_score [0.8196108  0.82809427 0.83230249 0.83778463 0.84089883]\n",
      "mean_test_score [0.80675388 0.81600602 0.82533919 0.82848856 0.83133087]\n",
      "std_test_score [0.00939142 0.00901525 0.00641929 0.00752453 0.0061665 ]\n",
      "rank_test_score [5 4 3 2 1]\n"
     ]
    }
   ],
   "source": [
    "from sklearn.ensemble import RandomForestClassifier\n",
    "\n",
    "grid = GridSearchCV(\n",
    "    estimator=RandomForestClassifier(),\n",
    "    param_grid={\n",
    "        'n_estimators':[30,50,80,100,200]\n",
    "    },\n",
    "    scoring='roc_auc',\n",
    "    verbose=3\n",
    ")\n",
    "grid.fit(x_test, y_test)\n",
    "\n",
    "for result in grid.cv_results_:\n",
    "    print(result, grid.cv_results_[result])"
   ]
  },
  {
   "cell_type": "code",
   "execution_count": 167,
   "id": "08521aa4",
   "metadata": {},
   "outputs": [
    {
     "name": "stdout",
     "output_type": "stream",
     "text": [
      "0.8316163171199974\n"
     ]
    }
   ],
   "source": [
    "rfc = RandomForestClassifier(n_estimators=grid.best_params_['n_estimators'])\n",
    "rfc.fit(x_train, y_train)\n",
    "\n",
    "# 在子验证集上测试\n",
    "y_pred = rfc.predict_proba(x_test)[:,1]\n",
    "score = roc_auc_score(y_test, y_pred)\n",
    "print(score)"
   ]
  },
  {
   "cell_type": "code",
   "execution_count": 168,
   "id": "e77c1ce4",
   "metadata": {},
   "outputs": [],
   "source": [
    "form.append(['Random FOresr',score])"
   ]
  },
  {
   "cell_type": "code",
   "execution_count": 169,
   "id": "eb272535",
   "metadata": {},
   "outputs": [
    {
     "data": {
      "text/plain": [
       "[['linearSVC', 0.8973555555555556],\n",
       " ['linearSVC', 0.8973555555555556],\n",
       " ['DTC', 0.8973555555555556],\n",
       " ['Logistic Regression', 0.8973555555555556],\n",
       " ['Decision Tree Classifier', 0.8973555555555556],\n",
       " ['KNN_uniform_brute_320', 0.7670545176601432],\n",
       " ['GaussianNB', 0.7097319979719509],\n",
       " ['linearSVC', 0.5100588255962106],\n",
       " ['Random FOresr', 0.8316163171199974]]"
      ]
     },
     "execution_count": 169,
     "metadata": {},
     "output_type": "execute_result"
    }
   ],
   "source": [
    "form"
   ]
  }
 ],
 "metadata": {
  "kernelspec": {
   "display_name": "Python 3 (ipykernel)",
   "language": "python",
   "name": "python3"
  },
  "language_info": {
   "codemirror_mode": {
    "name": "ipython",
    "version": 3
   },
   "file_extension": ".py",
   "mimetype": "text/x-python",
   "name": "python",
   "nbconvert_exporter": "python",
   "pygments_lexer": "ipython3",
   "version": "3.9.5"
  }
 },
 "nbformat": 4,
 "nbformat_minor": 5
}
