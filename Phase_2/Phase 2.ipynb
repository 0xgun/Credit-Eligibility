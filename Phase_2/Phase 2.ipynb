{
 "cells": [
  {
   "cell_type": "markdown",
   "id": "eef9c623",
   "metadata": {},
   "source": [
    "# Phase 2"
   ]
  },
  {
   "cell_type": "markdown",
   "id": "d44c8a8b",
   "metadata": {},
   "source": [
    "## Problem Definition"
   ]
  },
  {
   "cell_type": "markdown",
   "id": "d41d1485",
   "metadata": {},
   "source": [
    "Banks play a crucial role in market economies. They decide who can get finance and on what terms and can make or break investment decisions. For markets and society to function, individuals and companies need access to credit. \n",
    "\n",
    "Credit scoring algorithms, which make a guess at the probability of default, are the method banks use to determine whether or not a loan should be granted. This competition requires participants to improve on the state of the art in credit scoring, by predicting the probability that somebody will experience financial distress in the next two years.\n",
    "\n",
    "The goal of this competition is to build a model that borrowers can use to help make the best financial decisions.\n",
    "\n",
    "Improve on the state of the art in credit scoring by predicting the probability that somebody will experience financial distress in the next two years."
   ]
  },
  {
   "cell_type": "markdown",
   "id": "04c651c0",
   "metadata": {},
   "source": [
    "## Dataset"
   ]
  },
  {
   "cell_type": "markdown",
   "id": "c07ff3ac",
   "metadata": {},
   "source": [
    "#### Give Me Some Credit"
   ]
  },
  {
   "cell_type": "markdown",
   "id": "cdffe45a",
   "metadata": {},
   "source": [
    "In this Model, credit scoring data sets from Kaggle \n",
    "called ‘Give me some credit’ is used to build classifiers. To evaluate\n",
    "the classification performance of credit scoring model.\n",
    "\n",
    " We will use the training dataset (cs-training.csv file) which will be used for models training and test data (cs-test.csv file) ."
   ]
  },
  {
   "cell_type": "markdown",
   "id": "f0acee73",
   "metadata": {},
   "source": [
    "## Prepare Data"
   ]
  },
  {
   "cell_type": "markdown",
   "id": "c8c6f4d7",
   "metadata": {},
   "source": [
    "In this part, the data and variables is done. Target ratio, variables\n",
    "values distributions are also be investigated. Null value analysis is done and null values in\n",
    "variables, filled with statistical approach to prevent them to influence modelling in a bad\n",
    "way.\n",
    "\n",
    "\n",
    "After the describing inputs, missing values are also investigated, and for 2 inputs\n",
    "(‘MonthlyIncome’ , ‘NumberOfDependents’) some missing values are observed. Handling\n",
    "with missing values is very important to create accurate models, \n",
    "\n",
    "\n",
    "#### The variables in the following data set:\n",
    "| Variable Name              | Description                                                                                                                                              | Type       |\n",
    "| :- |-------------: | :-:\n",
    "| SeriousDlqin2yrs                     | Person experienced 90 days past due delinquency or worse                                                                                                 | Y/N        |\n",
    "| RevolvingUtilizationOfUnsecuredLines | Total balance on credit cards and personal lines of credit except real estate and no installment debt like car loans divided by the sum of credit limits | percentage |\n",
    "| age                                  | Age of borrower in years                                                                                                                                 | integer    |\n",
    "| NumberOfTime30-59DaysPastDueNotWorse | Number of times borrower has been 30-59 days past due but no worse in the last 2 years.                                                                  | integer    |\n",
    "| DebtRatio                            | Monthly debt payments, alimony,living costs divided by monthy gross income                                                                               | percentage |\n",
    "| MonthlyIncome                        | Monthly income                                                                                                                                           | real       |\n",
    "| NumberOfOpenCreditLinesAndLoans      | Number of Open loans (installment like car loan or mortgage) and Lines of credit (e.g. credit cards)                                                     | integer    |\n",
    "| NumberOfTimes90DaysLate              | Number of times borrower has been 90 days or more past due.                                                                                              | integer    |\n",
    "| NumberRealEstateLoansOrLines         | Number of mortgage and real estate loans including home equity lines of credit                                                                           | integer    |\n",
    "| NumberOfTime60-89DaysPastDueNotWorse | Number of times borrower has been 60-89 days past due but no worse in the last 2 years.                                                                  | integer    |\n",
    "| NumberOfDependents                   | Number of dependents in family excluding themselves (spouse, children etc.)                                                                              | integer    |\n",
    "\n"
   ]
  },
  {
   "cell_type": "markdown",
   "id": "d01a8905",
   "metadata": {},
   "source": [
    "## Python packages"
   ]
  },
  {
   "cell_type": "markdown",
   "id": "40f98b22",
   "metadata": {},
   "source": [
    "### NumPy\n",
    "NumPy is a well known general-purpose array-processing package. An extensive collection of high complexity mathematical functions make NumPy powerful to process large multi-dimensional arrays and matrices. NumPy is very useful for handling linear algebra, Fourier transforms, and random numbers.\n",
    "### Scikit-learn\n",
    "The Python library, Scikit-Learn, is built on top of the matplotlib, NumPy, and SciPy libraries. This Python ML library has several tools for data analysis and data mining tasks.\n",
    "\n",
    "### Pandas\n",
    "Pandas is a popular Python library for data analysis. It is not directly related to Machine Learning. As we know that the dataset must be prepared before training. In this case, Pandas comes handy as it was developed specifically for data extraction and preparation.\n",
    "### Matplotlib\n",
    "Matplotlib is a very popular Python library for data visualization. Like Pandas, it is not directly related to Machine Learning. It particularly comes in handy when a programmer wants to visualize the patterns in the data. It is a 2D plotting library used for creating 2D graphs and plots.\n",
    "### seaborn\n",
    "\n",
    "Seaborn is a library for making statistical graphs in Python. It is built on top of matplotlib and also integrated with pandas data structures.\n",
    "### Scikit-plot\n",
    "Scikit-plot is the result of an unartistic data scientist’s dreadful realization that visualization is one of the most crucial components in the data science process, not just a mere afterthought."
   ]
  },
  {
   "cell_type": "markdown",
   "id": "1b3f9e2f",
   "metadata": {},
   "source": [
    "## Importing Libraries"
   ]
  },
  {
   "cell_type": "code",
   "execution_count": 5,
   "id": "c91ea667",
   "metadata": {},
   "outputs": [],
   "source": [
    "import itertools\n",
    "import numpy as np\n",
    "import pandas as pd\n",
    "import matplotlib.pyplot as plt\n",
    "\n",
    "import scikitplot as skplt\n",
    "from sklearn import metrics\n",
    "from sklearn.metrics import confusion_matrix\n",
    "from sklearn.linear_model import LogisticRegression\n",
    "from sklearn.svm import LinearSVC\n",
    "from sklearn.svm import SVC\n",
    "from sklearn.metrics import f1_score\n",
    "from sklearn.metrics import precision_score\n",
    "from sklearn.tree import DecisionTreeRegressor\n",
    "from sklearn.metrics import roc_auc_score\n",
    "from sklearn.metrics import mean_squared_error, accuracy_score,confusion_matrix, roc_curve, auc,classification_report, recall_score\n",
    "# from sklearn.preprocessing import StandardScaler\n",
    "from sklearn.neighbors import KNeighborsClassifier\n",
    "from sklearn.naive_bayes import GaussianNB\n",
    "from sklearn.ensemble import RandomForestClassifier\n",
    "from sklearn.model_selection import train_test_split,RandomizedSearchCV\n",
    "from sklearn.ensemble import RandomForestClassifier,GradientBoostingClassifier\n",
    "\n",
    "from sklearn.metrics import recall_score\n",
    "%matplotlib inline\n",
    "import warnings\n",
    "warnings.filterwarnings('ignore')"
   ]
  },
  {
   "cell_type": "markdown",
   "id": "c21f4be3",
   "metadata": {},
   "source": [
    "## data analysis"
   ]
  },
  {
   "cell_type": "code",
   "execution_count": 6,
   "id": "bf9b3d84",
   "metadata": {},
   "outputs": [],
   "source": [
    "train_data = pd.read_csv(\"cs-training.csv\")\n",
    "test_data = pd.read_csv(\"cs-test.csv\")"
   ]
  },
  {
   "cell_type": "markdown",
   "id": "021cf734",
   "metadata": {},
   "source": [
    "### review data"
   ]
  },
  {
   "cell_type": "code",
   "execution_count": 7,
   "id": "ac0a33c9",
   "metadata": {},
   "outputs": [
    {
     "name": "stdout",
     "output_type": "stream",
     "text": [
      "<bound method NDFrame.describe of         Unnamed: 0  SeriousDlqin2yrs  RevolvingUtilizationOfUnsecuredLines  \\\n",
      "0                1                 1                              0.766127   \n",
      "1                2                 0                              0.957151   \n",
      "2                3                 0                              0.658180   \n",
      "3                4                 0                              0.233810   \n",
      "4                5                 0                              0.907239   \n",
      "...            ...               ...                                   ...   \n",
      "149995      149996                 0                              0.040674   \n",
      "149996      149997                 0                              0.299745   \n",
      "149997      149998                 0                              0.246044   \n",
      "149998      149999                 0                              0.000000   \n",
      "149999      150000                 0                              0.850283   \n",
      "\n",
      "        age  NumberOfTime30-59DaysPastDueNotWorse    DebtRatio  MonthlyIncome  \\\n",
      "0        45                                     2     0.802982         9120.0   \n",
      "1        40                                     0     0.121876         2600.0   \n",
      "2        38                                     1     0.085113         3042.0   \n",
      "3        30                                     0     0.036050         3300.0   \n",
      "4        49                                     1     0.024926        63588.0   \n",
      "...     ...                                   ...          ...            ...   \n",
      "149995   74                                     0     0.225131         2100.0   \n",
      "149996   44                                     0     0.716562         5584.0   \n",
      "149997   58                                     0  3870.000000            NaN   \n",
      "149998   30                                     0     0.000000         5716.0   \n",
      "149999   64                                     0     0.249908         8158.0   \n",
      "\n",
      "        NumberOfOpenCreditLinesAndLoans  NumberOfTimes90DaysLate  \\\n",
      "0                                    13                        0   \n",
      "1                                     4                        0   \n",
      "2                                     2                        1   \n",
      "3                                     5                        0   \n",
      "4                                     7                        0   \n",
      "...                                 ...                      ...   \n",
      "149995                                4                        0   \n",
      "149996                                4                        0   \n",
      "149997                               18                        0   \n",
      "149998                                4                        0   \n",
      "149999                                8                        0   \n",
      "\n",
      "        NumberRealEstateLoansOrLines  NumberOfTime60-89DaysPastDueNotWorse  \\\n",
      "0                                  6                                     0   \n",
      "1                                  0                                     0   \n",
      "2                                  0                                     0   \n",
      "3                                  0                                     0   \n",
      "4                                  1                                     0   \n",
      "...                              ...                                   ...   \n",
      "149995                             1                                     0   \n",
      "149996                             1                                     0   \n",
      "149997                             1                                     0   \n",
      "149998                             0                                     0   \n",
      "149999                             2                                     0   \n",
      "\n",
      "        NumberOfDependents  \n",
      "0                      2.0  \n",
      "1                      1.0  \n",
      "2                      0.0  \n",
      "3                      0.0  \n",
      "4                      0.0  \n",
      "...                    ...  \n",
      "149995                 0.0  \n",
      "149996                 2.0  \n",
      "149997                 0.0  \n",
      "149998                 0.0  \n",
      "149999                 0.0  \n",
      "\n",
      "[150000 rows x 12 columns]>\n",
      "<bound method NDFrame.head of         Unnamed: 0  SeriousDlqin2yrs  RevolvingUtilizationOfUnsecuredLines  \\\n",
      "0                1                 1                              0.766127   \n",
      "1                2                 0                              0.957151   \n",
      "2                3                 0                              0.658180   \n",
      "3                4                 0                              0.233810   \n",
      "4                5                 0                              0.907239   \n",
      "...            ...               ...                                   ...   \n",
      "149995      149996                 0                              0.040674   \n",
      "149996      149997                 0                              0.299745   \n",
      "149997      149998                 0                              0.246044   \n",
      "149998      149999                 0                              0.000000   \n",
      "149999      150000                 0                              0.850283   \n",
      "\n",
      "        age  NumberOfTime30-59DaysPastDueNotWorse    DebtRatio  MonthlyIncome  \\\n",
      "0        45                                     2     0.802982         9120.0   \n",
      "1        40                                     0     0.121876         2600.0   \n",
      "2        38                                     1     0.085113         3042.0   \n",
      "3        30                                     0     0.036050         3300.0   \n",
      "4        49                                     1     0.024926        63588.0   \n",
      "...     ...                                   ...          ...            ...   \n",
      "149995   74                                     0     0.225131         2100.0   \n",
      "149996   44                                     0     0.716562         5584.0   \n",
      "149997   58                                     0  3870.000000            NaN   \n",
      "149998   30                                     0     0.000000         5716.0   \n",
      "149999   64                                     0     0.249908         8158.0   \n",
      "\n",
      "        NumberOfOpenCreditLinesAndLoans  NumberOfTimes90DaysLate  \\\n",
      "0                                    13                        0   \n",
      "1                                     4                        0   \n",
      "2                                     2                        1   \n",
      "3                                     5                        0   \n",
      "4                                     7                        0   \n",
      "...                                 ...                      ...   \n",
      "149995                                4                        0   \n",
      "149996                                4                        0   \n",
      "149997                               18                        0   \n",
      "149998                                4                        0   \n",
      "149999                                8                        0   \n",
      "\n",
      "        NumberRealEstateLoansOrLines  NumberOfTime60-89DaysPastDueNotWorse  \\\n",
      "0                                  6                                     0   \n",
      "1                                  0                                     0   \n",
      "2                                  0                                     0   \n",
      "3                                  0                                     0   \n",
      "4                                  1                                     0   \n",
      "...                              ...                                   ...   \n",
      "149995                             1                                     0   \n",
      "149996                             1                                     0   \n",
      "149997                             1                                     0   \n",
      "149998                             0                                     0   \n",
      "149999                             2                                     0   \n",
      "\n",
      "        NumberOfDependents  \n",
      "0                      2.0  \n",
      "1                      1.0  \n",
      "2                      0.0  \n",
      "3                      0.0  \n",
      "4                      0.0  \n",
      "...                    ...  \n",
      "149995                 0.0  \n",
      "149996                 2.0  \n",
      "149997                 0.0  \n",
      "149998                 0.0  \n",
      "149999                 0.0  \n",
      "\n",
      "[150000 rows x 12 columns]>\n"
     ]
    }
   ],
   "source": [
    "print(train_data.describe)\n",
    "print(train_data.head)"
   ]
  },
  {
   "cell_type": "code",
   "execution_count": 8,
   "id": "f6da35be",
   "metadata": {},
   "outputs": [
    {
     "data": {
      "text/plain": [
       "(150000, 12)"
      ]
     },
     "execution_count": 8,
     "metadata": {},
     "output_type": "execute_result"
    }
   ],
   "source": [
    "train_data.shape\n"
   ]
  },
  {
   "cell_type": "markdown",
   "id": "fb3f8783",
   "metadata": {},
   "source": [
    "### print columns headers of the dataset"
   ]
  },
  {
   "cell_type": "code",
   "execution_count": 9,
   "id": "c85352a3",
   "metadata": {},
   "outputs": [
    {
     "data": {
      "text/plain": [
       "Index(['Unnamed: 0', 'SeriousDlqin2yrs',\n",
       "       'RevolvingUtilizationOfUnsecuredLines', 'age',\n",
       "       'NumberOfTime30-59DaysPastDueNotWorse', 'DebtRatio', 'MonthlyIncome',\n",
       "       'NumberOfOpenCreditLinesAndLoans', 'NumberOfTimes90DaysLate',\n",
       "       'NumberRealEstateLoansOrLines', 'NumberOfTime60-89DaysPastDueNotWorse',\n",
       "       'NumberOfDependents'],\n",
       "      dtype='object')"
      ]
     },
     "execution_count": 9,
     "metadata": {},
     "output_type": "execute_result"
    }
   ],
   "source": [
    "train_data.columns"
   ]
  },
  {
   "cell_type": "markdown",
   "id": "66da44ba",
   "metadata": {},
   "source": [
    "### drop lines with missing data"
   ]
  },
  {
   "cell_type": "code",
   "execution_count": 10,
   "id": "a2de073c",
   "metadata": {},
   "outputs": [],
   "source": [
    "train_data.dropna(axis=1)\n",
    "cols_with_missing = [col for col in train_data.columns\n",
    "                         if train_data[col].isnull().any()]\n",
    "reduced_train_data = train_data.drop(cols_with_missing, axis=1)\n",
    "reduced_test_data = test_data.drop(cols_with_missing,axis=1)"
   ]
  },
  {
   "cell_type": "code",
   "execution_count": 11,
   "id": "cafa0e03",
   "metadata": {},
   "outputs": [
    {
     "data": {
      "text/plain": [
       "Index(['Unnamed: 0', 'SeriousDlqin2yrs',\n",
       "       'RevolvingUtilizationOfUnsecuredLines', 'age',\n",
       "       'NumberOfTime30-59DaysPastDueNotWorse', 'DebtRatio',\n",
       "       'NumberOfOpenCreditLinesAndLoans', 'NumberOfTimes90DaysLate',\n",
       "       'NumberRealEstateLoansOrLines', 'NumberOfTime60-89DaysPastDueNotWorse'],\n",
       "      dtype='object')"
      ]
     },
     "execution_count": 11,
     "metadata": {},
     "output_type": "execute_result"
    }
   ],
   "source": [
    "reduced_train_data.columns"
   ]
  },
  {
   "cell_type": "code",
   "execution_count": null,
   "id": "578b30c4",
   "metadata": {},
   "outputs": [],
   "source": []
  },
  {
   "cell_type": "markdown",
   "id": "c299887e",
   "metadata": {},
   "source": [
    "## Applying Machine Learning Algorithms for Classification Problem"
   ]
  },
  {
   "cell_type": "markdown",
   "id": "5a4297c2",
   "metadata": {},
   "source": [
    "## logistic-regression"
   ]
  },
  {
   "cell_type": "markdown",
   "id": "167af5cd",
   "metadata": {},
   "source": [
    " Logistic regression is one of the most popular Machine Learning algorithms, which comes under the Supervised Learning technique. It is used for predicting the categorical dependent variable using a given set of independent variables."
   ]
  },
  {
   "cell_type": "markdown",
   "id": "bc8760d6",
   "metadata": {},
   "source": [
    "### specify the target variable"
   ]
  },
  {
   "cell_type": "code",
   "execution_count": 12,
   "id": "672a3c0c",
   "metadata": {},
   "outputs": [],
   "source": [
    "train_y = reduced_train_data.SeriousDlqin2yrs\n",
    "test_y = reduced_test_data.SeriousDlqin2yrs"
   ]
  },
  {
   "cell_type": "markdown",
   "id": "0c15df64",
   "metadata": {},
   "source": [
    "### create list of features"
   ]
  },
  {
   "cell_type": "code",
   "execution_count": 13,
   "id": "e2df0e3d",
   "metadata": {},
   "outputs": [],
   "source": [
    "feature_names = ['RevolvingUtilizationOfUnsecuredLines', 'age',\n",
    "       'NumberOfTime30-59DaysPastDueNotWorse', 'DebtRatio',\n",
    "       'NumberOfOpenCreditLinesAndLoans', 'NumberOfTimes90DaysLate',\n",
    "       'NumberRealEstateLoansOrLines', 'NumberOfTime60-89DaysPastDueNotWorse']\n",
    "#create data corresponding to the features\n",
    "train_X = reduced_train_data[feature_names]\n",
    "test_X = reduced_test_data[feature_names]"
   ]
  },
  {
   "cell_type": "markdown",
   "id": "3c208eef",
   "metadata": {},
   "source": [
    "### Spiliting Dataset into train and test set."
   ]
  },
  {
   "cell_type": "code",
   "execution_count": 14,
   "id": "624c75ec",
   "metadata": {},
   "outputs": [],
   "source": [
    "x_train, x_test, y_train, y_test = train_test_split(train_X, train_y, test_size = 0.3, random_state = 0)"
   ]
  },
  {
   "cell_type": "code",
   "execution_count": 15,
   "id": "1dc886ea",
   "metadata": {},
   "outputs": [
    {
     "data": {
      "text/plain": [
       "LogisticRegression(random_state=1)"
      ]
     },
     "execution_count": 15,
     "metadata": {},
     "output_type": "execute_result"
    }
   ],
   "source": [
    "#specify the model, set any numeric valye as parameter to ensure reproducibility \n",
    "credit_model = LogisticRegression(random_state=1)\n",
    "\n",
    "#fit the model\n",
    "credit_model.fit(x_train,y_train)"
   ]
  },
  {
   "cell_type": "markdown",
   "id": "addfe249",
   "metadata": {},
   "source": [
    "### Make predictions"
   ]
  },
  {
   "cell_type": "code",
   "execution_count": 16,
   "id": "8092c6d2",
   "metadata": {},
   "outputs": [],
   "source": [
    "predictions_train = credit_model.predict(x_train)\n",
    "y_pred = credit_model.predict(x_test)"
   ]
  },
  {
   "cell_type": "code",
   "execution_count": 17,
   "id": "dab64706",
   "metadata": {},
   "outputs": [
    {
     "name": "stdout",
     "output_type": "stream",
     "text": [
      "[0 0 0 ... 0 0 0]\n",
      "[0 0 0 ... 0 0 0]\n",
      "(45000,)\n",
      "int64\n",
      "(45000,)\n",
      "int64\n"
     ]
    }
   ],
   "source": [
    "#this section investigates resulting data, I had to do this because confusion matrix was throwing errors\n",
    "print(predictions_train)\n",
    "print(y_pred)\n",
    "print(y_pred.shape)\n",
    "print(y_pred.dtype)\n",
    "print(y_test.shape)\n",
    "print(y_test.dtype)"
   ]
  },
  {
   "cell_type": "code",
   "execution_count": 18,
   "id": "115b734f",
   "metadata": {},
   "outputs": [],
   "source": [
    "y_predi = y_pred.astype(int) #converting float to int"
   ]
  },
  {
   "cell_type": "markdown",
   "id": "3cd60966",
   "metadata": {},
   "source": [
    "### create confuson matrics in text view"
   ]
  },
  {
   "cell_type": "code",
   "execution_count": 19,
   "id": "78a878ff",
   "metadata": {},
   "outputs": [
    {
     "data": {
      "text/plain": [
       "(41858, 107, 2898, 137)"
      ]
     },
     "execution_count": 19,
     "metadata": {},
     "output_type": "execute_result"
    }
   ],
   "source": [
    "tn, fp, fn, tp = confusion_matrix( y_test,y_predi).ravel()\n",
    "(tn, fp, fn, tp)"
   ]
  },
  {
   "cell_type": "markdown",
   "id": "d3d4979f",
   "metadata": {},
   "source": [
    "### consusion matrix "
   ]
  },
  {
   "cell_type": "code",
   "execution_count": 20,
   "id": "5e25e5a5",
   "metadata": {},
   "outputs": [
    {
     "data": {
      "text/plain": [
       "<AxesSubplot:title={'center':'Confusion Matrix'}, xlabel='Predicted label', ylabel='True label'>"
      ]
     },
     "execution_count": 20,
     "metadata": {},
     "output_type": "execute_result"
    },
    {
     "data": {
      "image/png": "[encoded data removed]",
      "text/plain": [
       "<Figure size 432x432 with 2 Axes>"
      ]
     },
     "metadata": {
      "needs_background": "light"
     },
     "output_type": "display_data"
    }
   ],
   "source": [
    "skplt.metrics.plot_confusion_matrix(y_test,y_predi,figsize=(6,6))"
   ]
  },
  {
   "cell_type": "markdown",
   "id": "8dd93b00",
   "metadata": {},
   "source": [
    "### calculating  ROC"
   ]
  },
  {
   "cell_type": "code",
   "execution_count": 21,
   "id": "26b53ab5",
   "metadata": {},
   "outputs": [
    {
     "name": "stdout",
     "output_type": "stream",
     "text": [
      "[0.         0.00254974 1.        ]\n",
      "(3,)\n",
      "[0.         0.04514003 1.        ]\n",
      "(3,)\n",
      "[2 1 0]\n"
     ]
    }
   ],
   "source": [
    "fpr, tpr, thresholds = metrics.roc_curve(y_test, y_predi)\n",
    "print(fpr)\n",
    "print(fpr.shape)\n",
    "print(tpr)\n",
    "print(tpr.shape)\n",
    "print(thresholds)"
   ]
  },
  {
   "cell_type": "code",
   "execution_count": null,
   "id": "2cceb407",
   "metadata": {},
   "outputs": [],
   "source": []
  },
  {
   "cell_type": "markdown",
   "id": "29249295",
   "metadata": {},
   "source": [
    "### calculating  AUC"
   ]
  },
  {
   "cell_type": "code",
   "execution_count": 22,
   "id": "efa87718",
   "metadata": {},
   "outputs": [
    {
     "name": "stdout",
     "output_type": "stream",
     "text": [
      "0.5212951445573908\n"
     ]
    }
   ],
   "source": [
    "from sklearn import metrics\n",
    "# AUC\n",
    "roc_auc = metrics.auc(fpr, tpr)\n",
    "print(roc_auc)"
   ]
  },
  {
   "cell_type": "markdown",
   "id": "c7f0f8fa",
   "metadata": {},
   "source": [
    "### Plotting ROC"
   ]
  },
  {
   "cell_type": "code",
   "execution_count": 23,
   "id": "52c66eb5",
   "metadata": {},
   "outputs": [
    {
     "data": {
      "image/png": "[encoded data removed]",
      "text/plain": [
       "<Figure size 432x288 with 1 Axes>"
      ]
     },
     "metadata": {
      "needs_background": "light"
     },
     "output_type": "display_data"
    }
   ],
   "source": [
    "plt.title('Receiver Operating Characteristic')\n",
    "plt.plot(fpr, tpr, 'b', label = 'AUC = %0.2f' % roc_auc)\n",
    "plt.legend(loc = 'lower right')\n",
    "plt.plot([0, 1], [0, 1],'r--')\n",
    "plt.xlim([0, 1])\n",
    "plt.ylim([0, 1])\n",
    "plt.ylabel('True Positive Rate')\n",
    "plt.xlabel('False Positive Rate')\n",
    "plt.show()"
   ]
  },
  {
   "cell_type": "markdown",
   "id": "a34d27ef",
   "metadata": {},
   "source": [
    "### Calculate F1 score"
   ]
  },
  {
   "cell_type": "code",
   "execution_count": 24,
   "id": "45932f8f",
   "metadata": {},
   "outputs": [
    {
     "data": {
      "text/plain": [
       "0.0835620616041476"
      ]
     },
     "execution_count": 24,
     "metadata": {},
     "output_type": "execute_result"
    }
   ],
   "source": [
    "#calculate F1 score\n",
    "from sklearn.metrics import f1_score\n",
    "f1_score(y_test, y_predi) "
   ]
  },
  {
   "cell_type": "markdown",
   "id": "b008dc11",
   "metadata": {},
   "source": [
    "### Accuracy score"
   ]
  },
  {
   "cell_type": "code",
   "execution_count": 25,
   "id": "65dbbeb8",
   "metadata": {},
   "outputs": [
    {
     "data": {
      "text/plain": [
       "0.9332222222222222"
      ]
     },
     "execution_count": 25,
     "metadata": {},
     "output_type": "execute_result"
    }
   ],
   "source": [
    "accuracy_score(y_test, y_predi) \n"
   ]
  },
  {
   "cell_type": "code",
   "execution_count": 26,
   "id": "accce5c9",
   "metadata": {},
   "outputs": [],
   "source": [
    "form = []\n",
    "form.append(['Logistic Regression',accuracy_score(y_test, y_predi)])"
   ]
  },
  {
   "cell_type": "markdown",
   "id": "1993f05c",
   "metadata": {},
   "source": [
    "### Precision"
   ]
  },
  {
   "cell_type": "code",
   "execution_count": 27,
   "id": "de32cbff",
   "metadata": {},
   "outputs": [
    {
     "data": {
      "text/plain": [
       "0.5614754098360656"
      ]
     },
     "execution_count": 27,
     "metadata": {},
     "output_type": "execute_result"
    }
   ],
   "source": [
    "precision_score(y_test, y_predi)"
   ]
  },
  {
   "cell_type": "markdown",
   "id": "2ec72ad5",
   "metadata": {},
   "source": [
    "### Recall"
   ]
  },
  {
   "cell_type": "code",
   "execution_count": 28,
   "id": "41782ce6",
   "metadata": {},
   "outputs": [
    {
     "data": {
      "text/plain": [
       "0.04514003294892916"
      ]
     },
     "execution_count": 28,
     "metadata": {},
     "output_type": "execute_result"
    }
   ],
   "source": [
    "\n",
    "recall_score(y_test, y_predi)"
   ]
  },
  {
   "cell_type": "markdown",
   "id": "ee42975e",
   "metadata": {},
   "source": [
    "### Cost-sensitive accuracy"
   ]
  },
  {
   "cell_type": "code",
   "execution_count": 29,
   "id": "1640094d",
   "metadata": {},
   "outputs": [
    {
     "name": "stdout",
     "output_type": "stream",
     "text": [
      "0.9974585530378605\n"
     ]
    }
   ],
   "source": [
    "fp_cost = 1\n",
    "fn_cost = 0\n",
    "cost_sensitive_accuracy = (tp + tn) / (tp + tn + fp*fp_cost + fn*fn_cost)\n",
    "print(cost_sensitive_accuracy)"
   ]
  },
  {
   "cell_type": "code",
   "execution_count": 30,
   "id": "4e3a0f81",
   "metadata": {},
   "outputs": [
    {
     "data": {
      "text/html": [
       "<div>\n",
       "<style scoped>\n",
       "    .dataframe tbody tr th:only-of-type {\n",
       "        vertical-align: middle;\n",
       "    }\n",
       "\n",
       "    .dataframe tbody tr th {\n",
       "        vertical-align: top;\n",
       "    }\n",
       "\n",
       "    .dataframe thead th {\n",
       "        text-align: right;\n",
       "    }\n",
       "</style>\n",
       "<table border=\"1\" class=\"dataframe\">\n",
       "  <thead>\n",
       "    <tr style=\"text-align: right;\">\n",
       "      <th></th>\n",
       "      <th>Model</th>\n",
       "      <th>Accuracy</th>\n",
       "      <th>Precision</th>\n",
       "      <th>Recall</th>\n",
       "      <th>F1 Score</th>\n",
       "      <th>ROC_AUC</th>\n",
       "    </tr>\n",
       "  </thead>\n",
       "  <tbody>\n",
       "    <tr>\n",
       "      <th>0</th>\n",
       "      <td>Logistic Regression</td>\n",
       "      <td>0.933222</td>\n",
       "      <td>0.561475</td>\n",
       "      <td>0.04514</td>\n",
       "      <td>0.083562</td>\n",
       "      <td>0.521295</td>\n",
       "    </tr>\n",
       "  </tbody>\n",
       "</table>\n",
       "</div>"
      ],
      "text/plain": [
       "                 Model  Accuracy  Precision   Recall  F1 Score   ROC_AUC\n",
       "0  Logistic Regression  0.933222   0.561475  0.04514  0.083562  0.521295"
      ]
     },
     "execution_count": 30,
     "metadata": {},
     "output_type": "execute_result"
    }
   ],
   "source": [
    "results = pd.DataFrame([['Logistic Regression', accuracy_score(y_test, y_predi) ,precision_score(y_test, y_predi),recall_score(y_test, y_predi), f1_score(y_test, y_predi) ,roc_auc]],\n",
    "columns = ['Model', 'Accuracy', 'Precision', 'Recall', 'F1 Score','ROC_AUC'])\n",
    "results"
   ]
  },
  {
   "cell_type": "markdown",
   "id": "ed3c1304",
   "metadata": {},
   "source": [
    "## Decision Tree"
   ]
  },
  {
   "cell_type": "code",
   "execution_count": 31,
   "id": "cb48b5b6",
   "metadata": {},
   "outputs": [
    {
     "data": {
      "text/plain": [
       "DecisionTreeRegressor(random_state=1)"
      ]
     },
     "execution_count": 31,
     "metadata": {},
     "output_type": "execute_result"
    }
   ],
   "source": [
    "\n",
    "#specify the model, set any numeric valye as parameter to ensure reproducibility \n",
    "credit_model = DecisionTreeRegressor(random_state=1)\n",
    "\n",
    "#fit the model\n",
    "credit_model.fit(x_train,y_train)"
   ]
  },
  {
   "cell_type": "markdown",
   "id": "cf4453ab",
   "metadata": {},
   "source": [
    "### Make predictions"
   ]
  },
  {
   "cell_type": "code",
   "execution_count": 32,
   "id": "1a8aa82d",
   "metadata": {},
   "outputs": [],
   "source": [
    "predictions_train = credit_model.predict(x_train)\n",
    "y_pred = credit_model.predict(x_test)"
   ]
  },
  {
   "cell_type": "code",
   "execution_count": 33,
   "id": "d6352ec3",
   "metadata": {},
   "outputs": [
    {
     "name": "stdout",
     "output_type": "stream",
     "text": [
      "[0. 0. 0. ... 1. 0. 1.]\n",
      "[0. 0. 0. ... 0. 0. 0.]\n",
      "(45000,)\n",
      "float64\n",
      "(45000,)\n",
      "int64\n"
     ]
    }
   ],
   "source": [
    "#this section investigates resulting data\n",
    "print(predictions_train)\n",
    "print(y_pred)\n",
    "print(y_pred.shape)\n",
    "print(y_pred.dtype)\n",
    "print(y_test.shape)\n",
    "print(y_test.dtype)"
   ]
  },
  {
   "cell_type": "code",
   "execution_count": 34,
   "id": "a9421fff",
   "metadata": {},
   "outputs": [],
   "source": [
    "#conver float to int\n",
    "y_predi = y_pred.astype(int)"
   ]
  },
  {
   "cell_type": "markdown",
   "id": "b88eff88",
   "metadata": {},
   "source": [
    "### create confusion matrics in text view"
   ]
  },
  {
   "cell_type": "code",
   "execution_count": 35,
   "id": "57ce82a1",
   "metadata": {},
   "outputs": [
    {
     "data": {
      "text/plain": [
       "(39576, 2389, 2230, 805)"
      ]
     },
     "execution_count": 35,
     "metadata": {},
     "output_type": "execute_result"
    }
   ],
   "source": [
    "tn, fp, fn, tp = confusion_matrix( y_test,y_predi).ravel()\n",
    "(tn, fp, fn, tp)"
   ]
  },
  {
   "cell_type": "markdown",
   "id": "75cd3f67",
   "metadata": {},
   "source": [
    "### Plotting Cunfusion Matrix"
   ]
  },
  {
   "cell_type": "code",
   "execution_count": 36,
   "id": "4e04e6a3",
   "metadata": {},
   "outputs": [
    {
     "data": {
      "text/plain": [
       "<AxesSubplot:title={'center':'Confusion Matrix'}, xlabel='Predicted label', ylabel='True label'>"
      ]
     },
     "execution_count": 36,
     "metadata": {},
     "output_type": "execute_result"
    },
    {
     "data": {
      "image/png": "[encoded data removed]",
      "text/plain": [
       "<Figure size 432x432 with 2 Axes>"
      ]
     },
     "metadata": {
      "needs_background": "light"
     },
     "output_type": "display_data"
    }
   ],
   "source": [
    "skplt.metrics.plot_confusion_matrix(y_test,y_predi,figsize=(6,6))"
   ]
  },
  {
   "cell_type": "markdown",
   "id": "c0856938",
   "metadata": {},
   "source": [
    "### ROC"
   ]
  },
  {
   "cell_type": "code",
   "execution_count": 37,
   "id": "7fd2938d",
   "metadata": {},
   "outputs": [
    {
     "name": "stdout",
     "output_type": "stream",
     "text": [
      "[0.         0.05692839 1.        ]\n",
      "(3,)\n",
      "[0.         0.26523888 1.        ]\n",
      "(3,)\n",
      "[2 1 0]\n"
     ]
    }
   ],
   "source": [
    "fpr, tpr, thresholds = metrics.roc_curve(y_test, y_predi)\n",
    "print(fpr)\n",
    "print(fpr.shape)\n",
    "print(tpr)\n",
    "print(tpr.shape)\n",
    "print(thresholds)"
   ]
  },
  {
   "cell_type": "markdown",
   "id": "3340d75b",
   "metadata": {},
   "source": [
    "### AUC"
   ]
  },
  {
   "cell_type": "code",
   "execution_count": 38,
   "id": "a8db161a",
   "metadata": {},
   "outputs": [
    {
     "data": {
      "text/plain": [
       "0.6041552435140997"
      ]
     },
     "execution_count": 38,
     "metadata": {},
     "output_type": "execute_result"
    }
   ],
   "source": [
    "roc_auc = metrics.auc(fpr, tpr)\n",
    "roc_auc"
   ]
  },
  {
   "cell_type": "markdown",
   "id": "614ab961",
   "metadata": {},
   "source": [
    "### Plotting "
   ]
  },
  {
   "cell_type": "code",
   "execution_count": 39,
   "id": "1d2cc92b",
   "metadata": {},
   "outputs": [
    {
     "data": {
      "image/png": "[encoded data removed]",
      "text/plain": [
       "<Figure size 432x288 with 1 Axes>"
      ]
     },
     "metadata": {
      "needs_background": "light"
     },
     "output_type": "display_data"
    }
   ],
   "source": [
    "plt.title('Receiver Operating Characteristic')\n",
    "plt.plot(fpr, tpr, 'b', label = 'AUC = %0.2f' % roc_auc)\n",
    "plt.legend(loc = 'lower right')\n",
    "plt.plot([0, 1], [0, 1],'r--')\n",
    "plt.xlim([0, 1])\n",
    "plt.ylim([0, 1])\n",
    "plt.ylabel('True Positive Rate')\n",
    "plt.xlabel('False Positive Rate')\n",
    "plt.show()"
   ]
  },
  {
   "cell_type": "markdown",
   "id": "d1d72da9",
   "metadata": {},
   "source": [
    "### F1 score"
   ]
  },
  {
   "cell_type": "code",
   "execution_count": 40,
   "id": "407fda33",
   "metadata": {},
   "outputs": [
    {
     "data": {
      "text/plain": [
       "0.2584684540054583"
      ]
     },
     "execution_count": 40,
     "metadata": {},
     "output_type": "execute_result"
    }
   ],
   "source": [
    "f1_score=f1_score(y_test, y_predi)\n",
    "f1_score"
   ]
  },
  {
   "cell_type": "markdown",
   "id": "699294c2",
   "metadata": {},
   "source": [
    "### Accuracy score"
   ]
  },
  {
   "cell_type": "code",
   "execution_count": 41,
   "id": "cc5cb384",
   "metadata": {},
   "outputs": [
    {
     "data": {
      "text/plain": [
       "0.8973555555555556"
      ]
     },
     "execution_count": 41,
     "metadata": {},
     "output_type": "execute_result"
    }
   ],
   "source": [
    "a_score=accuracy_score(y_test, y_predi) \n",
    "a_score"
   ]
  },
  {
   "cell_type": "markdown",
   "id": "02fb3c08",
   "metadata": {},
   "source": [
    "### Precision"
   ]
  },
  {
   "cell_type": "code",
   "execution_count": 42,
   "id": "133f012d",
   "metadata": {},
   "outputs": [
    {
     "data": {
      "text/plain": [
       "0.252035065748278"
      ]
     },
     "execution_count": 42,
     "metadata": {},
     "output_type": "execute_result"
    }
   ],
   "source": [
    "p_score=precision_score(y_test, y_predi)\n",
    "p_score"
   ]
  },
  {
   "cell_type": "markdown",
   "id": "15ee9e0e",
   "metadata": {},
   "source": [
    "### Recall"
   ]
  },
  {
   "cell_type": "code",
   "execution_count": 43,
   "id": "3c57bdf9",
   "metadata": {},
   "outputs": [
    {
     "data": {
      "text/plain": [
       "0.2652388797364086"
      ]
     },
     "execution_count": 43,
     "metadata": {},
     "output_type": "execute_result"
    }
   ],
   "source": [
    "recall_score=recall_score(y_test, y_predi)\n",
    "recall_score"
   ]
  },
  {
   "cell_type": "markdown",
   "id": "414ed923",
   "metadata": {},
   "source": [
    "### cost-sensitive accuracy"
   ]
  },
  {
   "cell_type": "code",
   "execution_count": 44,
   "id": "767270dc",
   "metadata": {},
   "outputs": [
    {
     "name": "stdout",
     "output_type": "stream",
     "text": [
      "0.9441430909516015\n"
     ]
    }
   ],
   "source": [
    "fp_cost = 1\n",
    "fn_cost = 0\n",
    "cost_sensitive_accuracy = (tp + tn) / (tp + tn + fp*fp_cost + fn*fn_cost)\n",
    "print(cost_sensitive_accuracy)"
   ]
  },
  {
   "cell_type": "code",
   "execution_count": 45,
   "id": "3362fa4b",
   "metadata": {},
   "outputs": [
    {
     "data": {
      "text/html": [
       "<div>\n",
       "<style scoped>\n",
       "    .dataframe tbody tr th:only-of-type {\n",
       "        vertical-align: middle;\n",
       "    }\n",
       "\n",
       "    .dataframe tbody tr th {\n",
       "        vertical-align: top;\n",
       "    }\n",
       "\n",
       "    .dataframe thead th {\n",
       "        text-align: right;\n",
       "    }\n",
       "</style>\n",
       "<table border=\"1\" class=\"dataframe\">\n",
       "  <thead>\n",
       "    <tr style=\"text-align: right;\">\n",
       "      <th></th>\n",
       "      <th>Model</th>\n",
       "      <th>Accuracy</th>\n",
       "      <th>Precision</th>\n",
       "      <th>Recall</th>\n",
       "      <th>F1 Score</th>\n",
       "      <th>ROC_AUC</th>\n",
       "    </tr>\n",
       "  </thead>\n",
       "  <tbody>\n",
       "    <tr>\n",
       "      <th>0</th>\n",
       "      <td>Decision Tree</td>\n",
       "      <td>0.897356</td>\n",
       "      <td>0.252035</td>\n",
       "      <td>0.265239</td>\n",
       "      <td>0.258468</td>\n",
       "      <td>0.604155</td>\n",
       "    </tr>\n",
       "  </tbody>\n",
       "</table>\n",
       "</div>"
      ],
      "text/plain": [
       "           Model  Accuracy  Precision    Recall  F1 Score   ROC_AUC\n",
       "0  Decision Tree  0.897356   0.252035  0.265239  0.258468  0.604155"
      ]
     },
     "execution_count": 45,
     "metadata": {},
     "output_type": "execute_result"
    }
   ],
   "source": [
    "dt = pd.DataFrame([['Decision Tree', a_score ,p_score,recall_score, f1_score ,roc_auc]],\n",
    "columns = ['Model', 'Accuracy', 'Precision', 'Recall', 'F1 Score','ROC_AUC'])\n",
    "dt"
   ]
  },
  {
   "cell_type": "code",
   "execution_count": 46,
   "id": "61d1297b",
   "metadata": {},
   "outputs": [],
   "source": [
    "results = results.append(dt, ignore_index = True)\n"
   ]
  },
  {
   "cell_type": "markdown",
   "id": "fe81f901",
   "metadata": {},
   "source": [
    "## KNN"
   ]
  },
  {
   "cell_type": "code",
   "execution_count": 47,
   "id": "bd70b46b",
   "metadata": {},
   "outputs": [
    {
     "name": "stdout",
     "output_type": "stream",
     "text": [
      "AUC Score : 0.8885851008352439\n"
     ]
    }
   ],
   "source": [
    "model_KNN = KNeighborsClassifier()\n",
    "\n",
    "neighbors = [1,2,3,4,5,6,7,8,9,10,11,12,13,14,15,16,17,18,19,20]\n",
    "model_KNN.fit(x_train, y_train)\n",
    "knn = KNeighborsClassifier(n_neighbors = 20)\n",
    "knn.fit(x_train, y_train)\n",
    "knn_scores_proba = knn.predict_proba(x_train)\n",
    "knn_scores = knn_scores_proba[:,1]\n",
    "print(\"AUC Score :\", roc_auc_score(y_train,knn_scores))"
   ]
  },
  {
   "cell_type": "code",
   "execution_count": 48,
   "id": "6f858972",
   "metadata": {},
   "outputs": [],
   "source": [
    "# from pandas import set_option\n",
    "# from sklearn.model_selection import KFold\n",
    "# from sklearn.model_selection import StratifiedKFold\n",
    "# from sklearn.model_selection import cross_val_score\n",
    "# from sklearn.model_selection import GridSearchCV\n",
    "# from sklearn.metrics import classification_report\n",
    "# from sklearn.metrics import confusion_matrix\n",
    "# from sklearn.metrics import accuracy_score\n",
    "# from sklearn.pipeline import Pipeline\n",
    "# from sklearn.linear_model import LogisticRegression\n",
    "# from sklearn.tree import DecisionTreeClassifier\n",
    "# from sklearn.neighbors import KNeighborsClassifier\n",
    "# from sklearn.ensemble import RandomForestClassifier\n",
    "# from sklearn.ensemble import ExtraTreesClassifier"
   ]
  },
  {
   "cell_type": "code",
   "execution_count": 49,
   "id": "ca43e1c2",
   "metadata": {},
   "outputs": [
    {
     "name": "stdout",
     "output_type": "stream",
     "text": [
      "100 0.7738350327634369\n",
      "200 0.7751859427847517\n",
      "300 0.7679619931177447\n",
      "400 0.7659038529597605\n",
      "500 0.7605512399424406\n",
      "600 0.7545974826829686\n",
      "700 0.7509684209658517\n",
      "800 0.7484417959502222\n",
      "900 0.746575817967079\n",
      "1000 0.7444970911077345\n",
      "\n",
      "200 0.7751859427847517\n"
     ]
    }
   ],
   "source": [
    "scorelist = []\n",
    "n_neighbors, maxauc = -1, 0\n",
    "for k in range(100, 1000+1, 100):\n",
    "    knn = KNeighborsClassifier(n_neighbors=k)\n",
    "    knn.fit(x_train, y_train)\n",
    "    y_pred = knn.predict_proba(x_test)[:,1]\n",
    "    score = roc_auc_score(y_test, y_pred)\n",
    "    print(k, score)\n",
    "    if score > maxauc:\n",
    "        n_neighbors, maxauc = k, score\n",
    "    scorelist.append(score)\n",
    "print()\n",
    "print(n_neighbors, maxauc)"
   ]
  },
  {
   "cell_type": "code",
   "execution_count": 50,
   "id": "57a3ea44",
   "metadata": {},
   "outputs": [
    {
     "name": "stdout",
     "output_type": "stream",
     "text": [
      "320 0.7670612385664606\n",
      "330 0.7665664236161341\n",
      "340 0.766109193921113\n",
      "350 0.7660452039836289\n",
      "360 0.7663886925462126\n",
      "370 0.7666982232585365\n",
      "380 0.7665058569440172\n",
      "390 0.7664008702631497\n",
      "400 0.7659038529597605\n",
      "\n",
      "320 0.7670612385664606\n"
     ]
    }
   ],
   "source": [
    "scorelist = []\n",
    "n_neighbors, maxauc = -1, 0\n",
    "for k in range(320, 400+1, 10):\n",
    "    knn = KNeighborsClassifier(n_neighbors=k)\n",
    "    knn.fit(x_train,y_train)\n",
    "    y_pred = knn.predict_proba(x_test)[:,1]\n",
    "    score = roc_auc_score(y_test, y_pred)\n",
    "    print(k, score)\n",
    "    if score > maxauc:\n",
    "        n_neighbors, maxauc = k, score\n",
    "    scorelist.append(score)\n",
    "print()\n",
    "print(n_neighbors, maxauc)"
   ]
  },
  {
   "cell_type": "code",
   "execution_count": 51,
   "id": "9aaeacdb",
   "metadata": {},
   "outputs": [
    {
     "data": {
      "text/plain": [
       "Text(0, 0.5, 'score(AUC)')"
      ]
     },
     "execution_count": 51,
     "metadata": {},
     "output_type": "execute_result"
    },
    {
     "data": {
      "image/png": "[encoded data removed]",
      "text/plain": [
       "<Figure size 432x288 with 1 Axes>"
      ]
     },
     "metadata": {
      "needs_background": "light"
     },
     "output_type": "display_data"
    }
   ],
   "source": [
    "plt.plot(scorelist)\n",
    "plt.title('score - n_neighbors')\n",
    "plt.xlabel('n_neighbors')\n",
    "plt.ylabel('score(AUC)')"
   ]
  },
  {
   "cell_type": "code",
   "execution_count": 52,
   "id": "d4344bd3",
   "metadata": {},
   "outputs": [
    {
     "data": {
      "image/png": "[encoded data removed]",
      "text/plain": [
       "<Figure size 432x288 with 1 Axes>"
      ]
     },
     "metadata": {
      "needs_background": "light"
     },
     "output_type": "display_data"
    }
   ],
   "source": [
    "def plot_roc_curve(fpr, tpr, label=None):\n",
    "    plt.plot(fpr, tpr, linewidth=2, label=label)\n",
    "    plt.plot([0,1],[0,1], \"k--\") \n",
    "    plt.axis([0,1,0,1])\n",
    "    plt.xlabel(\"False Positive Rate\")\n",
    "    plt.ylabel(\"True Positive rate\")\n",
    "fpr_gbc, tpr_gbc, thresh_gbc = roc_curve(y_train, knn_scores)\n",
    "plot_roc_curve(fpr_gbc, tpr_gbc)"
   ]
  },
  {
   "cell_type": "code",
   "execution_count": 53,
   "id": "2e181e5d",
   "metadata": {},
   "outputs": [
    {
     "data": {
      "text/plain": [
       "<AxesSubplot:title={'center':'Confusion Matrix'}, xlabel='Predicted label', ylabel='True label'>"
      ]
     },
     "execution_count": 53,
     "metadata": {},
     "output_type": "execute_result"
    },
    {
     "data": {
      "image/png": "[encoded data removed]",
      "text/plain": [
       "<Figure size 432x432 with 2 Axes>"
      ]
     },
     "metadata": {
      "needs_background": "light"
     },
     "output_type": "display_data"
    }
   ],
   "source": [
    "skplt.metrics.plot_confusion_matrix(y_test,y_predi,figsize=(6,6))"
   ]
  },
  {
   "cell_type": "code",
   "execution_count": 54,
   "id": "c92612c1",
   "metadata": {},
   "outputs": [
    {
     "data": {
      "text/plain": [
       "0.7659038529597605"
      ]
     },
     "execution_count": 54,
     "metadata": {},
     "output_type": "execute_result"
    }
   ],
   "source": [
    "roc=roc_auc_score(y_test, y_pred)\n",
    "roc"
   ]
  },
  {
   "cell_type": "code",
   "execution_count": 51,
   "id": "4a9f298a",
   "metadata": {},
   "outputs": [
    {
     "data": {
      "text/plain": [
       "0.9331333333333334"
      ]
     },
     "execution_count": 51,
     "metadata": {},
     "output_type": "execute_result"
    }
   ],
   "source": [
    "acc=accuracy_score(y_test, y_pred.round(), normalize=True)\n",
    "acc"
   ]
  },
  {
   "cell_type": "code",
   "execution_count": 52,
   "id": "0e0dd029",
   "metadata": {},
   "outputs": [
    {
     "data": {
      "text/plain": [
       "0.6444444444444445"
      ]
     },
     "execution_count": 52,
     "metadata": {},
     "output_type": "execute_result"
    }
   ],
   "source": [
    "prec = precision_score(y_test, y_pred.round())\n",
    "prec"
   ]
  },
  {
   "cell_type": "markdown",
   "id": "ca3f9560",
   "metadata": {},
   "source": [
    "### Gaussian Naive Bayes"
   ]
  },
  {
   "cell_type": "code",
   "execution_count": 53,
   "id": "c3058620",
   "metadata": {},
   "outputs": [
    {
     "name": "stdout",
     "output_type": "stream",
     "text": [
      "0.7659084657313275\n"
     ]
    }
   ],
   "source": [
    "gaussian = GaussianNB()\n",
    "gaussian.fit(x_train, y_train)\n",
    "y_predi = gaussian.predict_proba(x_test)[:,1]\n",
    "score = roc_auc_score(y_test, y_pred)\n",
    "print(score)\n",
    "\n",
    "form.append(['GaussianNB',score])"
   ]
  },
  {
   "cell_type": "code",
   "execution_count": 54,
   "id": "5528acff",
   "metadata": {},
   "outputs": [
    {
     "name": "stdout",
     "output_type": "stream",
     "text": [
      "[0.00000000e+00 0.00000000e+00 0.00000000e+00 2.38293816e-05\n",
      " 9.53175265e-05 1.90635053e-04 3.09781961e-04 4.05099488e-04\n",
      " 5.00417014e-04 6.67222686e-04 6.67222686e-04 6.91052067e-04\n",
      " 6.91052067e-04 7.14881449e-04 7.14881449e-04 7.62540212e-04\n",
      " 7.62540212e-04 7.62540212e-04 7.62540212e-04 8.10198975e-04\n",
      " 8.10198975e-04 8.34028357e-04 8.34028357e-04 8.57857739e-04\n",
      " 8.57857739e-04 8.57857739e-04 8.81687120e-04 8.81687120e-04\n",
      " 9.05516502e-04 9.05516502e-04 9.05516502e-04 9.53175265e-04\n",
      " 9.53175265e-04 9.77004647e-04 9.77004647e-04 1.00083403e-03\n",
      " 1.02466341e-03 1.04849279e-03 1.07232217e-03 1.11998094e-03\n",
      " 1.11998094e-03 1.16763970e-03 1.19146908e-03 1.23912784e-03\n",
      " 1.28678661e-03 1.31061599e-03 1.33444537e-03 1.35827475e-03\n",
      " 1.45359228e-03 1.54890981e-03 1.64422733e-03 1.66805671e-03\n",
      " 1.71571548e-03 1.73954486e-03 1.83486239e-03 1.88252115e-03\n",
      " 1.93017991e-03 1.95400929e-03 2.02549744e-03 2.02549744e-03\n",
      " 2.12081496e-03 2.19230311e-03 2.31145002e-03 2.35910878e-03\n",
      " 2.50208507e-03 2.54974383e-03 2.64506136e-03 2.78803765e-03\n",
      " 2.85952580e-03 2.90718456e-03 3.00250209e-03 3.19313714e-03\n",
      " 3.26462528e-03 3.26462528e-03 3.31228405e-03 3.43143095e-03\n",
      " 3.55057786e-03 3.59823663e-03 3.66972477e-03 3.71738353e-03\n",
      " 3.83653044e-03 3.97950673e-03 4.09865364e-03 4.17014178e-03\n",
      " 4.31311807e-03 4.45609436e-03 4.64672942e-03 4.83736447e-03\n",
      " 5.00417014e-03 5.12331705e-03 5.29012272e-03 5.45692839e-03\n",
      " 5.52841654e-03 5.62373406e-03 5.79053974e-03 6.00500417e-03\n",
      " 6.24329799e-03 6.45776242e-03 6.60073871e-03 6.69605624e-03\n",
      " 6.81520315e-03 7.00583820e-03 7.22030263e-03 7.38710830e-03\n",
      " 7.50625521e-03 7.88752532e-03 8.10198975e-03 8.41177171e-03\n",
      " 8.57857739e-03 8.81687120e-03 8.95984749e-03 9.36494698e-03\n",
      " 9.65089956e-03 1.01274872e-02 1.04849279e-02 1.08423686e-02\n",
      " 1.11283212e-02 1.15810795e-02 1.18670321e-02 1.21291552e-02\n",
      " 1.24865960e-02 1.30108424e-02 1.33206243e-02 1.43929465e-02\n",
      " 1.52508042e-02 1.61563207e-02 1.65137615e-02 1.72286429e-02\n",
      " 1.81341594e-02 1.86107471e-02 1.96354105e-02 2.02549744e-02\n",
      " 2.09698558e-02 2.18992017e-02 2.29238651e-02 2.39723579e-02\n",
      " 2.51638270e-02 2.62599786e-02 2.78803765e-02 2.97390683e-02\n",
      " 3.17407363e-02 3.35755987e-02 3.61015132e-02 3.92946503e-02\n",
      " 4.21303467e-02 4.47515787e-02 4.79447158e-02 5.21386870e-02\n",
      " 5.58084118e-02 5.97879185e-02 6.40057191e-02 6.87715954e-02\n",
      " 7.40378887e-02 7.95186465e-02 8.62147027e-02 9.25771476e-02\n",
      " 1.00679137e-01 1.09210056e-01 1.18146074e-01 1.28106756e-01\n",
      " 1.40140593e-01 1.54128440e-01 1.68402240e-01 1.84653878e-01\n",
      " 2.03836530e-01 2.23257476e-01 2.45776242e-01 2.70368164e-01\n",
      " 2.98915763e-01 3.25080424e-01 3.53818658e-01 3.86417252e-01\n",
      " 4.20064339e-01 4.55379483e-01 4.94269034e-01 5.34874300e-01\n",
      " 5.73287263e-01 6.18634576e-01 6.61217681e-01 7.07256047e-01\n",
      " 7.52698677e-01 7.94972000e-01 8.35720243e-01 8.77564637e-01\n",
      " 9.22363875e-01 9.58060288e-01 9.82318599e-01 9.96830692e-01\n",
      " 1.00000000e+00]\n",
      "(189,)\n",
      "[0.00000000e+00 3.29489292e-04 6.58978583e-04 1.31795717e-03\n",
      " 2.96540362e-03 4.28336079e-03 5.93080725e-03 9.88467875e-03\n",
      " 1.28500824e-02 1.35090610e-02 1.44975288e-02 1.44975288e-02\n",
      " 1.54859967e-02 1.61449753e-02 1.68039539e-02 1.68039539e-02\n",
      " 1.77924217e-02 1.87808896e-02 1.91103789e-02 1.91103789e-02\n",
      " 2.14168040e-02 2.14168040e-02 2.17462932e-02 2.24052718e-02\n",
      " 2.30642504e-02 2.33937397e-02 2.37232290e-02 2.43822076e-02\n",
      " 2.43822076e-02 2.53706755e-02 2.60296540e-02 2.66886326e-02\n",
      " 2.70181219e-02 2.70181219e-02 2.80065898e-02 2.86655684e-02\n",
      " 2.86655684e-02 2.93245470e-02 2.96540362e-02 3.03130148e-02\n",
      " 3.06425041e-02 3.16309720e-02 3.22899506e-02 3.29489292e-02\n",
      " 3.32784185e-02 3.36079077e-02 3.52553542e-02 3.52553542e-02\n",
      " 3.62438221e-02 3.69028007e-02 3.82207578e-02 3.92092257e-02\n",
      " 3.98682043e-02 4.08566722e-02 4.18451400e-02 4.31630972e-02\n",
      " 4.38220758e-02 4.48105437e-02 4.57990115e-02 4.67874794e-02\n",
      " 4.74464580e-02 4.87644152e-02 4.94233937e-02 5.00823723e-02\n",
      " 5.07413509e-02 5.10708402e-02 5.23887974e-02 5.23887974e-02\n",
      " 5.40362438e-02 5.50247117e-02 5.76606260e-02 5.86490939e-02\n",
      " 6.09555189e-02 6.19439868e-02 6.29324547e-02 6.58978583e-02\n",
      " 6.75453048e-02 6.95222405e-02 7.14991763e-02 7.24876442e-02\n",
      " 7.31466227e-02 7.34761120e-02 7.51235585e-02 7.64415157e-02\n",
      " 7.77594728e-02 7.87479407e-02 7.97364086e-02 8.10543657e-02\n",
      " 8.36902801e-02 8.46787479e-02 8.73146623e-02 8.89621087e-02\n",
      " 9.09390445e-02 9.22570016e-02 9.32454695e-02 9.52224053e-02\n",
      " 9.81878089e-02 1.00494234e-01 1.03459638e-01 1.06425041e-01\n",
      " 1.07084020e-01 1.10378913e-01 1.12685338e-01 1.14003295e-01\n",
      " 1.15650741e-01 1.18616145e-01 1.22240527e-01 1.25205931e-01\n",
      " 1.26853377e-01 1.30807249e-01 1.33772652e-01 1.36079077e-01\n",
      " 1.39703460e-01 1.42009885e-01 1.44975288e-01 1.49588138e-01\n",
      " 1.52553542e-01 1.56507414e-01 1.60790774e-01 1.64744646e-01\n",
      " 1.67710049e-01 1.70675453e-01 1.73970346e-01 1.77924217e-01\n",
      " 1.81878089e-01 1.85502471e-01 1.90774300e-01 1.96375618e-01\n",
      " 1.98682043e-01 2.03294893e-01 2.09225700e-01 2.12520593e-01\n",
      " 2.16803954e-01 2.21087315e-01 2.28006590e-01 2.33937397e-01\n",
      " 2.38550247e-01 2.44810544e-01 2.49423394e-01 2.57001647e-01\n",
      " 2.65568369e-01 2.72158155e-01 2.79406919e-01 2.86326194e-01\n",
      " 2.96869852e-01 3.07084020e-01 3.16309720e-01 3.25205931e-01\n",
      " 3.36079077e-01 3.47940692e-01 3.58813839e-01 3.66392092e-01\n",
      " 3.74958814e-01 3.88467875e-01 3.99670511e-01 4.13838550e-01\n",
      " 4.27018122e-01 4.42504119e-01 4.58319605e-01 4.70840198e-01\n",
      " 4.95222405e-01 5.14991763e-01 5.32784185e-01 5.54530478e-01\n",
      " 5.77265239e-01 6.01976936e-01 6.26029654e-01 6.46457990e-01\n",
      " 6.78418451e-01 7.02141680e-01 7.32454695e-01 7.63756178e-01\n",
      " 7.90115321e-01 8.09225700e-01 8.32619440e-01 8.56672158e-01\n",
      " 8.82701812e-01 9.00823723e-01 9.16968699e-01 9.37726524e-01\n",
      " 9.47940692e-01 9.61120264e-01 9.71663921e-01 9.82537068e-01\n",
      " 9.88797364e-01 9.93410214e-01 9.96705107e-01 9.99670511e-01\n",
      " 1.00000000e+00]\n",
      "(189,)\n",
      "[1.635  0.635  0.605  0.6025 0.6    0.595  0.5925 0.59   0.5875 0.585\n",
      " 0.5525 0.5425 0.5225 0.52   0.5175 0.515  0.5075 0.505  0.5025 0.4925\n",
      " 0.465  0.4625 0.45   0.445  0.4375 0.4325 0.4275 0.425  0.4225 0.4125\n",
      " 0.4075 0.405  0.4    0.3975 0.395  0.39   0.3875 0.385  0.38   0.3775\n",
      " 0.375  0.3725 0.37   0.3675 0.365  0.3625 0.36   0.3575 0.355  0.35\n",
      " 0.3475 0.345  0.3425 0.34   0.3375 0.3325 0.33   0.3275 0.325  0.3225\n",
      " 0.32   0.3175 0.315  0.3125 0.31   0.3075 0.305  0.3025 0.3    0.2975\n",
      " 0.295  0.2925 0.29   0.2875 0.285  0.2825 0.28   0.2775 0.275  0.2725\n",
      " 0.27   0.2675 0.265  0.2625 0.26   0.2575 0.255  0.2525 0.25   0.2475\n",
      " 0.245  0.2425 0.24   0.2375 0.235  0.2325 0.23   0.2275 0.225  0.2225\n",
      " 0.22   0.2175 0.215  0.2125 0.21   0.2075 0.205  0.2025 0.2    0.1975\n",
      " 0.195  0.1925 0.19   0.1875 0.185  0.1825 0.18   0.1775 0.175  0.1725\n",
      " 0.17   0.1675 0.165  0.1625 0.16   0.1575 0.155  0.1525 0.15   0.1475\n",
      " 0.145  0.1425 0.14   0.1375 0.135  0.1325 0.13   0.1275 0.125  0.1225\n",
      " 0.12   0.1175 0.115  0.1125 0.11   0.1075 0.105  0.1025 0.1    0.0975\n",
      " 0.095  0.0925 0.09   0.0875 0.085  0.0825 0.08   0.0775 0.075  0.0725\n",
      " 0.07   0.0675 0.065  0.0625 0.06   0.0575 0.055  0.0525 0.05   0.0475\n",
      " 0.045  0.0425 0.04   0.0375 0.035  0.0325 0.03   0.0275 0.025  0.0225\n",
      " 0.02   0.0175 0.015  0.0125 0.01   0.0075 0.005  0.0025 0.    ]\n"
     ]
    }
   ],
   "source": [
    "fpr, tpr, thresholds = metrics.roc_curve(y_test, y_pred)\n",
    "print(fpr)\n",
    "print(fpr.shape)\n",
    "print(tpr)\n",
    "print(tpr.shape)\n",
    "print(thresholds)"
   ]
  },
  {
   "cell_type": "code",
   "execution_count": 55,
   "id": "5f642891",
   "metadata": {},
   "outputs": [
    {
     "name": "stdout",
     "output_type": "stream",
     "text": [
      "0.7659084657313275\n"
     ]
    }
   ],
   "source": [
    "roc_auc = metrics.auc(fpr, tpr)\n",
    "print(roc_auc)"
   ]
  },
  {
   "cell_type": "code",
   "execution_count": 1,
   "id": "e46c43a7",
   "metadata": {},
   "outputs": [
    {
     "ename": "NameError",
     "evalue": "name 'skplt' is not defined",
     "output_type": "error",
     "traceback": [
      "\u001b[0;31m---------------------------------------------------------------------------\u001b[0m",
      "\u001b[0;31mNameError\u001b[0m                                 Traceback (most recent call last)",
      "\u001b[0;32m/tmp/ipykernel_72454/3810299604.py\u001b[0m in \u001b[0;36m<module>\u001b[0;34m\u001b[0m\n\u001b[0;32m----> 1\u001b[0;31m \u001b[0mskplt\u001b[0m\u001b[0;34m.\u001b[0m\u001b[0mmetrics\u001b[0m\u001b[0;34m.\u001b[0m\u001b[0mplot_confusion_matrix\u001b[0m\u001b[0;34m(\u001b[0m\u001b[0my_test\u001b[0m\u001b[0;34m,\u001b[0m\u001b[0my_predi\u001b[0m\u001b[0;34m,\u001b[0m\u001b[0mfigsize\u001b[0m\u001b[0;34m=\u001b[0m\u001b[0;34m(\u001b[0m\u001b[0;36m6\u001b[0m\u001b[0;34m,\u001b[0m\u001b[0;36m6\u001b[0m\u001b[0;34m)\u001b[0m\u001b[0;34m)\u001b[0m\u001b[0;34m\u001b[0m\u001b[0;34m\u001b[0m\u001b[0m\n\u001b[0m",
      "\u001b[0;31mNameError\u001b[0m: name 'skplt' is not defined"
     ]
    }
   ],
   "source": [
    "skplt.metrics.plot_confusion_matrix(y_test,y_predi,figsize=(6,6))"
   ]
  },
  {
   "cell_type": "code",
   "execution_count": 58,
   "id": "f59d3471",
   "metadata": {},
   "outputs": [
    {
     "ename": "ValueError",
     "evalue": "Found input variables with inconsistent numbers of samples: [189, 45000]",
     "output_type": "error",
     "traceback": [
      "\u001b[0;31m---------------------------------------------------------------------------\u001b[0m",
      "\u001b[0;31mValueError\u001b[0m                                Traceback (most recent call last)",
      "\u001b[0;32m<ipython-input-58-e3c6b3c1d9cc>\u001b[0m in \u001b[0;36m<module>\u001b[0;34m\u001b[0m\n\u001b[0;32m----> 1\u001b[0;31m \u001b[0macc\u001b[0m \u001b[0;34m=\u001b[0m \u001b[0maccuracy_score\u001b[0m\u001b[0;34m(\u001b[0m\u001b[0mfpr\u001b[0m\u001b[0;34m,\u001b[0m \u001b[0my_pred\u001b[0m\u001b[0;34m)\u001b[0m\u001b[0;34m\u001b[0m\u001b[0;34m\u001b[0m\u001b[0m\n\u001b[0m\u001b[1;32m      2\u001b[0m \u001b[0macc\u001b[0m\u001b[0;34m\u001b[0m\u001b[0;34m\u001b[0m\u001b[0m\n",
      "\u001b[0;32m~/anaconda3/lib/python3.8/site-packages/sklearn/metrics/_classification.py\u001b[0m in \u001b[0;36maccuracy_score\u001b[0;34m(y_true, y_pred, normalize, sample_weight)\u001b[0m\n\u001b[1;32m    203\u001b[0m \u001b[0;34m\u001b[0m\u001b[0m\n\u001b[1;32m    204\u001b[0m     \u001b[0;31m# Compute accuracy for each possible representation\u001b[0m\u001b[0;34m\u001b[0m\u001b[0;34m\u001b[0m\u001b[0;34m\u001b[0m\u001b[0m\n\u001b[0;32m--> 205\u001b[0;31m     \u001b[0my_type\u001b[0m\u001b[0;34m,\u001b[0m \u001b[0my_true\u001b[0m\u001b[0;34m,\u001b[0m \u001b[0my_pred\u001b[0m \u001b[0;34m=\u001b[0m \u001b[0m_check_targets\u001b[0m\u001b[0;34m(\u001b[0m\u001b[0my_true\u001b[0m\u001b[0;34m,\u001b[0m \u001b[0my_pred\u001b[0m\u001b[0;34m)\u001b[0m\u001b[0;34m\u001b[0m\u001b[0;34m\u001b[0m\u001b[0m\n\u001b[0m\u001b[1;32m    206\u001b[0m     \u001b[0mcheck_consistent_length\u001b[0m\u001b[0;34m(\u001b[0m\u001b[0my_true\u001b[0m\u001b[0;34m,\u001b[0m \u001b[0my_pred\u001b[0m\u001b[0;34m,\u001b[0m \u001b[0msample_weight\u001b[0m\u001b[0;34m)\u001b[0m\u001b[0;34m\u001b[0m\u001b[0;34m\u001b[0m\u001b[0m\n\u001b[1;32m    207\u001b[0m     \u001b[0;32mif\u001b[0m \u001b[0my_type\u001b[0m\u001b[0;34m.\u001b[0m\u001b[0mstartswith\u001b[0m\u001b[0;34m(\u001b[0m\u001b[0;34m\"multilabel\"\u001b[0m\u001b[0;34m)\u001b[0m\u001b[0;34m:\u001b[0m\u001b[0;34m\u001b[0m\u001b[0;34m\u001b[0m\u001b[0m\n",
      "\u001b[0;32m~/anaconda3/lib/python3.8/site-packages/sklearn/metrics/_classification.py\u001b[0m in \u001b[0;36m_check_targets\u001b[0;34m(y_true, y_pred)\u001b[0m\n\u001b[1;32m     82\u001b[0m     \u001b[0my_pred\u001b[0m \u001b[0;34m:\u001b[0m \u001b[0marray\u001b[0m \u001b[0;32mor\u001b[0m \u001b[0mindicator\u001b[0m \u001b[0mmatrix\u001b[0m\u001b[0;34m\u001b[0m\u001b[0;34m\u001b[0m\u001b[0m\n\u001b[1;32m     83\u001b[0m     \"\"\"\n\u001b[0;32m---> 84\u001b[0;31m     \u001b[0mcheck_consistent_length\u001b[0m\u001b[0;34m(\u001b[0m\u001b[0my_true\u001b[0m\u001b[0;34m,\u001b[0m \u001b[0my_pred\u001b[0m\u001b[0;34m)\u001b[0m\u001b[0;34m\u001b[0m\u001b[0;34m\u001b[0m\u001b[0m\n\u001b[0m\u001b[1;32m     85\u001b[0m     \u001b[0mtype_true\u001b[0m \u001b[0;34m=\u001b[0m \u001b[0mtype_of_target\u001b[0m\u001b[0;34m(\u001b[0m\u001b[0my_true\u001b[0m\u001b[0;34m)\u001b[0m\u001b[0;34m\u001b[0m\u001b[0;34m\u001b[0m\u001b[0m\n\u001b[1;32m     86\u001b[0m     \u001b[0mtype_pred\u001b[0m \u001b[0;34m=\u001b[0m \u001b[0mtype_of_target\u001b[0m\u001b[0;34m(\u001b[0m\u001b[0my_pred\u001b[0m\u001b[0;34m)\u001b[0m\u001b[0;34m\u001b[0m\u001b[0;34m\u001b[0m\u001b[0m\n",
      "\u001b[0;32m~/anaconda3/lib/python3.8/site-packages/sklearn/utils/validation.py\u001b[0m in \u001b[0;36mcheck_consistent_length\u001b[0;34m(*arrays)\u001b[0m\n\u001b[1;32m    329\u001b[0m     \u001b[0muniques\u001b[0m \u001b[0;34m=\u001b[0m \u001b[0mnp\u001b[0m\u001b[0;34m.\u001b[0m\u001b[0munique\u001b[0m\u001b[0;34m(\u001b[0m\u001b[0mlengths\u001b[0m\u001b[0;34m)\u001b[0m\u001b[0;34m\u001b[0m\u001b[0;34m\u001b[0m\u001b[0m\n\u001b[1;32m    330\u001b[0m     \u001b[0;32mif\u001b[0m \u001b[0mlen\u001b[0m\u001b[0;34m(\u001b[0m\u001b[0muniques\u001b[0m\u001b[0;34m)\u001b[0m \u001b[0;34m>\u001b[0m \u001b[0;36m1\u001b[0m\u001b[0;34m:\u001b[0m\u001b[0;34m\u001b[0m\u001b[0;34m\u001b[0m\u001b[0m\n\u001b[0;32m--> 331\u001b[0;31m         raise ValueError(\n\u001b[0m\u001b[1;32m    332\u001b[0m             \u001b[0;34m\"Found input variables with inconsistent numbers of samples: %r\"\u001b[0m\u001b[0;34m\u001b[0m\u001b[0;34m\u001b[0m\u001b[0m\n\u001b[1;32m    333\u001b[0m             \u001b[0;34m%\u001b[0m \u001b[0;34m[\u001b[0m\u001b[0mint\u001b[0m\u001b[0;34m(\u001b[0m\u001b[0ml\u001b[0m\u001b[0;34m)\u001b[0m \u001b[0;32mfor\u001b[0m \u001b[0ml\u001b[0m \u001b[0;32min\u001b[0m \u001b[0mlengths\u001b[0m\u001b[0;34m]\u001b[0m\u001b[0;34m\u001b[0m\u001b[0;34m\u001b[0m\u001b[0m\n",
      "\u001b[0;31mValueError\u001b[0m: Found input variables with inconsistent numbers of samples: [189, 45000]"
     ]
    }
   ],
   "source": [
    "acc = accuracy_score(fpr, y_pred)\n",
    "acc"
   ]
  },
  {
   "cell_type": "code",
   "execution_count": null,
   "id": "356319fb",
   "metadata": {},
   "outputs": [],
   "source": [
    "prec = precision_score(y_test, y_predi)\n",
    "rec = recall_score(y_test, y_pred_nb)\n",
    "f1 = f1_score(y_test, y_pred_nb)"
   ]
  },
  {
   "cell_type": "markdown",
   "id": "c28209e9",
   "metadata": {},
   "source": [
    "### Random Forest"
   ]
  },
  {
   "cell_type": "code",
   "execution_count": null,
   "id": "25164f50",
   "metadata": {},
   "outputs": [],
   "source": [
    "\n",
    "grid = GridSearchCV(\n",
    "    estimator=RandomForestClassifier(),\n",
    "    param_grid={\n",
    "        'n_estimators':[30,50,80,100,200]\n",
    "    },\n",
    "    scoring='roc_auc',\n",
    "    verbose=3\n",
    ")\n",
    "grid.fit(x_test, y_test)\n",
    "\n",
    "for result in grid.cv_results_:\n",
    "    print(result, grid.cv_results_[result])"
   ]
  },
  {
   "cell_type": "code",
   "execution_count": null,
   "id": "08521aa4",
   "metadata": {},
   "outputs": [],
   "source": [
    "rfc = RandomForestClassifier(n_estimators=grid.best_params_['n_estimators'])\n",
    "rfc.fit(x_train, y_train)\n",
    "\n",
    "# 在子验证集上测试\n",
    "y_pred = rfc.predict_proba(x_test)[:,1]\n",
    "score = roc_auc_score(y_test, y_pred)\n",
    "print(score)"
   ]
  },
  {
   "cell_type": "code",
   "execution_count": null,
   "id": "e77c1ce4",
   "metadata": {},
   "outputs": [],
   "source": [
    "form.append(['Random FOresr',score])"
   ]
  },
  {
   "cell_type": "code",
   "execution_count": null,
   "id": "eb272535",
   "metadata": {},
   "outputs": [],
   "source": [
    "form"
   ]
  }
 ],
 "metadata": {
  "kernelspec": {
   "display_name": "Python 3 (ipykernel)",
   "language": "python",
   "name": "python3"
  },
  "language_info": {
   "codemirror_mode": {
    "name": "ipython",
    "version": 3
   },
   "file_extension": ".py",
   "mimetype": "text/x-python",
   "name": "python",
   "nbconvert_exporter": "python",
   "pygments_lexer": "ipython3",
   "version": "3.9.5"
  }
 },
 "nbformat": 4,
 "nbformat_minor": 5
}
